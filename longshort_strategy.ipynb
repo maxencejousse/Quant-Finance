{
 "cells": [
  {
   "cell_type": "code",
   "execution_count": 1,
   "id": "330f5735",
   "metadata": {
    "deletable": false,
    "editable": false
   },
   "outputs": [],
   "source": [
    "# Initialize Otter\n",
    "import otter\n",
    "grader = otter.Notebook(\"longshort_strategy.ipynb\")"
   ]
  },
  {
   "cell_type": "code",
   "execution_count": 2,
   "id": "51587bd6-7838-42e0-8da2-c857a6a4b60c",
   "metadata": {},
   "outputs": [],
   "source": [
    "import datetime as dt\n",
    "import pandas as pd\n",
    "import numpy as np\n",
    "import warnings\n",
    "import statsmodels.api as sm\n",
    "import matplotlib.pyplot as plt\n",
    "from scipy.stats import zscore\n",
    "from sklearn.metrics import mean_squared_error, r2_score\n",
    "\n",
    "warnings.filterwarnings('ignore')\n",
    "\n",
    "def isclose(value, original, tolerance= 0.05):\n",
    "    return value <= original * (1+tolerance) and value >= original * (1-tolerance)"
   ]
  },
  {
   "cell_type": "markdown",
   "id": "7c5390a7",
   "metadata": {},
   "source": [
    "In this homework, we will:\n",
    "- Introduce pandas through data cleaning and processing.\n",
    "- Implement a basic trading strategy.\n",
    "- Model the costs of a trading strategy.\n",
    "- Calculate expected returns.\n",
    "- Use expected returns to create a trading strategy.\n",
    "- Try to add predictive features/signals."
   ]
  },
  {
   "cell_type": "markdown",
   "id": "9e00eb42",
   "metadata": {},
   "source": [
    "# Pandas intro"
   ]
  },
  {
   "cell_type": "code",
   "execution_count": 3,
   "id": "453ac396",
   "metadata": {},
   "outputs": [
    {
     "name": "stdout",
     "output_type": "stream",
     "text": [
      "Collecting lxml\n",
      "  Using cached lxml-5.3.2-cp311-cp311-manylinux_2_28_x86_64.whl.metadata (3.6 kB)\n",
      "Using cached lxml-5.3.2-cp311-cp311-manylinux_2_28_x86_64.whl (5.0 MB)\n",
      "Installing collected packages: lxml\n",
      "Successfully installed lxml-5.3.2\n"
     ]
    }
   ],
   "source": [
    "!pip install lxml"
   ]
  },
  {
   "cell_type": "code",
   "execution_count": 4,
   "id": "c8c10245",
   "metadata": {},
   "outputs": [],
   "source": [
    "# list of sp500 companies, from wikipedia\n",
    "url = 'https://en.m.wikipedia.org/w/index.php?title=List_of_S%26P_500_companies&oldid=1219339331'\n",
    "\n",
    "# pandas lets us read html tables from wikipedia page\n",
    "data = pd.read_html(url)"
   ]
  },
  {
   "cell_type": "markdown",
   "id": "bdfd0b73",
   "metadata": {},
   "source": [
    "You can add cells in the notebook to perform quick operations or tests. Note that the last value in a cell will automatically be displayed below the cell once it finishes running. Let's examine the type of variable that `data` returns."
   ]
  },
  {
   "cell_type": "code",
   "execution_count": 5,
   "id": "ec3a0119",
   "metadata": {
    "scrolled": true
   },
   "outputs": [
    {
     "data": {
      "text/plain": [
       "list"
      ]
     },
     "execution_count": 5,
     "metadata": {},
     "output_type": "execute_result"
    }
   ],
   "source": [
    "type(data)"
   ]
  },
  {
   "cell_type": "markdown",
   "id": "4f82307c",
   "metadata": {},
   "source": [
    "We can access values in a list using indexing and slicing operations:\n",
    "\n",
    "- `list[i]` will return the \\(i\\)-th value in the list, starting with 0.\n",
    "- `list[i:]` will return the \\(i\\)-th value and onward.\n",
    "- `list[:i]` will return all values up to the \\(i\\)-th value.\n",
    "- `list[i:j]` will return values from the \\(i\\)-th value onward, up to but not including the \\(j\\)-th value."
   ]
  },
  {
   "cell_type": "code",
   "execution_count": 6,
   "id": "c23b6bec",
   "metadata": {},
   "outputs": [
    {
     "data": {
      "text/plain": [
       "pandas.core.frame.DataFrame"
      ]
     },
     "execution_count": 6,
     "metadata": {},
     "output_type": "execute_result"
    }
   ],
   "source": [
    "# looks like data returns a list of tables, what type is each table? \n",
    "type(data[0])"
   ]
  },
  {
   "cell_type": "code",
   "execution_count": 7,
   "id": "3ec3c39f",
   "metadata": {},
   "outputs": [
    {
     "data": {
      "text/html": [
       "<div>\n",
       "<style scoped>\n",
       "    .dataframe tbody tr th:only-of-type {\n",
       "        vertical-align: middle;\n",
       "    }\n",
       "\n",
       "    .dataframe tbody tr th {\n",
       "        vertical-align: top;\n",
       "    }\n",
       "\n",
       "    .dataframe thead th {\n",
       "        text-align: right;\n",
       "    }\n",
       "</style>\n",
       "<table border=\"1\" class=\"dataframe\">\n",
       "  <thead>\n",
       "    <tr style=\"text-align: right;\">\n",
       "      <th></th>\n",
       "      <th>Symbol</th>\n",
       "      <th>Security</th>\n",
       "      <th>GICS Sector</th>\n",
       "      <th>GICS Sub-Industry</th>\n",
       "      <th>Headquarters Location</th>\n",
       "      <th>Date added</th>\n",
       "      <th>CIK</th>\n",
       "      <th>Founded</th>\n",
       "    </tr>\n",
       "  </thead>\n",
       "  <tbody>\n",
       "    <tr>\n",
       "      <th>0</th>\n",
       "      <td>MMM</td>\n",
       "      <td>3M</td>\n",
       "      <td>Industrials</td>\n",
       "      <td>Industrial Conglomerates</td>\n",
       "      <td>Saint Paul, Minnesota</td>\n",
       "      <td>1957-03-04</td>\n",
       "      <td>66740</td>\n",
       "      <td>1902</td>\n",
       "    </tr>\n",
       "    <tr>\n",
       "      <th>1</th>\n",
       "      <td>AOS</td>\n",
       "      <td>A. O. Smith</td>\n",
       "      <td>Industrials</td>\n",
       "      <td>Building Products</td>\n",
       "      <td>Milwaukee, Wisconsin</td>\n",
       "      <td>2017-07-26</td>\n",
       "      <td>91142</td>\n",
       "      <td>1916</td>\n",
       "    </tr>\n",
       "    <tr>\n",
       "      <th>2</th>\n",
       "      <td>ABT</td>\n",
       "      <td>Abbott</td>\n",
       "      <td>Health Care</td>\n",
       "      <td>Health Care Equipment</td>\n",
       "      <td>North Chicago, Illinois</td>\n",
       "      <td>1957-03-04</td>\n",
       "      <td>1800</td>\n",
       "      <td>1888</td>\n",
       "    </tr>\n",
       "    <tr>\n",
       "      <th>3</th>\n",
       "      <td>ABBV</td>\n",
       "      <td>AbbVie</td>\n",
       "      <td>Health Care</td>\n",
       "      <td>Biotechnology</td>\n",
       "      <td>North Chicago, Illinois</td>\n",
       "      <td>2012-12-31</td>\n",
       "      <td>1551152</td>\n",
       "      <td>2013 (1888)</td>\n",
       "    </tr>\n",
       "    <tr>\n",
       "      <th>4</th>\n",
       "      <td>ACN</td>\n",
       "      <td>Accenture</td>\n",
       "      <td>Information Technology</td>\n",
       "      <td>IT Consulting &amp; Other Services</td>\n",
       "      <td>Dublin, Ireland</td>\n",
       "      <td>2011-07-06</td>\n",
       "      <td>1467373</td>\n",
       "      <td>1989</td>\n",
       "    </tr>\n",
       "    <tr>\n",
       "      <th>...</th>\n",
       "      <td>...</td>\n",
       "      <td>...</td>\n",
       "      <td>...</td>\n",
       "      <td>...</td>\n",
       "      <td>...</td>\n",
       "      <td>...</td>\n",
       "      <td>...</td>\n",
       "      <td>...</td>\n",
       "    </tr>\n",
       "    <tr>\n",
       "      <th>498</th>\n",
       "      <td>XYL</td>\n",
       "      <td>Xylem Inc.</td>\n",
       "      <td>Industrials</td>\n",
       "      <td>Industrial Machinery &amp; Supplies &amp; Components</td>\n",
       "      <td>White Plains, New York</td>\n",
       "      <td>2011-11-01</td>\n",
       "      <td>1524472</td>\n",
       "      <td>2011</td>\n",
       "    </tr>\n",
       "    <tr>\n",
       "      <th>499</th>\n",
       "      <td>YUM</td>\n",
       "      <td>Yum! Brands</td>\n",
       "      <td>Consumer Discretionary</td>\n",
       "      <td>Restaurants</td>\n",
       "      <td>Louisville, Kentucky</td>\n",
       "      <td>1997-10-06</td>\n",
       "      <td>1041061</td>\n",
       "      <td>1997</td>\n",
       "    </tr>\n",
       "    <tr>\n",
       "      <th>500</th>\n",
       "      <td>ZBRA</td>\n",
       "      <td>Zebra Technologies</td>\n",
       "      <td>Information Technology</td>\n",
       "      <td>Electronic Equipment &amp; Instruments</td>\n",
       "      <td>Lincolnshire, Illinois</td>\n",
       "      <td>2019-12-23</td>\n",
       "      <td>877212</td>\n",
       "      <td>1969</td>\n",
       "    </tr>\n",
       "    <tr>\n",
       "      <th>501</th>\n",
       "      <td>ZBH</td>\n",
       "      <td>Zimmer Biomet</td>\n",
       "      <td>Health Care</td>\n",
       "      <td>Health Care Equipment</td>\n",
       "      <td>Warsaw, Indiana</td>\n",
       "      <td>2001-08-07</td>\n",
       "      <td>1136869</td>\n",
       "      <td>1927</td>\n",
       "    </tr>\n",
       "    <tr>\n",
       "      <th>502</th>\n",
       "      <td>ZTS</td>\n",
       "      <td>Zoetis</td>\n",
       "      <td>Health Care</td>\n",
       "      <td>Pharmaceuticals</td>\n",
       "      <td>Parsippany, New Jersey</td>\n",
       "      <td>2013-06-21</td>\n",
       "      <td>1555280</td>\n",
       "      <td>1952</td>\n",
       "    </tr>\n",
       "  </tbody>\n",
       "</table>\n",
       "<p>503 rows × 8 columns</p>\n",
       "</div>"
      ],
      "text/plain": [
       "    Symbol            Security             GICS Sector  \\\n",
       "0      MMM                  3M             Industrials   \n",
       "1      AOS         A. O. Smith             Industrials   \n",
       "2      ABT              Abbott             Health Care   \n",
       "3     ABBV              AbbVie             Health Care   \n",
       "4      ACN           Accenture  Information Technology   \n",
       "..     ...                 ...                     ...   \n",
       "498    XYL          Xylem Inc.             Industrials   \n",
       "499    YUM         Yum! Brands  Consumer Discretionary   \n",
       "500   ZBRA  Zebra Technologies  Information Technology   \n",
       "501    ZBH       Zimmer Biomet             Health Care   \n",
       "502    ZTS              Zoetis             Health Care   \n",
       "\n",
       "                                GICS Sub-Industry    Headquarters Location  \\\n",
       "0                        Industrial Conglomerates    Saint Paul, Minnesota   \n",
       "1                               Building Products     Milwaukee, Wisconsin   \n",
       "2                           Health Care Equipment  North Chicago, Illinois   \n",
       "3                                   Biotechnology  North Chicago, Illinois   \n",
       "4                  IT Consulting & Other Services          Dublin, Ireland   \n",
       "..                                            ...                      ...   \n",
       "498  Industrial Machinery & Supplies & Components   White Plains, New York   \n",
       "499                                   Restaurants     Louisville, Kentucky   \n",
       "500            Electronic Equipment & Instruments   Lincolnshire, Illinois   \n",
       "501                         Health Care Equipment          Warsaw, Indiana   \n",
       "502                               Pharmaceuticals   Parsippany, New Jersey   \n",
       "\n",
       "     Date added      CIK      Founded  \n",
       "0    1957-03-04    66740         1902  \n",
       "1    2017-07-26    91142         1916  \n",
       "2    1957-03-04     1800         1888  \n",
       "3    2012-12-31  1551152  2013 (1888)  \n",
       "4    2011-07-06  1467373         1989  \n",
       "..          ...      ...          ...  \n",
       "498  2011-11-01  1524472         2011  \n",
       "499  1997-10-06  1041061         1997  \n",
       "500  2019-12-23   877212         1969  \n",
       "501  2001-08-07  1136869         1927  \n",
       "502  2013-06-21  1555280         1952  \n",
       "\n",
       "[503 rows x 8 columns]"
      ]
     },
     "execution_count": 7,
     "metadata": {},
     "output_type": "execute_result"
    }
   ],
   "source": [
    "# the dataframe is the core object of pandas, we'll abbreviate as df\n",
    "# a dataframe is essentially a code version of a table\n",
    "df = data[0]\n",
    "df"
   ]
  },
  {
   "cell_type": "code",
   "execution_count": 8,
   "id": "bb016bee",
   "metadata": {
    "tags": []
   },
   "outputs": [],
   "source": [
    "# we can look at the first n rows of a table using df.head(n)\n",
    "# please do so here\n",
    "df_head5 = df.head(5)"
   ]
  },
  {
   "cell_type": "code",
   "execution_count": 9,
   "id": "e03ea741",
   "metadata": {
    "deletable": false,
    "editable": false
   },
   "outputs": [
    {
     "data": {
      "text/html": [
       "<p><strong><pre style='display: inline;'>q1a</pre></strong> passed! 🙌</p>"
      ],
      "text/plain": [
       "q1a results: All test cases passed!"
      ]
     },
     "execution_count": 9,
     "metadata": {},
     "output_type": "execute_result"
    }
   ],
   "source": [
    "grader.check(\"q1a\")"
   ]
  },
  {
   "cell_type": "markdown",
   "id": "7b4474a4",
   "metadata": {},
   "source": [
    "In this analysis, we are not particularly interested in the columns for security, headquarters, date added, founded, or CIK values. We can select specific columns of a DataFrame by passing a list of column names:\n",
    "\n",
    "```python\n",
    "columns = ['colname1', 'colname2', ...]\n",
    "df[columns]\n",
    "```\n",
    "\n",
    "Please select every column except for security, headquarters, CIK, founded, and date added."
   ]
  },
  {
   "cell_type": "code",
   "execution_count": 10,
   "id": "f41a6ac2",
   "metadata": {
    "tags": []
   },
   "outputs": [
    {
     "data": {
      "text/html": [
       "<div>\n",
       "<style scoped>\n",
       "    .dataframe tbody tr th:only-of-type {\n",
       "        vertical-align: middle;\n",
       "    }\n",
       "\n",
       "    .dataframe tbody tr th {\n",
       "        vertical-align: top;\n",
       "    }\n",
       "\n",
       "    .dataframe thead th {\n",
       "        text-align: right;\n",
       "    }\n",
       "</style>\n",
       "<table border=\"1\" class=\"dataframe\">\n",
       "  <thead>\n",
       "    <tr style=\"text-align: right;\">\n",
       "      <th></th>\n",
       "      <th>Symbol</th>\n",
       "      <th>GICS Sector</th>\n",
       "      <th>GICS Sub-Industry</th>\n",
       "    </tr>\n",
       "  </thead>\n",
       "  <tbody>\n",
       "    <tr>\n",
       "      <th>0</th>\n",
       "      <td>MMM</td>\n",
       "      <td>Industrials</td>\n",
       "      <td>Industrial Conglomerates</td>\n",
       "    </tr>\n",
       "    <tr>\n",
       "      <th>1</th>\n",
       "      <td>AOS</td>\n",
       "      <td>Industrials</td>\n",
       "      <td>Building Products</td>\n",
       "    </tr>\n",
       "    <tr>\n",
       "      <th>2</th>\n",
       "      <td>ABT</td>\n",
       "      <td>Health Care</td>\n",
       "      <td>Health Care Equipment</td>\n",
       "    </tr>\n",
       "    <tr>\n",
       "      <th>3</th>\n",
       "      <td>ABBV</td>\n",
       "      <td>Health Care</td>\n",
       "      <td>Biotechnology</td>\n",
       "    </tr>\n",
       "    <tr>\n",
       "      <th>4</th>\n",
       "      <td>ACN</td>\n",
       "      <td>Information Technology</td>\n",
       "      <td>IT Consulting &amp; Other Services</td>\n",
       "    </tr>\n",
       "    <tr>\n",
       "      <th>...</th>\n",
       "      <td>...</td>\n",
       "      <td>...</td>\n",
       "      <td>...</td>\n",
       "    </tr>\n",
       "    <tr>\n",
       "      <th>498</th>\n",
       "      <td>XYL</td>\n",
       "      <td>Industrials</td>\n",
       "      <td>Industrial Machinery &amp; Supplies &amp; Components</td>\n",
       "    </tr>\n",
       "    <tr>\n",
       "      <th>499</th>\n",
       "      <td>YUM</td>\n",
       "      <td>Consumer Discretionary</td>\n",
       "      <td>Restaurants</td>\n",
       "    </tr>\n",
       "    <tr>\n",
       "      <th>500</th>\n",
       "      <td>ZBRA</td>\n",
       "      <td>Information Technology</td>\n",
       "      <td>Electronic Equipment &amp; Instruments</td>\n",
       "    </tr>\n",
       "    <tr>\n",
       "      <th>501</th>\n",
       "      <td>ZBH</td>\n",
       "      <td>Health Care</td>\n",
       "      <td>Health Care Equipment</td>\n",
       "    </tr>\n",
       "    <tr>\n",
       "      <th>502</th>\n",
       "      <td>ZTS</td>\n",
       "      <td>Health Care</td>\n",
       "      <td>Pharmaceuticals</td>\n",
       "    </tr>\n",
       "  </tbody>\n",
       "</table>\n",
       "<p>503 rows × 3 columns</p>\n",
       "</div>"
      ],
      "text/plain": [
       "    Symbol             GICS Sector  \\\n",
       "0      MMM             Industrials   \n",
       "1      AOS             Industrials   \n",
       "2      ABT             Health Care   \n",
       "3     ABBV             Health Care   \n",
       "4      ACN  Information Technology   \n",
       "..     ...                     ...   \n",
       "498    XYL             Industrials   \n",
       "499    YUM  Consumer Discretionary   \n",
       "500   ZBRA  Information Technology   \n",
       "501    ZBH             Health Care   \n",
       "502    ZTS             Health Care   \n",
       "\n",
       "                                GICS Sub-Industry  \n",
       "0                        Industrial Conglomerates  \n",
       "1                               Building Products  \n",
       "2                           Health Care Equipment  \n",
       "3                                   Biotechnology  \n",
       "4                  IT Consulting & Other Services  \n",
       "..                                            ...  \n",
       "498  Industrial Machinery & Supplies & Components  \n",
       "499                                   Restaurants  \n",
       "500            Electronic Equipment & Instruments  \n",
       "501                         Health Care Equipment  \n",
       "502                               Pharmaceuticals  \n",
       "\n",
       "[503 rows x 3 columns]"
      ]
     },
     "execution_count": 10,
     "metadata": {},
     "output_type": "execute_result"
    }
   ],
   "source": [
    "columns = [\"Symbol\",\"GICS Sector\", \"GICS Sub-Industry\"]\n",
    "df[columns]"
   ]
  },
  {
   "cell_type": "code",
   "execution_count": 11,
   "id": "965990c2",
   "metadata": {
    "deletable": false,
    "editable": false
   },
   "outputs": [
    {
     "data": {
      "text/html": [
       "<p><strong><pre style='display: inline;'>q1b</pre></strong> passed! 🍀</p>"
      ],
      "text/plain": [
       "q1b results: All test cases passed!"
      ]
     },
     "execution_count": 11,
     "metadata": {},
     "output_type": "execute_result"
    }
   ],
   "source": [
    "grader.check(\"q1b\")"
   ]
  },
  {
   "cell_type": "markdown",
   "id": "567c7da8",
   "metadata": {},
   "source": [
    "It appears there are quite a few sectors! In a DataFrame, one column is referred to as a series. We can select a series using `df['colname']`. By using `series.unique()`, we can obtain a list of the unique values within a series.\n",
    "\n",
    "Please return the number of unique values in the 'GICS Sector' column. Note that you can programmatically access the length of this array using `.size`."
   ]
  },
  {
   "cell_type": "code",
   "execution_count": 12,
   "id": "ea4ef579",
   "metadata": {
    "tags": []
   },
   "outputs": [
    {
     "data": {
      "text/plain": [
       "11"
      ]
     },
     "execution_count": 12,
     "metadata": {},
     "output_type": "execute_result"
    }
   ],
   "source": [
    "unique_sectors = len(df[\"GICS Sector\"].unique())\n",
    "unique_sectors"
   ]
  },
  {
   "cell_type": "code",
   "execution_count": 13,
   "id": "8d3a4ed6",
   "metadata": {
    "deletable": false,
    "editable": false
   },
   "outputs": [
    {
     "data": {
      "text/html": [
       "<p><strong><pre style='display: inline;'>q1c</pre></strong> passed! 🚀</p>"
      ],
      "text/plain": [
       "q1c results: All test cases passed!"
      ]
     },
     "execution_count": 13,
     "metadata": {},
     "output_type": "execute_result"
    }
   ],
   "source": [
    "grader.check(\"q1c\")"
   ]
  },
  {
   "cell_type": "markdown",
   "id": "c2e0328a",
   "metadata": {},
   "source": [
    "If we want to determine how many times each unique value appears in a series, we can use `series.value_counts()`. This function associates each unique value with the number of times it appears in the series.\n",
    "\n",
    "Please return the number of times 'Information Technology' appears in the 'GICS Sector' column. Note that you can programmatically access the count for 'Information Technology' using `series.value_counts()['uniquevalname']`."
   ]
  },
  {
   "cell_type": "code",
   "execution_count": 14,
   "id": "b3b302c4",
   "metadata": {
    "tags": []
   },
   "outputs": [],
   "source": [
    "it_sectors = int(df[\"GICS Sector\"].value_counts()[\"Information Technology\"])"
   ]
  },
  {
   "cell_type": "code",
   "execution_count": 15,
   "id": "c63a92a1",
   "metadata": {
    "deletable": false,
    "editable": false
   },
   "outputs": [
    {
     "data": {
      "text/html": [
       "<p><strong><pre style='display: inline;'>q1d</pre></strong> passed! 🌟</p>"
      ],
      "text/plain": [
       "q1d results: All test cases passed!"
      ]
     },
     "execution_count": 15,
     "metadata": {},
     "output_type": "execute_result"
    }
   ],
   "source": [
    "grader.check(\"q1d\")"
   ]
  },
  {
   "cell_type": "markdown",
   "id": "ab98d193",
   "metadata": {},
   "source": [
    "One way to select values from a DataFrame is by using index-based location, or `iloc`. We can use `df.iloc[index for rows, index for columns]` to specify which indices to select.\n",
    "\n",
    "- `df.iloc[:,:]` will return the entire DataFrame.\n",
    "- `df.iloc[:5, :6]` will return the first 5 rows and 6 columns.\n",
    "- `df.iloc[2:5, 3:]` will return the third column and onward, for rows 2-4.\n",
    "\n",
    "Please return rows 5-9, and return the 2nd column and onward."
   ]
  },
  {
   "cell_type": "code",
   "execution_count": 16,
   "id": "500397e5",
   "metadata": {
    "tags": []
   },
   "outputs": [
    {
     "data": {
      "text/html": [
       "<div>\n",
       "<style scoped>\n",
       "    .dataframe tbody tr th:only-of-type {\n",
       "        vertical-align: middle;\n",
       "    }\n",
       "\n",
       "    .dataframe tbody tr th {\n",
       "        vertical-align: top;\n",
       "    }\n",
       "\n",
       "    .dataframe thead th {\n",
       "        text-align: right;\n",
       "    }\n",
       "</style>\n",
       "<table border=\"1\" class=\"dataframe\">\n",
       "  <thead>\n",
       "    <tr style=\"text-align: right;\">\n",
       "      <th></th>\n",
       "      <th>GICS Sector</th>\n",
       "      <th>GICS Sub-Industry</th>\n",
       "      <th>Headquarters Location</th>\n",
       "      <th>Date added</th>\n",
       "      <th>CIK</th>\n",
       "      <th>Founded</th>\n",
       "    </tr>\n",
       "  </thead>\n",
       "  <tbody>\n",
       "    <tr>\n",
       "      <th>5</th>\n",
       "      <td>Information Technology</td>\n",
       "      <td>Application Software</td>\n",
       "      <td>San Jose, California</td>\n",
       "      <td>1997-05-05</td>\n",
       "      <td>796343</td>\n",
       "      <td>1982</td>\n",
       "    </tr>\n",
       "    <tr>\n",
       "      <th>6</th>\n",
       "      <td>Information Technology</td>\n",
       "      <td>Semiconductors</td>\n",
       "      <td>Santa Clara, California</td>\n",
       "      <td>2017-03-20</td>\n",
       "      <td>2488</td>\n",
       "      <td>1969</td>\n",
       "    </tr>\n",
       "    <tr>\n",
       "      <th>7</th>\n",
       "      <td>Utilities</td>\n",
       "      <td>Independent Power Producers &amp; Energy Traders</td>\n",
       "      <td>Arlington, Virginia</td>\n",
       "      <td>1998-10-02</td>\n",
       "      <td>874761</td>\n",
       "      <td>1981</td>\n",
       "    </tr>\n",
       "    <tr>\n",
       "      <th>8</th>\n",
       "      <td>Financials</td>\n",
       "      <td>Life &amp; Health Insurance</td>\n",
       "      <td>Columbus, Georgia</td>\n",
       "      <td>1999-05-28</td>\n",
       "      <td>4977</td>\n",
       "      <td>1955</td>\n",
       "    </tr>\n",
       "    <tr>\n",
       "      <th>9</th>\n",
       "      <td>Health Care</td>\n",
       "      <td>Life Sciences Tools &amp; Services</td>\n",
       "      <td>Santa Clara, California</td>\n",
       "      <td>2000-06-05</td>\n",
       "      <td>1090872</td>\n",
       "      <td>1999</td>\n",
       "    </tr>\n",
       "  </tbody>\n",
       "</table>\n",
       "</div>"
      ],
      "text/plain": [
       "              GICS Sector                             GICS Sub-Industry  \\\n",
       "5  Information Technology                          Application Software   \n",
       "6  Information Technology                                Semiconductors   \n",
       "7               Utilities  Independent Power Producers & Energy Traders   \n",
       "8              Financials                       Life & Health Insurance   \n",
       "9             Health Care                Life Sciences Tools & Services   \n",
       "\n",
       "     Headquarters Location  Date added      CIK Founded  \n",
       "5     San Jose, California  1997-05-05   796343    1982  \n",
       "6  Santa Clara, California  2017-03-20     2488    1969  \n",
       "7      Arlington, Virginia  1998-10-02   874761    1981  \n",
       "8        Columbus, Georgia  1999-05-28     4977    1955  \n",
       "9  Santa Clara, California  2000-06-05  1090872    1999  "
      ]
     },
     "execution_count": 16,
     "metadata": {},
     "output_type": "execute_result"
    }
   ],
   "source": [
    "specified_slice = df.iloc[5:10, 2:]\n",
    "specified_slice"
   ]
  },
  {
   "cell_type": "code",
   "execution_count": 17,
   "id": "842d391d",
   "metadata": {
    "deletable": false,
    "editable": false
   },
   "outputs": [
    {
     "data": {
      "text/html": [
       "<p><strong><pre style='display: inline;'>q1e</pre></strong> passed! 🌟</p>"
      ],
      "text/plain": [
       "q1e results: All test cases passed!"
      ]
     },
     "execution_count": 17,
     "metadata": {},
     "output_type": "execute_result"
    }
   ],
   "source": [
    "grader.check(\"q1e\")"
   ]
  },
  {
   "cell_type": "markdown",
   "id": "e52ff141",
   "metadata": {},
   "source": [
    "We can also examine the sub-industries, each of which is associated with one of the sectors. To select only the rows of the DataFrame that correspond to a specific sector, we can use boolean indexing.\n",
    "\n",
    "A boolean operator can be created generally using `df['colname'] {comparator} {value}`. This returns a series of `False` and `True` values for each row.\n",
    "\n",
    "Please create a boolean operator for when the 'GICS Sector' is 'Health Care' and return the number of `False` values using `value_counts()`."
   ]
  },
  {
   "cell_type": "code",
   "execution_count": 18,
   "id": "03a0ca1d",
   "metadata": {
    "tags": []
   },
   "outputs": [
    {
     "data": {
      "text/plain": [
       "439"
      ]
     },
     "execution_count": 18,
     "metadata": {},
     "output_type": "execute_result"
    }
   ],
   "source": [
    "false_healthcare = int((df[\"GICS Sector\"] == \"Health Care\").value_counts()[False])\n",
    "false_healthcare"
   ]
  },
  {
   "cell_type": "code",
   "execution_count": 19,
   "id": "f722ffee",
   "metadata": {
    "deletable": false,
    "editable": false
   },
   "outputs": [
    {
     "data": {
      "text/html": [
       "<p><strong><pre style='display: inline;'>q1f</pre></strong> passed! ✨</p>"
      ],
      "text/plain": [
       "q1f results: All test cases passed!"
      ]
     },
     "execution_count": 19,
     "metadata": {},
     "output_type": "execute_result"
    }
   ],
   "source": [
    "grader.check(\"q1f\")"
   ]
  },
  {
   "cell_type": "markdown",
   "id": "f7dfcdb9",
   "metadata": {},
   "source": [
    "Now that we have our boolean operator, we can select the values that are `True`. We do this using `df[operator]`, where `operator = df['colname'] {comparator} {value}`.\n",
    "\n",
    "Please use the operator you created to select only the rows where the security is in the 'Energy' sector (using the 'GICS Sector' column)."
   ]
  },
  {
   "cell_type": "code",
   "execution_count": 20,
   "id": "01461b40",
   "metadata": {
    "tags": []
   },
   "outputs": [],
   "source": [
    "energy = df[df[\"GICS Sector\"] == \"Energy\"]"
   ]
  },
  {
   "cell_type": "code",
   "execution_count": 21,
   "id": "e2cc723e",
   "metadata": {
    "deletable": false,
    "editable": false
   },
   "outputs": [
    {
     "data": {
      "text/html": [
       "<p><strong><pre style='display: inline;'>q1g</pre></strong> passed! ✨</p>"
      ],
      "text/plain": [
       "q1g results: All test cases passed!"
      ]
     },
     "execution_count": 21,
     "metadata": {},
     "output_type": "execute_result"
    }
   ],
   "source": [
    "grader.check(\"q1g\")"
   ]
  },
  {
   "cell_type": "markdown",
   "id": "3c4704f7",
   "metadata": {},
   "source": [
    "We also have `df.loc`, which works similarly to `df.iloc`. Here are some examples:\n",
    "\n",
    "- `df.loc[row_indexer, column_indexer]`\n",
    "- `df.loc[start_row_label:end_row_label, start_col_label:end_col_label]`\n",
    "- `df.loc[list_of_row_labels, list_of_column_labels]`\n",
    "- `df.loc[boolean_array_for_rows, boolean_array_for_columns]`\n",
    "\n",
    "Please select the rows where the 'GICS Sector' is 'Industrials', and return the 1st through 4th columns."
   ]
  },
  {
   "cell_type": "code",
   "execution_count": 22,
   "id": "12eb1d5c",
   "metadata": {
    "tags": []
   },
   "outputs": [],
   "source": [
    "first4cols_industrials = df[df[\"GICS Sector\"] == \"Industrials\"].iloc[:, :4]"
   ]
  },
  {
   "cell_type": "code",
   "execution_count": 23,
   "id": "36320044",
   "metadata": {
    "deletable": false,
    "editable": false
   },
   "outputs": [
    {
     "data": {
      "text/html": [
       "<p><strong><pre style='display: inline;'>q1h</pre></strong> passed! 🌟</p>"
      ],
      "text/plain": [
       "q1h results: All test cases passed!"
      ]
     },
     "execution_count": 23,
     "metadata": {},
     "output_type": "execute_result"
    }
   ],
   "source": [
    "grader.check(\"q1h\")"
   ]
  },
  {
   "cell_type": "markdown",
   "id": "47ea2013",
   "metadata": {},
   "source": [
    "Another useful DataFrame operation is sorting. We can sort an entire DataFrame using `df.sort_values('colname', ascending=True/False)`.\n",
    "\n",
    "Please sort, in ascending order, the symbols in the 'Consumer Discretionary' sector, and report the 4th oldest security (by date added). You may want to break this into three separate tasks to make it easier."
   ]
  },
  {
   "cell_type": "code",
   "execution_count": 24,
   "id": "f45fc74e",
   "metadata": {
    "tags": []
   },
   "outputs": [
    {
     "data": {
      "text/plain": [
       "'Bath & Body Works, Inc.'"
      ]
     },
     "execution_count": 24,
     "metadata": {},
     "output_type": "execute_result"
    }
   ],
   "source": [
    "old_4_security = (df[df[\"GICS Sector\"] == \"Consumer Discretionary\"].sort_values(\"Date added\", ascending=True)).iloc[3,1]\n",
    "old_4_security"
   ]
  },
  {
   "cell_type": "code",
   "execution_count": 25,
   "id": "d21fe660",
   "metadata": {
    "deletable": false,
    "editable": false
   },
   "outputs": [
    {
     "data": {
      "text/html": [
       "<p><strong><pre style='display: inline;'>q1i</pre></strong> passed! 🌟</p>"
      ],
      "text/plain": [
       "q1i results: All test cases passed!"
      ]
     },
     "execution_count": 25,
     "metadata": {},
     "output_type": "execute_result"
    }
   ],
   "source": [
    "grader.check(\"q1i\")"
   ]
  },
  {
   "cell_type": "markdown",
   "id": "9cdb8cf2",
   "metadata": {},
   "source": [
    "Let's also introduce the `groupby` operator. We can group a DataFrame based on a given column, such as the 'GICS Sector' column. After grouping a DataFrame, we commonly apply some kind of aggregation, such as a count, an average, etc. For example, we might use `df.groupby('colname').count()`.\n",
    "\n",
    "Please return the average CIK number of the 'Real Estate' sector using the `df.groupby('colname').mean(numeric_only=True)` aggregation. You can also access a specific series by adding `df.groupby('colname1').mean(numeric_only=True)['colname2']` to view the aggregation of a particular series."
   ]
  },
  {
   "cell_type": "code",
   "execution_count": 26,
   "id": "2ffc52e4",
   "metadata": {
    "tags": []
   },
   "outputs": [
    {
     "data": {
      "text/plain": [
       "np.float64(956436.7741935484)"
      ]
     },
     "execution_count": 26,
     "metadata": {},
     "output_type": "execute_result"
    }
   ],
   "source": [
    "mean_realestate_cik = df[df[\"GICS Sector\"] == \"Real Estate\"].groupby(\"GICS Sector\").mean(numeric_only=True)[\"CIK\"].reset_index().iloc[0,1]\n",
    "mean_realestate_cik"
   ]
  },
  {
   "cell_type": "code",
   "execution_count": 27,
   "id": "d8a570f0",
   "metadata": {
    "deletable": false,
    "editable": false
   },
   "outputs": [
    {
     "data": {
      "text/html": [
       "<p><strong><pre style='display: inline;'>q1j</pre></strong> passed! ✨</p>"
      ],
      "text/plain": [
       "q1j results: All test cases passed!"
      ]
     },
     "execution_count": 27,
     "metadata": {},
     "output_type": "execute_result"
    }
   ],
   "source": [
    "grader.check(\"q1j\")"
   ]
  },
  {
   "cell_type": "code",
   "execution_count": 28,
   "id": "23d5f6eb",
   "metadata": {},
   "outputs": [],
   "source": [
    "def get_common_subindustry(df):\n",
    "    # .index returns the index of a series, in this case the unique values\n",
    "    # since value counts is sorted in descending order\n",
    "    # .value_counts().index[0] will give us the largest avlue\n",
    "    \n",
    "    # we can also use display to show the intermediate steps\n",
    "    # we use series.values to access the list of values in the series\n",
    "    \n",
    "    print('-'*35)\n",
    "    print(df['GICS Sector'].values[0])\n",
    "    print('-'*35)\n",
    "    display(df['GICS Sub-Industry'].value_counts())\n",
    "    return df['GICS Sub-Industry'].value_counts().index[0]"
   ]
  },
  {
   "cell_type": "code",
   "execution_count": 29,
   "id": "568a004e",
   "metadata": {},
   "outputs": [
    {
     "data": {
      "text/plain": [
       "'Health Care Equipment'"
      ]
     },
     "execution_count": 29,
     "metadata": {},
     "output_type": "execute_result"
    }
   ],
   "source": [
    "df['GICS Sub-Industry'].value_counts().index[0]"
   ]
  },
  {
   "cell_type": "code",
   "execution_count": 30,
   "id": "53aece24",
   "metadata": {},
   "outputs": [
    {
     "name": "stdout",
     "output_type": "stream",
     "text": [
      "-----------------------------------\n",
      "Communication Services\n",
      "-----------------------------------\n"
     ]
    },
    {
     "data": {
      "text/plain": [
       "GICS Sub-Industry\n",
       "Interactive Media & Services             4\n",
       "Movies & Entertainment                   4\n",
       "Broadcasting                             3\n",
       "Cable & Satellite                        2\n",
       "Integrated Telecommunication Services    2\n",
       "Interactive Home Entertainment           2\n",
       "Advertising                              2\n",
       "Publishing                               2\n",
       "Wireless Telecommunication Services      1\n",
       "Name: count, dtype: int64"
      ]
     },
     "metadata": {},
     "output_type": "display_data"
    },
    {
     "name": "stdout",
     "output_type": "stream",
     "text": [
      "-----------------------------------\n",
      "Consumer Discretionary\n",
      "-----------------------------------\n"
     ]
    },
    {
     "data": {
      "text/plain": [
       "GICS Sub-Industry\n",
       "Hotels, Resorts & Cruise Lines         8\n",
       "Restaurants                            6\n",
       "Homebuilding                           4\n",
       "Casinos & Gaming                       4\n",
       "Apparel, Accessories & Luxury Goods    4\n",
       "Broadline Retail                       3\n",
       "Other Specialty Retail                 3\n",
       "Distributors                           3\n",
       "Automobile Manufacturers               3\n",
       "Automotive Retail                      3\n",
       "Apparel Retail                         2\n",
       "Home Improvement Retail                2\n",
       "Automotive Parts & Equipment           2\n",
       "Computer & Electronics Retail          1\n",
       "Footwear                               1\n",
       "Consumer Electronics                   1\n",
       "Leisure Products                       1\n",
       "Home Furnishings                       1\n",
       "Name: count, dtype: int64"
      ]
     },
     "metadata": {},
     "output_type": "display_data"
    },
    {
     "name": "stdout",
     "output_type": "stream",
     "text": [
      "-----------------------------------\n",
      "Consumer Staples\n",
      "-----------------------------------\n"
     ]
    },
    {
     "data": {
      "text/plain": [
       "GICS Sub-Industry\n",
       "Packaged Foods & Meats                   12\n",
       "Consumer Staples Merchandise Retail       5\n",
       "Household Products                        4\n",
       "Soft Drinks & Non-alcoholic Beverages     4\n",
       "Personal Care Products                    3\n",
       "Distillers & Vintners                     2\n",
       "Tobacco                                   2\n",
       "Agricultural Products & Services          2\n",
       "Food Retail                               1\n",
       "Brewers                                   1\n",
       "Food Distributors                         1\n",
       "Drug Retail                               1\n",
       "Name: count, dtype: int64"
      ]
     },
     "metadata": {},
     "output_type": "display_data"
    },
    {
     "name": "stdout",
     "output_type": "stream",
     "text": [
      "-----------------------------------\n",
      "Energy\n",
      "-----------------------------------\n"
     ]
    },
    {
     "data": {
      "text/plain": [
       "GICS Sub-Industry\n",
       "Oil & Gas Exploration & Production    10\n",
       "Oil & Gas Storage & Transportation     4\n",
       "Oil & Gas Equipment & Services         3\n",
       "Integrated Oil & Gas                   3\n",
       "Oil & Gas Refining & Marketing         3\n",
       "Name: count, dtype: int64"
      ]
     },
     "metadata": {},
     "output_type": "display_data"
    },
    {
     "name": "stdout",
     "output_type": "stream",
     "text": [
      "-----------------------------------\n",
      "Financials\n",
      "-----------------------------------\n"
     ]
    },
    {
     "data": {
      "text/plain": [
       "GICS Sub-Industry\n",
       "Asset Management & Custody Banks             9\n",
       "Financial Exchanges & Data                   9\n",
       "Property & Casualty Insurance                8\n",
       "Transaction & Payment Processing Services    8\n",
       "Regional Banks                               7\n",
       "Diversified Banks                            7\n",
       "Insurance Brokers                            5\n",
       "Life & Health Insurance                      5\n",
       "Consumer Finance                             4\n",
       "Investment Banking & Brokerage               4\n",
       "Multi-line Insurance                         3\n",
       "Multi-Sector Holdings                        1\n",
       "Reinsurance                                  1\n",
       "Name: count, dtype: int64"
      ]
     },
     "metadata": {},
     "output_type": "display_data"
    },
    {
     "name": "stdout",
     "output_type": "stream",
     "text": [
      "-----------------------------------\n",
      "Health Care\n",
      "-----------------------------------\n"
     ]
    },
    {
     "data": {
      "text/plain": [
       "GICS Sub-Industry\n",
       "Health Care Equipment             18\n",
       "Life Sciences Tools & Services    10\n",
       "Biotechnology                      8\n",
       "Pharmaceuticals                    8\n",
       "Health Care Services               5\n",
       "Managed Health Care                5\n",
       "Health Care Distributors           4\n",
       "Health Care Supplies               3\n",
       "Health Care Facilities             2\n",
       "Health Care Technology             1\n",
       "Name: count, dtype: int64"
      ]
     },
     "metadata": {},
     "output_type": "display_data"
    },
    {
     "name": "stdout",
     "output_type": "stream",
     "text": [
      "-----------------------------------\n",
      "Industrials\n",
      "-----------------------------------\n"
     ]
    },
    {
     "data": {
      "text/plain": [
       "GICS Sub-Industry\n",
       "Industrial Machinery & Supplies & Components               14\n",
       "Aerospace & Defense                                        12\n",
       "Building Products                                           7\n",
       "Electrical Components & Equipment                           5\n",
       "Human Resource & Employment Services                        5\n",
       "Passenger Airlines                                          4\n",
       "Environmental & Facilities Services                         4\n",
       "Construction Machinery & Heavy Transportation Equipment     4\n",
       "Air Freight & Logistics                                     4\n",
       "Rail Transportation                                         3\n",
       "Diversified Support Services                                3\n",
       "Industrial Conglomerates                                    2\n",
       "Construction & Engineering                                  2\n",
       "Cargo Ground Transportation                                 2\n",
       "Trading Companies & Distributors                            2\n",
       "Research & Consulting Services                              2\n",
       "Agricultural & Farm Machinery                               1\n",
       "Data Processing & Outsourced Services                       1\n",
       "Heavy Electrical Equipment                                  1\n",
       "Passenger Ground Transportation                             1\n",
       "Name: count, dtype: int64"
      ]
     },
     "metadata": {},
     "output_type": "display_data"
    },
    {
     "name": "stdout",
     "output_type": "stream",
     "text": [
      "-----------------------------------\n",
      "Information Technology\n",
      "-----------------------------------\n"
     ]
    },
    {
     "data": {
      "text/plain": [
       "GICS Sub-Industry\n",
       "Semiconductors                                15\n",
       "Application Software                          11\n",
       "Technology Hardware, Storage & Peripherals     7\n",
       "IT Consulting & Other Services                 5\n",
       "Electronic Equipment & Instruments             5\n",
       "Semiconductor Materials & Equipment            5\n",
       "Communications Equipment                       5\n",
       "Systems Software                               5\n",
       "Internet Services & Infrastructure             2\n",
       "Electronic Components                          2\n",
       "Electronic Manufacturing Services              2\n",
       "Technology Distributors                        1\n",
       "Name: count, dtype: int64"
      ]
     },
     "metadata": {},
     "output_type": "display_data"
    },
    {
     "name": "stdout",
     "output_type": "stream",
     "text": [
      "-----------------------------------\n",
      "Materials\n",
      "-----------------------------------\n"
     ]
    },
    {
     "data": {
      "text/plain": [
       "GICS Sub-Industry\n",
       "Specialty Chemicals                               9\n",
       "Paper & Plastic Packaging Products & Materials    5\n",
       "Fertilizers & Agricultural Chemicals              4\n",
       "Industrial Gases                                  2\n",
       "Steel                                             2\n",
       "Construction Materials                            2\n",
       "Commodity Chemicals                               1\n",
       "Metal, Glass & Plastic Containers                 1\n",
       "Copper                                            1\n",
       "Gold                                              1\n",
       "Name: count, dtype: int64"
      ]
     },
     "metadata": {},
     "output_type": "display_data"
    },
    {
     "name": "stdout",
     "output_type": "stream",
     "text": [
      "-----------------------------------\n",
      "Real Estate\n",
      "-----------------------------------\n"
     ]
    },
    {
     "data": {
      "text/plain": [
       "GICS Sub-Industry\n",
       "Multi-Family Residential REITs     6\n",
       "Retail REITs                       5\n",
       "Telecom Tower REITs                3\n",
       "Health Care REITs                  3\n",
       "Office REITs                       2\n",
       "Data Center REITs                  2\n",
       "Real Estate Services               2\n",
       "Self-Storage REITs                 2\n",
       "Hotel & Resort REITs               2\n",
       "Single-Family Residential REITs    1\n",
       "Other Specialized REITs            1\n",
       "Industrial REITs                   1\n",
       "Timber REITs                       1\n",
       "Name: count, dtype: int64"
      ]
     },
     "metadata": {},
     "output_type": "display_data"
    },
    {
     "name": "stdout",
     "output_type": "stream",
     "text": [
      "-----------------------------------\n",
      "Utilities\n",
      "-----------------------------------\n"
     ]
    },
    {
     "data": {
      "text/plain": [
       "GICS Sub-Industry\n",
       "Electric Utilities                              14\n",
       "Multi-Utilities                                 12\n",
       "Independent Power Producers & Energy Traders     2\n",
       "Water Utilities                                  1\n",
       "Gas Utilities                                    1\n",
       "Name: count, dtype: int64"
      ]
     },
     "metadata": {},
     "output_type": "display_data"
    },
    {
     "data": {
      "text/plain": [
       "GICS Sector\n",
       "Communication Services                    Interactive Media & Services\n",
       "Consumer Discretionary                  Hotels, Resorts & Cruise Lines\n",
       "Consumer Staples                                Packaged Foods & Meats\n",
       "Energy                              Oil & Gas Exploration & Production\n",
       "Financials                            Asset Management & Custody Banks\n",
       "Health Care                                      Health Care Equipment\n",
       "Industrials               Industrial Machinery & Supplies & Components\n",
       "Information Technology                                  Semiconductors\n",
       "Materials                                          Specialty Chemicals\n",
       "Real Estate                             Multi-Family Residential REITs\n",
       "Utilities                                           Electric Utilities\n",
       "dtype: object"
      ]
     },
     "execution_count": 30,
     "metadata": {},
     "output_type": "execute_result"
    }
   ],
   "source": [
    "df.groupby('GICS Sector').apply(get_common_subindustry)"
   ]
  },
  {
   "cell_type": "markdown",
   "id": "2bc71288",
   "metadata": {},
   "source": [
    "# data downloading/cleaning"
   ]
  },
  {
   "cell_type": "code",
   "execution_count": 31,
   "id": "f7aa0bf8",
   "metadata": {},
   "outputs": [
    {
     "name": "stdout",
     "output_type": "stream",
     "text": [
      "Collecting yfinance\n",
      "  Using cached yfinance-0.2.55-py2.py3-none-any.whl.metadata (5.8 kB)\n",
      "Requirement already satisfied: pandas>=1.3.0 in /srv/conda/lib/python3.11/site-packages (from yfinance) (2.2.3)\n",
      "Requirement already satisfied: numpy>=1.16.5 in /srv/conda/lib/python3.11/site-packages (from yfinance) (2.2.4)\n",
      "Requirement already satisfied: requests>=2.31 in /srv/conda/lib/python3.11/site-packages (from yfinance) (2.32.3)\n",
      "Collecting multitasking>=0.0.7 (from yfinance)\n",
      "  Using cached multitasking-0.0.11-py3-none-any.whl.metadata (5.5 kB)\n",
      "Requirement already satisfied: platformdirs>=2.0.0 in /srv/conda/lib/python3.11/site-packages (from yfinance) (4.3.6)\n",
      "Requirement already satisfied: pytz>=2022.5 in /srv/conda/lib/python3.11/site-packages (from yfinance) (2024.1)\n",
      "Requirement already satisfied: frozendict>=2.3.4 in /srv/conda/lib/python3.11/site-packages (from yfinance) (2.4.6)\n",
      "Collecting peewee>=3.16.2 (from yfinance)\n",
      "  Using cached peewee-3.17.9-cp311-cp311-linux_x86_64.whl\n",
      "Requirement already satisfied: beautifulsoup4>=4.11.1 in /srv/conda/lib/python3.11/site-packages (from yfinance) (4.12.3)\n",
      "Requirement already satisfied: soupsieve>1.2 in /srv/conda/lib/python3.11/site-packages (from beautifulsoup4>=4.11.1->yfinance) (2.5)\n",
      "Requirement already satisfied: python-dateutil>=2.8.2 in /srv/conda/lib/python3.11/site-packages (from pandas>=1.3.0->yfinance) (2.9.0.post0)\n",
      "Requirement already satisfied: tzdata>=2022.7 in /srv/conda/lib/python3.11/site-packages (from pandas>=1.3.0->yfinance) (2025.2)\n",
      "Requirement already satisfied: charset_normalizer<4,>=2 in /srv/conda/lib/python3.11/site-packages (from requests>=2.31->yfinance) (3.4.0)\n",
      "Requirement already satisfied: idna<4,>=2.5 in /srv/conda/lib/python3.11/site-packages (from requests>=2.31->yfinance) (3.10)\n",
      "Requirement already satisfied: urllib3<3,>=1.21.1 in /srv/conda/lib/python3.11/site-packages (from requests>=2.31->yfinance) (2.3.0)\n",
      "Requirement already satisfied: certifi>=2017.4.17 in /srv/conda/lib/python3.11/site-packages (from requests>=2.31->yfinance) (2025.1.31)\n",
      "Requirement already satisfied: six>=1.5 in /srv/conda/lib/python3.11/site-packages (from python-dateutil>=2.8.2->pandas>=1.3.0->yfinance) (1.17.0)\n",
      "Using cached yfinance-0.2.55-py2.py3-none-any.whl (109 kB)\n",
      "Using cached multitasking-0.0.11-py3-none-any.whl (8.5 kB)\n",
      "Installing collected packages: peewee, multitasking, yfinance\n",
      "Successfully installed multitasking-0.0.11 peewee-3.17.9 yfinance-0.2.55\n"
     ]
    }
   ],
   "source": [
    "# the yfinance library provides access to lots of information about tickers available on yahoo finance\n",
    "!pip install yfinance"
   ]
  },
  {
   "cell_type": "code",
   "execution_count": 32,
   "id": "be9152bd",
   "metadata": {},
   "outputs": [],
   "source": [
    "import yfinance as yf"
   ]
  },
  {
   "cell_type": "markdown",
   "id": "6304623d",
   "metadata": {},
   "source": [
    "**Errors are expected as data is missing for some tickers, see the future cells!**"
   ]
  },
  {
   "cell_type": "code",
   "execution_count": 43,
   "id": "d6f2b01f",
   "metadata": {
    "tags": []
   },
   "outputs": [
    {
     "name": "stderr",
     "output_type": "stream",
     "text": [
      "[*********************100%***********************]  503 of 503 completed\n",
      "\n",
      "8 Failed downloads:\n",
      "['BRK.B', 'WRK', 'PXD', 'CTLT', 'MRO']: YFTzMissingError('possibly delisted; no timezone found')\n",
      "['SOLV', 'GEV']: YFPricesMissingError('possibly delisted; no price data found  (1d 2023-10-01 -> 2024-03-29) (Yahoo error = \"Data doesn\\'t exist for startDate = 1696132800, endDate = 1711684800\")')\n",
      "['BF.B']: YFPricesMissingError('possibly delisted; no price data found  (1d 2023-10-01 -> 2024-03-29)')\n"
     ]
    }
   ],
   "source": [
    "# we can download historical price data for these assets using\n",
    "# yf.download(tickers)\n",
    "# there's other optional parameters that we won't cover here\n",
    "# lets get the list of symbols/tickers we care about, and then download them using .unique() on our dataframe\n",
    "# convert the series to a list before you pass it to yf\n",
    "# this may take a minute or two\n",
    "# please put the data into a dataframe called hdf, or historical dataframe for short\n",
    "\n",
    "tickers = list(df['Symbol'].unique())\n",
    "hdf = yf.download(tickers, start='2023-10-01', end='2024-03-29')\n",
    "hdf = hdf[hdf.index <= '2024-03-19']"
   ]
  },
  {
   "cell_type": "code",
   "execution_count": 44,
   "id": "ac76f42e",
   "metadata": {
    "deletable": false,
    "editable": false
   },
   "outputs": [
    {
     "data": {
      "text/html": [
       "<p><strong><pre style='display: inline;'>q2a</pre></strong> passed! 🚀</p>"
      ],
      "text/plain": [
       "q2a results: All test cases passed!"
      ]
     },
     "execution_count": 44,
     "metadata": {},
     "output_type": "execute_result"
    }
   ],
   "source": [
    "grader.check(\"q2a\")"
   ]
  },
  {
   "cell_type": "markdown",
   "id": "65a186f5",
   "metadata": {},
   "source": [
    "Let's take a look at the data we've just downloaded"
   ]
  },
  {
   "cell_type": "code",
   "execution_count": 45,
   "id": "3210e8cb",
   "metadata": {},
   "outputs": [
    {
     "data": {
      "text/html": [
       "<div>\n",
       "<style scoped>\n",
       "    .dataframe tbody tr th:only-of-type {\n",
       "        vertical-align: middle;\n",
       "    }\n",
       "\n",
       "    .dataframe tbody tr th {\n",
       "        vertical-align: top;\n",
       "    }\n",
       "\n",
       "    .dataframe thead tr th {\n",
       "        text-align: left;\n",
       "    }\n",
       "\n",
       "    .dataframe thead tr:last-of-type th {\n",
       "        text-align: right;\n",
       "    }\n",
       "</style>\n",
       "<table border=\"1\" class=\"dataframe\">\n",
       "  <thead>\n",
       "    <tr>\n",
       "      <th>Price</th>\n",
       "      <th colspan=\"8\" halign=\"left\">Adj Close</th>\n",
       "      <th colspan=\"2\" halign=\"left\">Close</th>\n",
       "      <th>...</th>\n",
       "      <th colspan=\"10\" halign=\"left\">Volume</th>\n",
       "    </tr>\n",
       "    <tr>\n",
       "      <th>Ticker</th>\n",
       "      <th>BF.B</th>\n",
       "      <th>BRK.B</th>\n",
       "      <th>CTLT</th>\n",
       "      <th>GEV</th>\n",
       "      <th>MRO</th>\n",
       "      <th>PXD</th>\n",
       "      <th>SOLV</th>\n",
       "      <th>WRK</th>\n",
       "      <th>A</th>\n",
       "      <th>AAL</th>\n",
       "      <th>...</th>\n",
       "      <th>WTW</th>\n",
       "      <th>WY</th>\n",
       "      <th>WYNN</th>\n",
       "      <th>XEL</th>\n",
       "      <th>XOM</th>\n",
       "      <th>XYL</th>\n",
       "      <th>YUM</th>\n",
       "      <th>ZBH</th>\n",
       "      <th>ZBRA</th>\n",
       "      <th>ZTS</th>\n",
       "    </tr>\n",
       "    <tr>\n",
       "      <th>Date</th>\n",
       "      <th></th>\n",
       "      <th></th>\n",
       "      <th></th>\n",
       "      <th></th>\n",
       "      <th></th>\n",
       "      <th></th>\n",
       "      <th></th>\n",
       "      <th></th>\n",
       "      <th></th>\n",
       "      <th></th>\n",
       "      <th></th>\n",
       "      <th></th>\n",
       "      <th></th>\n",
       "      <th></th>\n",
       "      <th></th>\n",
       "      <th></th>\n",
       "      <th></th>\n",
       "      <th></th>\n",
       "      <th></th>\n",
       "      <th></th>\n",
       "      <th></th>\n",
       "    </tr>\n",
       "  </thead>\n",
       "  <tbody>\n",
       "    <tr>\n",
       "      <th>2023-10-02</th>\n",
       "      <td>NaN</td>\n",
       "      <td>NaN</td>\n",
       "      <td>NaN</td>\n",
       "      <td>NaN</td>\n",
       "      <td>NaN</td>\n",
       "      <td>NaN</td>\n",
       "      <td>NaN</td>\n",
       "      <td>NaN</td>\n",
       "      <td>109.716743</td>\n",
       "      <td>12.75</td>\n",
       "      <td>...</td>\n",
       "      <td>726200</td>\n",
       "      <td>5795100</td>\n",
       "      <td>1712300</td>\n",
       "      <td>4875400</td>\n",
       "      <td>14395000</td>\n",
       "      <td>1978100</td>\n",
       "      <td>1965400</td>\n",
       "      <td>1445400</td>\n",
       "      <td>246000</td>\n",
       "      <td>1270200</td>\n",
       "    </tr>\n",
       "    <tr>\n",
       "      <th>2023-10-03</th>\n",
       "      <td>NaN</td>\n",
       "      <td>NaN</td>\n",
       "      <td>NaN</td>\n",
       "      <td>NaN</td>\n",
       "      <td>NaN</td>\n",
       "      <td>NaN</td>\n",
       "      <td>NaN</td>\n",
       "      <td>NaN</td>\n",
       "      <td>109.083572</td>\n",
       "      <td>12.29</td>\n",
       "      <td>...</td>\n",
       "      <td>540400</td>\n",
       "      <td>4921800</td>\n",
       "      <td>1315300</td>\n",
       "      <td>5161400</td>\n",
       "      <td>13297100</td>\n",
       "      <td>1309800</td>\n",
       "      <td>2100400</td>\n",
       "      <td>1850400</td>\n",
       "      <td>313300</td>\n",
       "      <td>1671800</td>\n",
       "    </tr>\n",
       "    <tr>\n",
       "      <th>2023-10-04</th>\n",
       "      <td>NaN</td>\n",
       "      <td>NaN</td>\n",
       "      <td>NaN</td>\n",
       "      <td>NaN</td>\n",
       "      <td>NaN</td>\n",
       "      <td>NaN</td>\n",
       "      <td>NaN</td>\n",
       "      <td>NaN</td>\n",
       "      <td>110.478531</td>\n",
       "      <td>12.73</td>\n",
       "      <td>...</td>\n",
       "      <td>749100</td>\n",
       "      <td>3954000</td>\n",
       "      <td>2289300</td>\n",
       "      <td>3948700</td>\n",
       "      <td>19622200</td>\n",
       "      <td>1614400</td>\n",
       "      <td>1381200</td>\n",
       "      <td>1597600</td>\n",
       "      <td>487500</td>\n",
       "      <td>1673400</td>\n",
       "    </tr>\n",
       "    <tr>\n",
       "      <th>2023-10-05</th>\n",
       "      <td>NaN</td>\n",
       "      <td>NaN</td>\n",
       "      <td>NaN</td>\n",
       "      <td>NaN</td>\n",
       "      <td>NaN</td>\n",
       "      <td>NaN</td>\n",
       "      <td>NaN</td>\n",
       "      <td>NaN</td>\n",
       "      <td>109.172607</td>\n",
       "      <td>12.85</td>\n",
       "      <td>...</td>\n",
       "      <td>855000</td>\n",
       "      <td>3724500</td>\n",
       "      <td>1513600</td>\n",
       "      <td>3835400</td>\n",
       "      <td>20128800</td>\n",
       "      <td>1131000</td>\n",
       "      <td>1240200</td>\n",
       "      <td>1048200</td>\n",
       "      <td>448400</td>\n",
       "      <td>2083200</td>\n",
       "    </tr>\n",
       "    <tr>\n",
       "      <th>2023-10-06</th>\n",
       "      <td>NaN</td>\n",
       "      <td>NaN</td>\n",
       "      <td>NaN</td>\n",
       "      <td>NaN</td>\n",
       "      <td>NaN</td>\n",
       "      <td>NaN</td>\n",
       "      <td>NaN</td>\n",
       "      <td>NaN</td>\n",
       "      <td>109.459526</td>\n",
       "      <td>12.76</td>\n",
       "      <td>...</td>\n",
       "      <td>897700</td>\n",
       "      <td>4318300</td>\n",
       "      <td>2470600</td>\n",
       "      <td>6337200</td>\n",
       "      <td>25363400</td>\n",
       "      <td>1149700</td>\n",
       "      <td>2111900</td>\n",
       "      <td>1570500</td>\n",
       "      <td>384000</td>\n",
       "      <td>1490600</td>\n",
       "    </tr>\n",
       "    <tr>\n",
       "      <th>...</th>\n",
       "      <td>...</td>\n",
       "      <td>...</td>\n",
       "      <td>...</td>\n",
       "      <td>...</td>\n",
       "      <td>...</td>\n",
       "      <td>...</td>\n",
       "      <td>...</td>\n",
       "      <td>...</td>\n",
       "      <td>...</td>\n",
       "      <td>...</td>\n",
       "      <td>...</td>\n",
       "      <td>...</td>\n",
       "      <td>...</td>\n",
       "      <td>...</td>\n",
       "      <td>...</td>\n",
       "      <td>...</td>\n",
       "      <td>...</td>\n",
       "      <td>...</td>\n",
       "      <td>...</td>\n",
       "      <td>...</td>\n",
       "      <td>...</td>\n",
       "    </tr>\n",
       "    <tr>\n",
       "      <th>2024-03-13</th>\n",
       "      <td>NaN</td>\n",
       "      <td>NaN</td>\n",
       "      <td>NaN</td>\n",
       "      <td>NaN</td>\n",
       "      <td>NaN</td>\n",
       "      <td>NaN</td>\n",
       "      <td>NaN</td>\n",
       "      <td>NaN</td>\n",
       "      <td>146.490189</td>\n",
       "      <td>14.00</td>\n",
       "      <td>...</td>\n",
       "      <td>530100</td>\n",
       "      <td>2508500</td>\n",
       "      <td>1138400</td>\n",
       "      <td>5420000</td>\n",
       "      <td>17122200</td>\n",
       "      <td>872500</td>\n",
       "      <td>3361400</td>\n",
       "      <td>847000</td>\n",
       "      <td>286200</td>\n",
       "      <td>5947400</td>\n",
       "    </tr>\n",
       "    <tr>\n",
       "      <th>2024-03-14</th>\n",
       "      <td>NaN</td>\n",
       "      <td>NaN</td>\n",
       "      <td>NaN</td>\n",
       "      <td>NaN</td>\n",
       "      <td>NaN</td>\n",
       "      <td>NaN</td>\n",
       "      <td>NaN</td>\n",
       "      <td>NaN</td>\n",
       "      <td>143.903656</td>\n",
       "      <td>13.99</td>\n",
       "      <td>...</td>\n",
       "      <td>482900</td>\n",
       "      <td>4124900</td>\n",
       "      <td>1882700</td>\n",
       "      <td>11860000</td>\n",
       "      <td>22121000</td>\n",
       "      <td>1335500</td>\n",
       "      <td>3091900</td>\n",
       "      <td>1203900</td>\n",
       "      <td>375300</td>\n",
       "      <td>6432600</td>\n",
       "    </tr>\n",
       "    <tr>\n",
       "      <th>2024-03-15</th>\n",
       "      <td>NaN</td>\n",
       "      <td>NaN</td>\n",
       "      <td>NaN</td>\n",
       "      <td>NaN</td>\n",
       "      <td>NaN</td>\n",
       "      <td>NaN</td>\n",
       "      <td>NaN</td>\n",
       "      <td>NaN</td>\n",
       "      <td>146.153229</td>\n",
       "      <td>13.96</td>\n",
       "      <td>...</td>\n",
       "      <td>885400</td>\n",
       "      <td>6848900</td>\n",
       "      <td>4404600</td>\n",
       "      <td>11153200</td>\n",
       "      <td>38263900</td>\n",
       "      <td>1537600</td>\n",
       "      <td>4164800</td>\n",
       "      <td>2672400</td>\n",
       "      <td>539300</td>\n",
       "      <td>3399500</td>\n",
       "    </tr>\n",
       "    <tr>\n",
       "      <th>2024-03-18</th>\n",
       "      <td>NaN</td>\n",
       "      <td>NaN</td>\n",
       "      <td>NaN</td>\n",
       "      <td>NaN</td>\n",
       "      <td>NaN</td>\n",
       "      <td>NaN</td>\n",
       "      <td>NaN</td>\n",
       "      <td>NaN</td>\n",
       "      <td>144.775757</td>\n",
       "      <td>14.11</td>\n",
       "      <td>...</td>\n",
       "      <td>402800</td>\n",
       "      <td>3373100</td>\n",
       "      <td>1528700</td>\n",
       "      <td>7217700</td>\n",
       "      <td>16770500</td>\n",
       "      <td>720000</td>\n",
       "      <td>2384500</td>\n",
       "      <td>972300</td>\n",
       "      <td>329300</td>\n",
       "      <td>4955000</td>\n",
       "    </tr>\n",
       "    <tr>\n",
       "      <th>2024-03-19</th>\n",
       "      <td>NaN</td>\n",
       "      <td>NaN</td>\n",
       "      <td>NaN</td>\n",
       "      <td>NaN</td>\n",
       "      <td>NaN</td>\n",
       "      <td>NaN</td>\n",
       "      <td>NaN</td>\n",
       "      <td>NaN</td>\n",
       "      <td>146.064041</td>\n",
       "      <td>13.93</td>\n",
       "      <td>...</td>\n",
       "      <td>579000</td>\n",
       "      <td>2496400</td>\n",
       "      <td>1444100</td>\n",
       "      <td>5656800</td>\n",
       "      <td>14878800</td>\n",
       "      <td>806900</td>\n",
       "      <td>2266500</td>\n",
       "      <td>949300</td>\n",
       "      <td>306000</td>\n",
       "      <td>3624000</td>\n",
       "    </tr>\n",
       "  </tbody>\n",
       "</table>\n",
       "<p>117 rows × 2523 columns</p>\n",
       "</div>"
      ],
      "text/plain": [
       "Price      Adj Close                                       Close         ...  \\\n",
       "Ticker          BF.B BRK.B CTLT GEV MRO PXD SOLV WRK           A    AAL  ...   \n",
       "Date                                                                     ...   \n",
       "2023-10-02       NaN   NaN  NaN NaN NaN NaN  NaN NaN  109.716743  12.75  ...   \n",
       "2023-10-03       NaN   NaN  NaN NaN NaN NaN  NaN NaN  109.083572  12.29  ...   \n",
       "2023-10-04       NaN   NaN  NaN NaN NaN NaN  NaN NaN  110.478531  12.73  ...   \n",
       "2023-10-05       NaN   NaN  NaN NaN NaN NaN  NaN NaN  109.172607  12.85  ...   \n",
       "2023-10-06       NaN   NaN  NaN NaN NaN NaN  NaN NaN  109.459526  12.76  ...   \n",
       "...              ...   ...  ...  ..  ..  ..  ...  ..         ...    ...  ...   \n",
       "2024-03-13       NaN   NaN  NaN NaN NaN NaN  NaN NaN  146.490189  14.00  ...   \n",
       "2024-03-14       NaN   NaN  NaN NaN NaN NaN  NaN NaN  143.903656  13.99  ...   \n",
       "2024-03-15       NaN   NaN  NaN NaN NaN NaN  NaN NaN  146.153229  13.96  ...   \n",
       "2024-03-18       NaN   NaN  NaN NaN NaN NaN  NaN NaN  144.775757  14.11  ...   \n",
       "2024-03-19       NaN   NaN  NaN NaN NaN NaN  NaN NaN  146.064041  13.93  ...   \n",
       "\n",
       "Price       Volume                                                          \\\n",
       "Ticker         WTW       WY     WYNN       XEL       XOM      XYL      YUM   \n",
       "Date                                                                         \n",
       "2023-10-02  726200  5795100  1712300   4875400  14395000  1978100  1965400   \n",
       "2023-10-03  540400  4921800  1315300   5161400  13297100  1309800  2100400   \n",
       "2023-10-04  749100  3954000  2289300   3948700  19622200  1614400  1381200   \n",
       "2023-10-05  855000  3724500  1513600   3835400  20128800  1131000  1240200   \n",
       "2023-10-06  897700  4318300  2470600   6337200  25363400  1149700  2111900   \n",
       "...            ...      ...      ...       ...       ...      ...      ...   \n",
       "2024-03-13  530100  2508500  1138400   5420000  17122200   872500  3361400   \n",
       "2024-03-14  482900  4124900  1882700  11860000  22121000  1335500  3091900   \n",
       "2024-03-15  885400  6848900  4404600  11153200  38263900  1537600  4164800   \n",
       "2024-03-18  402800  3373100  1528700   7217700  16770500   720000  2384500   \n",
       "2024-03-19  579000  2496400  1444100   5656800  14878800   806900  2266500   \n",
       "\n",
       "Price                                 \n",
       "Ticker          ZBH    ZBRA      ZTS  \n",
       "Date                                  \n",
       "2023-10-02  1445400  246000  1270200  \n",
       "2023-10-03  1850400  313300  1671800  \n",
       "2023-10-04  1597600  487500  1673400  \n",
       "2023-10-05  1048200  448400  2083200  \n",
       "2023-10-06  1570500  384000  1490600  \n",
       "...             ...     ...      ...  \n",
       "2024-03-13   847000  286200  5947400  \n",
       "2024-03-14  1203900  375300  6432600  \n",
       "2024-03-15  2672400  539300  3399500  \n",
       "2024-03-18   972300  329300  4955000  \n",
       "2024-03-19   949300  306000  3624000  \n",
       "\n",
       "[117 rows x 2523 columns]"
      ]
     },
     "execution_count": 45,
     "metadata": {},
     "output_type": "execute_result"
    }
   ],
   "source": [
    "hdf"
   ]
  },
  {
   "cell_type": "code",
   "execution_count": 25,
   "id": "516e1712",
   "metadata": {},
   "outputs": [],
   "source": [
    "# looks like the index is the date, and we have multiple levels of columns!\n",
    "# we can get the top level of columns using df.columns.get_level_values(i)\n",
    "# let's look at the unique top level columns, with .unique()"
   ]
  },
  {
   "cell_type": "code",
   "execution_count": 46,
   "id": "46003865",
   "metadata": {},
   "outputs": [
    {
     "data": {
      "text/plain": [
       "Index(['Adj Close', 'Close', 'High', 'Low', 'Open', 'Volume'], dtype='object', name='Price')"
      ]
     },
     "execution_count": 46,
     "metadata": {},
     "output_type": "execute_result"
    }
   ],
   "source": [
    "hdf.columns.get_level_values(0).unique()"
   ]
  },
  {
   "cell_type": "code",
   "execution_count": 47,
   "id": "3cbbb3b0",
   "metadata": {
    "tags": []
   },
   "outputs": [],
   "source": [
    "# the first level of columns has the 'adjusted close', or the closing price for that day, with interest rate adjusted\n",
    "# we are also given 'volume', or the amount of shares traded that day\n",
    "# the other stuff might be nice to have, but we'll just stick with adjusted close and volume for simplicity\n",
    "# let's now select those\n",
    "# to not destroy our old dataframe, we'll make a copy called hdf_raw with df.copy()\n",
    "# once you make the copy, make hdf = hdf[columns]\n",
    "hdf_raw = hdf.copy()\n",
    "hdf = hdf[['Adj Close', 'Volume']]"
   ]
  },
  {
   "cell_type": "markdown",
   "id": "b62fba96",
   "metadata": {},
   "source": [
    "2b or not 2b, the answer is not because I deleted the question :) Also, **the next cell is filled in for you, so there's nothing you need to do here.**"
   ]
  },
  {
   "cell_type": "code",
   "execution_count": 48,
   "id": "28ef6703",
   "metadata": {
    "tags": []
   },
   "outputs": [
    {
     "data": {
      "text/html": [
       "<div>\n",
       "<style scoped>\n",
       "    .dataframe tbody tr th:only-of-type {\n",
       "        vertical-align: middle;\n",
       "    }\n",
       "\n",
       "    .dataframe tbody tr th {\n",
       "        vertical-align: top;\n",
       "    }\n",
       "\n",
       "    .dataframe thead tr th {\n",
       "        text-align: left;\n",
       "    }\n",
       "\n",
       "    .dataframe thead tr:last-of-type th {\n",
       "        text-align: right;\n",
       "    }\n",
       "</style>\n",
       "<table border=\"1\" class=\"dataframe\">\n",
       "  <thead>\n",
       "    <tr>\n",
       "      <th>Price</th>\n",
       "      <th colspan=\"8\" halign=\"left\">Adj Close</th>\n",
       "      <th colspan=\"8\" halign=\"left\">Volume</th>\n",
       "    </tr>\n",
       "    <tr>\n",
       "      <th>Ticker</th>\n",
       "      <th>BF.B</th>\n",
       "      <th>BRK.B</th>\n",
       "      <th>CTLT</th>\n",
       "      <th>GEV</th>\n",
       "      <th>MRO</th>\n",
       "      <th>PXD</th>\n",
       "      <th>SOLV</th>\n",
       "      <th>WRK</th>\n",
       "      <th>BF.B</th>\n",
       "      <th>BRK.B</th>\n",
       "      <th>CTLT</th>\n",
       "      <th>GEV</th>\n",
       "      <th>MRO</th>\n",
       "      <th>PXD</th>\n",
       "      <th>SOLV</th>\n",
       "      <th>WRK</th>\n",
       "    </tr>\n",
       "    <tr>\n",
       "      <th>Date</th>\n",
       "      <th></th>\n",
       "      <th></th>\n",
       "      <th></th>\n",
       "      <th></th>\n",
       "      <th></th>\n",
       "      <th></th>\n",
       "      <th></th>\n",
       "      <th></th>\n",
       "      <th></th>\n",
       "      <th></th>\n",
       "      <th></th>\n",
       "      <th></th>\n",
       "      <th></th>\n",
       "      <th></th>\n",
       "      <th></th>\n",
       "      <th></th>\n",
       "    </tr>\n",
       "  </thead>\n",
       "  <tbody>\n",
       "    <tr>\n",
       "      <th>2023-10-02</th>\n",
       "      <td>NaN</td>\n",
       "      <td>NaN</td>\n",
       "      <td>NaN</td>\n",
       "      <td>NaN</td>\n",
       "      <td>NaN</td>\n",
       "      <td>NaN</td>\n",
       "      <td>NaN</td>\n",
       "      <td>NaN</td>\n",
       "      <td>NaN</td>\n",
       "      <td>NaN</td>\n",
       "      <td>NaN</td>\n",
       "      <td>NaN</td>\n",
       "      <td>NaN</td>\n",
       "      <td>NaN</td>\n",
       "      <td>NaN</td>\n",
       "      <td>NaN</td>\n",
       "    </tr>\n",
       "    <tr>\n",
       "      <th>2023-10-03</th>\n",
       "      <td>NaN</td>\n",
       "      <td>NaN</td>\n",
       "      <td>NaN</td>\n",
       "      <td>NaN</td>\n",
       "      <td>NaN</td>\n",
       "      <td>NaN</td>\n",
       "      <td>NaN</td>\n",
       "      <td>NaN</td>\n",
       "      <td>NaN</td>\n",
       "      <td>NaN</td>\n",
       "      <td>NaN</td>\n",
       "      <td>NaN</td>\n",
       "      <td>NaN</td>\n",
       "      <td>NaN</td>\n",
       "      <td>NaN</td>\n",
       "      <td>NaN</td>\n",
       "    </tr>\n",
       "    <tr>\n",
       "      <th>2023-10-04</th>\n",
       "      <td>NaN</td>\n",
       "      <td>NaN</td>\n",
       "      <td>NaN</td>\n",
       "      <td>NaN</td>\n",
       "      <td>NaN</td>\n",
       "      <td>NaN</td>\n",
       "      <td>NaN</td>\n",
       "      <td>NaN</td>\n",
       "      <td>NaN</td>\n",
       "      <td>NaN</td>\n",
       "      <td>NaN</td>\n",
       "      <td>NaN</td>\n",
       "      <td>NaN</td>\n",
       "      <td>NaN</td>\n",
       "      <td>NaN</td>\n",
       "      <td>NaN</td>\n",
       "    </tr>\n",
       "    <tr>\n",
       "      <th>2023-10-05</th>\n",
       "      <td>NaN</td>\n",
       "      <td>NaN</td>\n",
       "      <td>NaN</td>\n",
       "      <td>NaN</td>\n",
       "      <td>NaN</td>\n",
       "      <td>NaN</td>\n",
       "      <td>NaN</td>\n",
       "      <td>NaN</td>\n",
       "      <td>NaN</td>\n",
       "      <td>NaN</td>\n",
       "      <td>NaN</td>\n",
       "      <td>NaN</td>\n",
       "      <td>NaN</td>\n",
       "      <td>NaN</td>\n",
       "      <td>NaN</td>\n",
       "      <td>NaN</td>\n",
       "    </tr>\n",
       "    <tr>\n",
       "      <th>2023-10-06</th>\n",
       "      <td>NaN</td>\n",
       "      <td>NaN</td>\n",
       "      <td>NaN</td>\n",
       "      <td>NaN</td>\n",
       "      <td>NaN</td>\n",
       "      <td>NaN</td>\n",
       "      <td>NaN</td>\n",
       "      <td>NaN</td>\n",
       "      <td>NaN</td>\n",
       "      <td>NaN</td>\n",
       "      <td>NaN</td>\n",
       "      <td>NaN</td>\n",
       "      <td>NaN</td>\n",
       "      <td>NaN</td>\n",
       "      <td>NaN</td>\n",
       "      <td>NaN</td>\n",
       "    </tr>\n",
       "    <tr>\n",
       "      <th>...</th>\n",
       "      <td>...</td>\n",
       "      <td>...</td>\n",
       "      <td>...</td>\n",
       "      <td>...</td>\n",
       "      <td>...</td>\n",
       "      <td>...</td>\n",
       "      <td>...</td>\n",
       "      <td>...</td>\n",
       "      <td>...</td>\n",
       "      <td>...</td>\n",
       "      <td>...</td>\n",
       "      <td>...</td>\n",
       "      <td>...</td>\n",
       "      <td>...</td>\n",
       "      <td>...</td>\n",
       "      <td>...</td>\n",
       "    </tr>\n",
       "    <tr>\n",
       "      <th>2024-03-13</th>\n",
       "      <td>NaN</td>\n",
       "      <td>NaN</td>\n",
       "      <td>NaN</td>\n",
       "      <td>NaN</td>\n",
       "      <td>NaN</td>\n",
       "      <td>NaN</td>\n",
       "      <td>NaN</td>\n",
       "      <td>NaN</td>\n",
       "      <td>NaN</td>\n",
       "      <td>NaN</td>\n",
       "      <td>NaN</td>\n",
       "      <td>NaN</td>\n",
       "      <td>NaN</td>\n",
       "      <td>NaN</td>\n",
       "      <td>NaN</td>\n",
       "      <td>NaN</td>\n",
       "    </tr>\n",
       "    <tr>\n",
       "      <th>2024-03-14</th>\n",
       "      <td>NaN</td>\n",
       "      <td>NaN</td>\n",
       "      <td>NaN</td>\n",
       "      <td>NaN</td>\n",
       "      <td>NaN</td>\n",
       "      <td>NaN</td>\n",
       "      <td>NaN</td>\n",
       "      <td>NaN</td>\n",
       "      <td>NaN</td>\n",
       "      <td>NaN</td>\n",
       "      <td>NaN</td>\n",
       "      <td>NaN</td>\n",
       "      <td>NaN</td>\n",
       "      <td>NaN</td>\n",
       "      <td>NaN</td>\n",
       "      <td>NaN</td>\n",
       "    </tr>\n",
       "    <tr>\n",
       "      <th>2024-03-15</th>\n",
       "      <td>NaN</td>\n",
       "      <td>NaN</td>\n",
       "      <td>NaN</td>\n",
       "      <td>NaN</td>\n",
       "      <td>NaN</td>\n",
       "      <td>NaN</td>\n",
       "      <td>NaN</td>\n",
       "      <td>NaN</td>\n",
       "      <td>NaN</td>\n",
       "      <td>NaN</td>\n",
       "      <td>NaN</td>\n",
       "      <td>NaN</td>\n",
       "      <td>NaN</td>\n",
       "      <td>NaN</td>\n",
       "      <td>NaN</td>\n",
       "      <td>NaN</td>\n",
       "    </tr>\n",
       "    <tr>\n",
       "      <th>2024-03-18</th>\n",
       "      <td>NaN</td>\n",
       "      <td>NaN</td>\n",
       "      <td>NaN</td>\n",
       "      <td>NaN</td>\n",
       "      <td>NaN</td>\n",
       "      <td>NaN</td>\n",
       "      <td>NaN</td>\n",
       "      <td>NaN</td>\n",
       "      <td>NaN</td>\n",
       "      <td>NaN</td>\n",
       "      <td>NaN</td>\n",
       "      <td>NaN</td>\n",
       "      <td>NaN</td>\n",
       "      <td>NaN</td>\n",
       "      <td>NaN</td>\n",
       "      <td>NaN</td>\n",
       "    </tr>\n",
       "    <tr>\n",
       "      <th>2024-03-19</th>\n",
       "      <td>NaN</td>\n",
       "      <td>NaN</td>\n",
       "      <td>NaN</td>\n",
       "      <td>NaN</td>\n",
       "      <td>NaN</td>\n",
       "      <td>NaN</td>\n",
       "      <td>NaN</td>\n",
       "      <td>NaN</td>\n",
       "      <td>NaN</td>\n",
       "      <td>NaN</td>\n",
       "      <td>NaN</td>\n",
       "      <td>NaN</td>\n",
       "      <td>NaN</td>\n",
       "      <td>NaN</td>\n",
       "      <td>NaN</td>\n",
       "      <td>NaN</td>\n",
       "    </tr>\n",
       "  </tbody>\n",
       "</table>\n",
       "<p>117 rows × 16 columns</p>\n",
       "</div>"
      ],
      "text/plain": [
       "Price      Adj Close                                 Volume                 \\\n",
       "Ticker          BF.B BRK.B CTLT GEV MRO PXD SOLV WRK   BF.B BRK.B CTLT GEV   \n",
       "Date                                                                         \n",
       "2023-10-02       NaN   NaN  NaN NaN NaN NaN  NaN NaN    NaN   NaN  NaN NaN   \n",
       "2023-10-03       NaN   NaN  NaN NaN NaN NaN  NaN NaN    NaN   NaN  NaN NaN   \n",
       "2023-10-04       NaN   NaN  NaN NaN NaN NaN  NaN NaN    NaN   NaN  NaN NaN   \n",
       "2023-10-05       NaN   NaN  NaN NaN NaN NaN  NaN NaN    NaN   NaN  NaN NaN   \n",
       "2023-10-06       NaN   NaN  NaN NaN NaN NaN  NaN NaN    NaN   NaN  NaN NaN   \n",
       "...              ...   ...  ...  ..  ..  ..  ...  ..    ...   ...  ...  ..   \n",
       "2024-03-13       NaN   NaN  NaN NaN NaN NaN  NaN NaN    NaN   NaN  NaN NaN   \n",
       "2024-03-14       NaN   NaN  NaN NaN NaN NaN  NaN NaN    NaN   NaN  NaN NaN   \n",
       "2024-03-15       NaN   NaN  NaN NaN NaN NaN  NaN NaN    NaN   NaN  NaN NaN   \n",
       "2024-03-18       NaN   NaN  NaN NaN NaN NaN  NaN NaN    NaN   NaN  NaN NaN   \n",
       "2024-03-19       NaN   NaN  NaN NaN NaN NaN  NaN NaN    NaN   NaN  NaN NaN   \n",
       "\n",
       "Price                        \n",
       "Ticker     MRO PXD SOLV WRK  \n",
       "Date                         \n",
       "2023-10-02 NaN NaN  NaN NaN  \n",
       "2023-10-03 NaN NaN  NaN NaN  \n",
       "2023-10-04 NaN NaN  NaN NaN  \n",
       "2023-10-05 NaN NaN  NaN NaN  \n",
       "2023-10-06 NaN NaN  NaN NaN  \n",
       "...         ..  ..  ...  ..  \n",
       "2024-03-13 NaN NaN  NaN NaN  \n",
       "2024-03-14 NaN NaN  NaN NaN  \n",
       "2024-03-15 NaN NaN  NaN NaN  \n",
       "2024-03-18 NaN NaN  NaN NaN  \n",
       "2024-03-19 NaN NaN  NaN NaN  \n",
       "\n",
       "[117 rows x 16 columns]"
      ]
     },
     "execution_count": 48,
     "metadata": {},
     "output_type": "execute_result"
    }
   ],
   "source": [
    "# you may have seen the following error message upon download: \n",
    "\n",
    "# 2 Failed downloads:\n",
    "# - BF.B: No data found for this date range, symbol may be delisted\n",
    "# - BRK.B: No data found, symbol may be delisted\n",
    "# - GEV and SOLV are also recent additions without any data\n",
    "\n",
    "# please use df.loc to view the data for these symbols\n",
    "# you should return all rows, and use columns.get_level_values(1) to get the second level of columns, with the symbols\n",
    "# note that you can use '.isin(list)' as a boolean operator to return if a value is in a list\n",
    "# your code might look like\n",
    "\n",
    "# df.loc[:,df.columns.get_level_values(1).isin([list of values to check])]\n",
    "broken_df = hdf.loc[:,hdf.columns.get_level_values(1).isin(['BRK.B', 'BF.B', 'GEV', 'SOLV', 'PXD', 'WRK', 'CTLT', 'MRO'])]\n",
    "broken_df"
   ]
  },
  {
   "cell_type": "code",
   "execution_count": 49,
   "id": "cea789d1",
   "metadata": {
    "deletable": false,
    "editable": false
   },
   "outputs": [
    {
     "data": {
      "text/html": [
       "<p><strong><pre style='display: inline;'>q2c</pre></strong> passed! 🚀</p>"
      ],
      "text/plain": [
       "q2c results: All test cases passed!"
      ]
     },
     "execution_count": 49,
     "metadata": {},
     "output_type": "execute_result"
    }
   ],
   "source": [
    "grader.check(\"q2c\")"
   ]
  },
  {
   "cell_type": "code",
   "execution_count": 56,
   "id": "0220a69d",
   "metadata": {
    "tags": []
   },
   "outputs": [],
   "source": [
    "# awesome, now lets select everything except for that, since we dont want to use this data\n",
    "# we can invert a boolean indexer by using ~, eg. df.loc[:, ~<condition>]\n",
    "# let hdf be equal to this new selection, and then drop nan values using df.dropna()\n",
    "hdf = hdf.loc[: , ~hdf.columns.get_level_values(1).isin(['BRK.B', 'BF.B', 'GEV', 'SOLV', 'PXD', 'WRK', 'CTLT', 'MRO'])]\n",
    "hdf = hdf.dropna()"
   ]
  },
  {
   "cell_type": "code",
   "execution_count": 57,
   "id": "c0460f2d",
   "metadata": {
    "deletable": false,
    "editable": false
   },
   "outputs": [
    {
     "data": {
      "text/html": [
       "<p><strong><pre style='display: inline;'>q2d</pre></strong> passed! 🙌</p>"
      ],
      "text/plain": [
       "q2d results: All test cases passed!"
      ]
     },
     "execution_count": 57,
     "metadata": {},
     "output_type": "execute_result"
    }
   ],
   "source": [
    "grader.check(\"q2d\")"
   ]
  },
  {
   "cell_type": "markdown",
   "id": "74be3a38",
   "metadata": {
    "deletable": false,
    "editable": false
   },
   "source": [
    "## Submission\n",
    "\n",
    "Make sure you have run all cells in your notebook in order before running the cell below, so that all images/graphs appear in the output. The cell below will generate a zip file for you to submit. **Please save before exporting!**\n",
    "\n",
    "Please also check gradescope for any written assignments for this week."
   ]
  },
  {
   "cell_type": "code",
   "execution_count": null,
   "id": "15f07a31",
   "metadata": {
    "deletable": false,
    "editable": false
   },
   "outputs": [],
   "source": [
    "# Save your notebook first, then run this cell to export your submission.\n",
    "grader.export(pdf=False)"
   ]
  },
  {
   "cell_type": "markdown",
   "id": "f4cce917",
   "metadata": {},
   "source": [
    " "
   ]
  }
 ],
 "metadata": {
  "kernelspec": {
   "display_name": "Python 3 (ipykernel)",
   "language": "python",
   "name": "python3"
  },
  "language_info": {
   "codemirror_mode": {
    "name": "ipython",
    "version": 3
   },
   "file_extension": ".py",
   "mimetype": "text/x-python",
   "name": "python",
   "nbconvert_exporter": "python",
   "pygments_lexer": "ipython3",
   "version": "3.11.11"
  },
  "otter": {
   "OK_FORMAT": true,
   "tests": {
    "q1a": {
     "name": "q1a",
     "points": 1,
     "suites": [
      {
       "cases": [
        {
         "code": ">>> assert len(df_head5) == 5\n",
         "hidden": false,
         "locked": false,
         "points": 1
        }
       ],
       "scored": true,
       "setup": "",
       "teardown": "",
       "type": "doctest"
      }
     ]
    },
    "q1b": {
     "name": "q1b",
     "points": 1,
     "suites": [
      {
       "cases": [
        {
         "code": ">>> assert len(columns) == 3\n",
         "hidden": false,
         "locked": false,
         "points": 1
        }
       ],
       "scored": true,
       "setup": "",
       "teardown": "",
       "type": "doctest"
      }
     ]
    },
    "q1c": {
     "name": "q1c",
     "points": 1,
     "suites": [
      {
       "cases": [
        {
         "code": ">>> assert unique_sectors == 11\n",
         "hidden": false,
         "locked": false,
         "points": 1
        }
       ],
       "scored": true,
       "setup": "",
       "teardown": "",
       "type": "doctest"
      }
     ]
    },
    "q1d": {
     "name": "q1d",
     "points": 1,
     "suites": [
      {
       "cases": [
        {
         "code": ">>> assert it_sectors == 65\n",
         "hidden": false,
         "locked": false,
         "points": 1
        },
        {
         "code": ">>> it_sectors\n65",
         "hidden": false,
         "locked": false
        }
       ],
       "scored": true,
       "setup": "",
       "teardown": "",
       "type": "doctest"
      }
     ]
    },
    "q1e": {
     "name": "q1e",
     "points": 1,
     "suites": [
      {
       "cases": [
        {
         "code": ">>> assert specified_slice.shape == (5,6)\n",
         "hidden": false,
         "locked": false,
         "points": 1
        }
       ],
       "scored": true,
       "setup": "",
       "teardown": "",
       "type": "doctest"
      }
     ]
    },
    "q1f": {
     "name": "q1f",
     "points": 1,
     "suites": [
      {
       "cases": [
        {
         "code": ">>> assert false_healthcare == 439\n",
         "hidden": false,
         "locked": false,
         "points": 1
        }
       ],
       "scored": true,
       "setup": "",
       "teardown": "",
       "type": "doctest"
      }
     ]
    },
    "q1g": {
     "name": "q1g",
     "points": 1,
     "suites": [
      {
       "cases": [
        {
         "code": ">>> assert energy['CIK'].sum() == 19373487\n",
         "hidden": false,
         "locked": false,
         "points": 1
        }
       ],
       "scored": true,
       "setup": "",
       "teardown": "",
       "type": "doctest"
      }
     ]
    },
    "q1h": {
     "name": "q1h",
     "points": 1,
     "suites": [
      {
       "cases": [
        {
         "code": ">>> assert first4cols_industrials.shape == (79,4)\n",
         "hidden": false,
         "locked": false,
         "points": 1
        }
       ],
       "scored": true,
       "setup": "",
       "teardown": "",
       "type": "doctest"
      }
     ]
    },
    "q1i": {
     "name": "q1i",
     "points": 1,
     "suites": [
      {
       "cases": [
        {
         "code": ">>> assert old_4_security == 'Bath & Body Works, Inc.'\n",
         "hidden": false,
         "locked": false,
         "points": 1
        }
       ],
       "scored": true,
       "setup": "",
       "teardown": "",
       "type": "doctest"
      }
     ]
    },
    "q1j": {
     "name": "q1j",
     "points": 1,
     "suites": [
      {
       "cases": [
        {
         "code": ">>> assert np.isclose(mean_realestate_cik, 956436.7741935484)\n",
         "hidden": false,
         "locked": false,
         "points": 1
        }
       ],
       "scored": true,
       "setup": "",
       "teardown": "",
       "type": "doctest"
      }
     ]
    },
    "q2a": {
     "name": "q2a",
     "points": 1,
     "suites": [
      {
       "cases": [
        {
         "code": ">>> assert hdf.shape == hdf.shape\n",
         "hidden": false,
         "locked": false,
         "points": 1
        }
       ],
       "scored": true,
       "setup": "",
       "teardown": "",
       "type": "doctest"
      }
     ]
    },
    "q2b": {
     "name": "q2b",
     "points": 1,
     "suites": [
      {
       "cases": [
        {
         "code": ">>> assert hdf.columns.size <= 1006\n",
         "hidden": false,
         "locked": false,
         "points": 1
        }
       ],
       "scored": true,
       "setup": "",
       "teardown": "",
       "type": "doctest"
      }
     ]
    },
    "q2c": {
     "name": "q2c",
     "points": 1,
     "suites": [
      {
       "cases": [
        {
         "code": ">>> assert broken_df.shape[1] >= 12\n",
         "hidden": false,
         "locked": false,
         "points": 1
        }
       ],
       "scored": true,
       "setup": "",
       "teardown": "",
       "type": "doctest"
      }
     ]
    },
    "q2d": {
     "name": "q2d",
     "points": 1,
     "suites": [
      {
       "cases": [
        {
         "code": ">>> assert hdf.shape[0] == 115 and hdf.shape[1] <= 500\n",
         "hidden": false,
         "locked": false,
         "points": 1
        }
       ],
       "scored": true,
       "setup": "",
       "teardown": "",
       "type": "doctest"
      }
     ]
    }
   }
  }
 },
 "nbformat": 4,
 "nbformat_minor": 5
}
