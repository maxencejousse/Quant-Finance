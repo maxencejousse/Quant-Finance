{
 "cells": [
  {
   "cell_type": "code",
   "execution_count": 174,
   "id": "330f5735",
   "metadata": {
    "deletable": false,
    "editable": false
   },
   "outputs": [],
   "source": [
    "# Initialize Otter\n",
    "import otter\n",
    "grader = otter.Notebook(\"longshort_strategy part 2.ipynb\")"
   ]
  },
  {
   "cell_type": "code",
   "execution_count": 175,
   "id": "efbb5548",
   "metadata": {},
   "outputs": [],
   "source": [
    "import datetime as dt\n",
    "import pandas as pd\n",
    "import numpy as np\n",
    "import warnings\n",
    "import statsmodels.api as sm\n",
    "import matplotlib.pyplot as plt\n",
    "from scipy.stats import zscore\n",
    "from sklearn.metrics import mean_squared_error, r2_score\n",
    "\n",
    "warnings.filterwarnings('ignore')"
   ]
  },
  {
   "cell_type": "code",
   "execution_count": 176,
   "id": "ce7db535",
   "metadata": {},
   "outputs": [],
   "source": [
    "def isclose(value, original, tolerance= 0.05):\n",
    "    return value <= original * (1+tolerance) and value >= original * (1-tolerance)"
   ]
  },
  {
   "cell_type": "markdown",
   "id": "a12c5e0f-171d-4868-8595-4a45c638e667",
   "metadata": {},
   "source": [
    "\n",
    "### Introduction\n",
    "\n",
    "In this homework, we will explore the foundational tools and techniques required to develop and evaluate a trading strategy. Specifically, we will:\n",
    "\n",
    "- **Learn and apply Pandas** for data cleaning and preprocessing.\n",
    "- **Implement a basic trading strategy**, including both long and short positions.\n",
    "- **Model the costs** associated with executing the strategy, such as transaction fees or slippage.\n",
    "- **Calculate expected returns** to assess the potential profitability of the strategy.\n",
    "- **Incorporate expected returns** into an enhanced trading strategy for improved performance.\n",
    "- **Experiment with predictive features and signals** to refine the strategy further.\n",
    "\n",
    "By the end of this homework, you will have a solid understanding of how to use data-driven methods to design and evaluate tradin\n",
    "\n",
    "**Note: For the Spring 2025 semester, we only recommend you complete up to section 7 (\"evaluating performance\").** The rest of the test cases have not been updated for new data and will likely fail, but you are welcome to work on further sections and ignore the test cases."
   ]
  },
  {
   "cell_type": "markdown",
   "id": "cfe1e415",
   "metadata": {},
   "source": [
    "# returns"
   ]
  },
  {
   "cell_type": "markdown",
   "id": "6c4c4193-f892-4726-ba8c-5dd7b47a69e3",
   "metadata": {},
   "source": [
    "---\n",
    "\n",
    "### Calculating Return on Investment (ROI) in Finance\n",
    "\n",
    "To evaluate the performance of any strategy, it is essential to calculate the **return on investment (ROI)**. In finance, we often use **log returns** instead of **simple returns** because of their mathematical advantages.\n",
    "\n",
    "#### Why Use Log Returns?\n",
    "- **Ease of Calculations**: Log returns are simpler to work with in mathematical models.\n",
    "- **Constant Compounding**: Log returns represent continuously compounding returns, allowing us to **add them over time** instead of multiplying.\n",
    "\n",
    "#### How to Calculate Returns\n",
    "1. **Simple Returns**:  \n",
    "   \n",
    "   $$\\text{Simple Return} = \\frac{x_1 - x_0}{x_0}$$\n",
    "   \n",
    "   This is the **percentage change** from \\(x_0\\) (initial value) to \\(x_1\\) (final value).\n",
    "\n",
    "2. **Log Returns**:  \n",
    "   \n",
    "   $$\\text{Log Return} = \\log\\left(\\frac{x_1}{x_0}\\right)$$\n",
    "   \n",
    "   This is the natural logarithm of the ratio between the final and initial values.\n",
    "\n",
    "---"
   ]
  },
  {
   "cell_type": "code",
   "execution_count": 177,
   "id": "90051a2f",
   "metadata": {},
   "outputs": [
    {
     "data": {
      "text/html": [
       "<div>\n",
       "<style scoped>\n",
       "    .dataframe tbody tr th:only-of-type {\n",
       "        vertical-align: middle;\n",
       "    }\n",
       "\n",
       "    .dataframe tbody tr th {\n",
       "        vertical-align: top;\n",
       "    }\n",
       "\n",
       "    .dataframe thead tr th {\n",
       "        text-align: left;\n",
       "    }\n",
       "\n",
       "    .dataframe thead tr:last-of-type th {\n",
       "        text-align: right;\n",
       "    }\n",
       "</style>\n",
       "<table border=\"1\" class=\"dataframe\">\n",
       "  <thead>\n",
       "    <tr>\n",
       "      <th>Price</th>\n",
       "      <th colspan=\"10\" halign=\"left\">Adj Close</th>\n",
       "      <th>...</th>\n",
       "      <th colspan=\"10\" halign=\"left\">Volume</th>\n",
       "    </tr>\n",
       "    <tr>\n",
       "      <th>Ticker</th>\n",
       "      <th>A</th>\n",
       "      <th>AAL</th>\n",
       "      <th>AAPL</th>\n",
       "      <th>ABBV</th>\n",
       "      <th>ABNB</th>\n",
       "      <th>ABT</th>\n",
       "      <th>ACGL</th>\n",
       "      <th>ACN</th>\n",
       "      <th>ADBE</th>\n",
       "      <th>ADI</th>\n",
       "      <th>...</th>\n",
       "      <th>WTW</th>\n",
       "      <th>WY</th>\n",
       "      <th>WYNN</th>\n",
       "      <th>XEL</th>\n",
       "      <th>XOM</th>\n",
       "      <th>XYL</th>\n",
       "      <th>YUM</th>\n",
       "      <th>ZBH</th>\n",
       "      <th>ZBRA</th>\n",
       "      <th>ZTS</th>\n",
       "    </tr>\n",
       "    <tr>\n",
       "      <th>Date</th>\n",
       "      <th></th>\n",
       "      <th></th>\n",
       "      <th></th>\n",
       "      <th></th>\n",
       "      <th></th>\n",
       "      <th></th>\n",
       "      <th></th>\n",
       "      <th></th>\n",
       "      <th></th>\n",
       "      <th></th>\n",
       "      <th></th>\n",
       "      <th></th>\n",
       "      <th></th>\n",
       "      <th></th>\n",
       "      <th></th>\n",
       "      <th></th>\n",
       "      <th></th>\n",
       "      <th></th>\n",
       "      <th></th>\n",
       "      <th></th>\n",
       "      <th></th>\n",
       "    </tr>\n",
       "  </thead>\n",
       "  <tbody>\n",
       "    <tr>\n",
       "      <th>2023-10-04</th>\n",
       "      <td>110.917877</td>\n",
       "      <td>12.73</td>\n",
       "      <td>172.585999</td>\n",
       "      <td>141.069550</td>\n",
       "      <td>127.410004</td>\n",
       "      <td>93.262283</td>\n",
       "      <td>76.509293</td>\n",
       "      <td>303.237457</td>\n",
       "      <td>518.419983</td>\n",
       "      <td>170.809814</td>\n",
       "      <td>...</td>\n",
       "      <td>749100</td>\n",
       "      <td>3954000</td>\n",
       "      <td>2289300</td>\n",
       "      <td>3948700</td>\n",
       "      <td>19622200</td>\n",
       "      <td>1614400</td>\n",
       "      <td>1381200</td>\n",
       "      <td>1597600</td>\n",
       "      <td>487500</td>\n",
       "      <td>1673400</td>\n",
       "    </tr>\n",
       "    <tr>\n",
       "      <th>2023-10-05</th>\n",
       "      <td>109.606766</td>\n",
       "      <td>12.85</td>\n",
       "      <td>173.828293</td>\n",
       "      <td>140.840302</td>\n",
       "      <td>124.989998</td>\n",
       "      <td>93.798546</td>\n",
       "      <td>77.631355</td>\n",
       "      <td>303.502045</td>\n",
       "      <td>516.440002</td>\n",
       "      <td>169.148819</td>\n",
       "      <td>...</td>\n",
       "      <td>855000</td>\n",
       "      <td>3724500</td>\n",
       "      <td>1513600</td>\n",
       "      <td>3835400</td>\n",
       "      <td>20128800</td>\n",
       "      <td>1131000</td>\n",
       "      <td>1240200</td>\n",
       "      <td>1048200</td>\n",
       "      <td>448400</td>\n",
       "      <td>2083200</td>\n",
       "    </tr>\n",
       "    <tr>\n",
       "      <th>2023-10-06</th>\n",
       "      <td>109.894814</td>\n",
       "      <td>12.76</td>\n",
       "      <td>176.392334</td>\n",
       "      <td>141.594879</td>\n",
       "      <td>126.360001</td>\n",
       "      <td>94.461571</td>\n",
       "      <td>78.144844</td>\n",
       "      <td>305.981781</td>\n",
       "      <td>526.679993</td>\n",
       "      <td>170.986740</td>\n",
       "      <td>...</td>\n",
       "      <td>897700</td>\n",
       "      <td>4318300</td>\n",
       "      <td>2470600</td>\n",
       "      <td>6337200</td>\n",
       "      <td>25363400</td>\n",
       "      <td>1149700</td>\n",
       "      <td>2111900</td>\n",
       "      <td>1570500</td>\n",
       "      <td>384000</td>\n",
       "      <td>1490600</td>\n",
       "    </tr>\n",
       "    <tr>\n",
       "      <th>2023-10-09</th>\n",
       "      <td>110.530510</td>\n",
       "      <td>12.24</td>\n",
       "      <td>177.883041</td>\n",
       "      <td>142.425888</td>\n",
       "      <td>127.769997</td>\n",
       "      <td>94.344574</td>\n",
       "      <td>78.040245</td>\n",
       "      <td>305.805359</td>\n",
       "      <td>529.289978</td>\n",
       "      <td>170.347885</td>\n",
       "      <td>...</td>\n",
       "      <td>655500</td>\n",
       "      <td>3171800</td>\n",
       "      <td>1622800</td>\n",
       "      <td>2702100</td>\n",
       "      <td>22369900</td>\n",
       "      <td>949500</td>\n",
       "      <td>1840000</td>\n",
       "      <td>865900</td>\n",
       "      <td>266600</td>\n",
       "      <td>1215100</td>\n",
       "    </tr>\n",
       "    <tr>\n",
       "      <th>2023-10-10</th>\n",
       "      <td>112.526970</td>\n",
       "      <td>12.26</td>\n",
       "      <td>177.286758</td>\n",
       "      <td>142.215759</td>\n",
       "      <td>131.589996</td>\n",
       "      <td>95.124588</td>\n",
       "      <td>77.840553</td>\n",
       "      <td>306.109161</td>\n",
       "      <td>532.719971</td>\n",
       "      <td>172.952438</td>\n",
       "      <td>...</td>\n",
       "      <td>478400</td>\n",
       "      <td>3078500</td>\n",
       "      <td>1674800</td>\n",
       "      <td>3117900</td>\n",
       "      <td>13892000</td>\n",
       "      <td>1478800</td>\n",
       "      <td>1643300</td>\n",
       "      <td>999400</td>\n",
       "      <td>361900</td>\n",
       "      <td>1665300</td>\n",
       "    </tr>\n",
       "  </tbody>\n",
       "</table>\n",
       "<p>5 rows × 994 columns</p>\n",
       "</div>"
      ],
      "text/plain": [
       "Price        Adj Close                                                        \\\n",
       "Ticker               A    AAL        AAPL        ABBV        ABNB        ABT   \n",
       "Date                                                                           \n",
       "2023-10-04  110.917877  12.73  172.585999  141.069550  127.410004  93.262283   \n",
       "2023-10-05  109.606766  12.85  173.828293  140.840302  124.989998  93.798546   \n",
       "2023-10-06  109.894814  12.76  176.392334  141.594879  126.360001  94.461571   \n",
       "2023-10-09  110.530510  12.24  177.883041  142.425888  127.769997  94.344574   \n",
       "2023-10-10  112.526970  12.26  177.286758  142.215759  131.589996  95.124588   \n",
       "\n",
       "Price                                                      ...  Volume  \\\n",
       "Ticker           ACGL         ACN        ADBE         ADI  ...     WTW   \n",
       "Date                                                       ...           \n",
       "2023-10-04  76.509293  303.237457  518.419983  170.809814  ...  749100   \n",
       "2023-10-05  77.631355  303.502045  516.440002  169.148819  ...  855000   \n",
       "2023-10-06  78.144844  305.981781  526.679993  170.986740  ...  897700   \n",
       "2023-10-09  78.040245  305.805359  529.289978  170.347885  ...  655500   \n",
       "2023-10-10  77.840553  306.109161  532.719971  172.952438  ...  478400   \n",
       "\n",
       "Price                                                                       \\\n",
       "Ticker           WY     WYNN      XEL       XOM      XYL      YUM      ZBH   \n",
       "Date                                                                         \n",
       "2023-10-04  3954000  2289300  3948700  19622200  1614400  1381200  1597600   \n",
       "2023-10-05  3724500  1513600  3835400  20128800  1131000  1240200  1048200   \n",
       "2023-10-06  4318300  2470600  6337200  25363400  1149700  2111900  1570500   \n",
       "2023-10-09  3171800  1622800  2702100  22369900   949500  1840000   865900   \n",
       "2023-10-10  3078500  1674800  3117900  13892000  1478800  1643300   999400   \n",
       "\n",
       "Price                        \n",
       "Ticker        ZBRA      ZTS  \n",
       "Date                         \n",
       "2023-10-04  487500  1673400  \n",
       "2023-10-05  448400  2083200  \n",
       "2023-10-06  384000  1490600  \n",
       "2023-10-09  266600  1215100  \n",
       "2023-10-10  361900  1665300  \n",
       "\n",
       "[5 rows x 994 columns]"
      ]
     },
     "execution_count": 177,
     "metadata": {},
     "output_type": "execute_result"
    }
   ],
   "source": [
    "# see if you can derive the transformations from log returns to simple returns, and simple returns to log returns\n",
    "hdf = pd.read_parquet('./stock_data.parquet')\n",
    "hdf.head()"
   ]
  },
  {
   "cell_type": "code",
   "execution_count": 178,
   "id": "8e2c6454",
   "metadata": {
    "tags": []
   },
   "outputs": [],
   "source": [
    "# use np.exp\n",
    "def logtosimple(logreturn):\n",
    "    return np.exp(logreturn) -1"
   ]
  },
  {
   "cell_type": "code",
   "execution_count": 179,
   "id": "f0dafea5",
   "metadata": {
    "deletable": false,
    "editable": false
   },
   "outputs": [
    {
     "data": {
      "text/html": [
       "<p><strong><pre style='display: inline;'>q3a</pre></strong> passed! 💯</p>"
      ],
      "text/plain": [
       "q3a results: All test cases passed!"
      ]
     },
     "execution_count": 179,
     "metadata": {},
     "output_type": "execute_result"
    }
   ],
   "source": [
    "grader.check(\"q3a\")"
   ]
  },
  {
   "cell_type": "code",
   "execution_count": 180,
   "id": "dfdab521",
   "metadata": {
    "tags": []
   },
   "outputs": [],
   "source": [
    "# use np.log\n",
    "def simpletolog(simplereturn):\n",
    "    return np.log(simplereturn) "
   ]
  },
  {
   "cell_type": "code",
   "execution_count": 181,
   "id": "52c8dbd3",
   "metadata": {
    "deletable": false,
    "editable": false
   },
   "outputs": [
    {
     "data": {
      "text/html": [
       "<p><strong style='color: red;'><pre style='display: inline;'>q3b</pre> results:</strong></p><p><strong><pre style='display: inline;'>q3b - 1</pre> result:</strong></p><pre>    ❌ Test case failed\n",
       "    Trying:\n",
       "        assert np.isclose(simpletolog(1),0.6931471805599453)\n",
       "    Expecting nothing\n",
       "    **********************************************************************\n",
       "    Line 1, in q3b 0\n",
       "    Failed example:\n",
       "        assert np.isclose(simpletolog(1),0.6931471805599453)\n",
       "    Exception raised:\n",
       "        Traceback (most recent call last):\n",
       "          File \"/srv/conda/lib/python3.11/doctest.py\", line 1355, in __run\n",
       "            exec(compile(example.source, filename, \"single\",\n",
       "          File \"<doctest q3b 0[0]>\", line 1, in <module>\n",
       "            assert np.isclose(simpletolog(1),0.6931471805599453)\n",
       "                   ^^^^^^^^^^^^^^^^^^^^^^^^^^^^^^^^^^^^^^^^^^^^^\n",
       "        AssertionError\n",
       "</pre>"
      ],
      "text/plain": [
       "q3b results:\n",
       "    q3b - 1 result:\n",
       "        ❌ Test case failed\n",
       "        Trying:\n",
       "            assert np.isclose(simpletolog(1),0.6931471805599453)\n",
       "        Expecting nothing\n",
       "        **********************************************************************\n",
       "        Line 1, in q3b 0\n",
       "        Failed example:\n",
       "            assert np.isclose(simpletolog(1),0.6931471805599453)\n",
       "        Exception raised:\n",
       "            Traceback (most recent call last):\n",
       "              File \"/srv/conda/lib/python3.11/doctest.py\", line 1355, in __run\n",
       "                exec(compile(example.source, filename, \"single\",\n",
       "              File \"<doctest q3b 0[0]>\", line 1, in <module>\n",
       "                assert np.isclose(simpletolog(1),0.6931471805599453)\n",
       "                       ^^^^^^^^^^^^^^^^^^^^^^^^^^^^^^^^^^^^^^^^^^^^^\n",
       "            AssertionError"
      ]
     },
     "execution_count": 181,
     "metadata": {},
     "output_type": "execute_result"
    }
   ],
   "source": [
    "grader.check(\"q3b\")"
   ]
  },
  {
   "cell_type": "code",
   "execution_count": 182,
   "id": "53958da2",
   "metadata": {
    "tags": []
   },
   "outputs": [
    {
     "data": {
      "text/html": [
       "<div>\n",
       "<style scoped>\n",
       "    .dataframe tbody tr th:only-of-type {\n",
       "        vertical-align: middle;\n",
       "    }\n",
       "\n",
       "    .dataframe tbody tr th {\n",
       "        vertical-align: top;\n",
       "    }\n",
       "\n",
       "    .dataframe thead tr th {\n",
       "        text-align: left;\n",
       "    }\n",
       "\n",
       "    .dataframe thead tr:last-of-type th {\n",
       "        text-align: right;\n",
       "    }\n",
       "</style>\n",
       "<table border=\"1\" class=\"dataframe\">\n",
       "  <thead>\n",
       "    <tr>\n",
       "      <th>Price</th>\n",
       "      <th>Adj Close</th>\n",
       "      <th>Volume</th>\n",
       "    </tr>\n",
       "    <tr>\n",
       "      <th>Ticker</th>\n",
       "      <th>AAL</th>\n",
       "      <th>AAL</th>\n",
       "    </tr>\n",
       "    <tr>\n",
       "      <th>Date</th>\n",
       "      <th></th>\n",
       "      <th></th>\n",
       "    </tr>\n",
       "  </thead>\n",
       "  <tbody>\n",
       "    <tr>\n",
       "      <th>2023-10-04</th>\n",
       "      <td>12.73</td>\n",
       "      <td>49738100</td>\n",
       "    </tr>\n",
       "    <tr>\n",
       "      <th>2023-10-05</th>\n",
       "      <td>12.85</td>\n",
       "      <td>36272900</td>\n",
       "    </tr>\n",
       "    <tr>\n",
       "      <th>2023-10-06</th>\n",
       "      <td>12.76</td>\n",
       "      <td>31822200</td>\n",
       "    </tr>\n",
       "    <tr>\n",
       "      <th>2023-10-09</th>\n",
       "      <td>12.24</td>\n",
       "      <td>51462700</td>\n",
       "    </tr>\n",
       "    <tr>\n",
       "      <th>2023-10-10</th>\n",
       "      <td>12.26</td>\n",
       "      <td>37144200</td>\n",
       "    </tr>\n",
       "  </tbody>\n",
       "</table>\n",
       "</div>"
      ],
      "text/plain": [
       "Price      Adj Close    Volume\n",
       "Ticker           AAL       AAL\n",
       "Date                          \n",
       "2023-10-04     12.73  49738100\n",
       "2023-10-05     12.85  36272900\n",
       "2023-10-06     12.76  31822200\n",
       "2023-10-09     12.24  51462700\n",
       "2023-10-10     12.26  37144200"
      ]
     },
     "execution_count": 182,
     "metadata": {},
     "output_type": "execute_result"
    }
   ],
   "source": [
    "# let's look at an example asset\n",
    "# create a dataframe that is just the adjusted close and volume for AAL\n",
    "aal = hdf.loc[:,hdf.columns.get_level_values(1) == \"AAL\"]\n",
    "aal.head()"
   ]
  },
  {
   "cell_type": "code",
   "execution_count": 183,
   "id": "ee424941",
   "metadata": {
    "deletable": false,
    "editable": false
   },
   "outputs": [
    {
     "data": {
      "text/html": [
       "<p><strong><pre style='display: inline;'>q3c</pre></strong> passed! 💯</p>"
      ],
      "text/plain": [
       "q3c results: All test cases passed!"
      ]
     },
     "execution_count": 183,
     "metadata": {},
     "output_type": "execute_result"
    }
   ],
   "source": [
    "grader.check(\"q3c\")"
   ]
  },
  {
   "cell_type": "markdown",
   "id": "90402543-b9fc-47e2-8f43-72c8a5e18af8",
   "metadata": {},
   "source": [
    "Let's remove the top level of the columns in order to make things easier - we already know the symbol is AAL"
   ]
  },
  {
   "cell_type": "code",
   "execution_count": 184,
   "id": "b0588dda",
   "metadata": {
    "tags": []
   },
   "outputs": [
    {
     "data": {
      "text/html": [
       "<div>\n",
       "<style scoped>\n",
       "    .dataframe tbody tr th:only-of-type {\n",
       "        vertical-align: middle;\n",
       "    }\n",
       "\n",
       "    .dataframe tbody tr th {\n",
       "        vertical-align: top;\n",
       "    }\n",
       "\n",
       "    .dataframe thead th {\n",
       "        text-align: right;\n",
       "    }\n",
       "</style>\n",
       "<table border=\"1\" class=\"dataframe\">\n",
       "  <thead>\n",
       "    <tr style=\"text-align: right;\">\n",
       "      <th>Price</th>\n",
       "      <th>Adj Close</th>\n",
       "      <th>Volume</th>\n",
       "    </tr>\n",
       "    <tr>\n",
       "      <th>Date</th>\n",
       "      <th></th>\n",
       "      <th></th>\n",
       "    </tr>\n",
       "  </thead>\n",
       "  <tbody>\n",
       "    <tr>\n",
       "      <th>2023-10-04</th>\n",
       "      <td>12.73</td>\n",
       "      <td>49738100</td>\n",
       "    </tr>\n",
       "    <tr>\n",
       "      <th>2023-10-05</th>\n",
       "      <td>12.85</td>\n",
       "      <td>36272900</td>\n",
       "    </tr>\n",
       "    <tr>\n",
       "      <th>2023-10-06</th>\n",
       "      <td>12.76</td>\n",
       "      <td>31822200</td>\n",
       "    </tr>\n",
       "    <tr>\n",
       "      <th>2023-10-09</th>\n",
       "      <td>12.24</td>\n",
       "      <td>51462700</td>\n",
       "    </tr>\n",
       "    <tr>\n",
       "      <th>2023-10-10</th>\n",
       "      <td>12.26</td>\n",
       "      <td>37144200</td>\n",
       "    </tr>\n",
       "  </tbody>\n",
       "</table>\n",
       "</div>"
      ],
      "text/plain": [
       "Price       Adj Close    Volume\n",
       "Date                           \n",
       "2023-10-04      12.73  49738100\n",
       "2023-10-05      12.85  36272900\n",
       "2023-10-06      12.76  31822200\n",
       "2023-10-09      12.24  51462700\n",
       "2023-10-10      12.26  37144200"
      ]
     },
     "execution_count": 184,
     "metadata": {},
     "output_type": "execute_result"
    }
   ],
   "source": [
    "aal.columns = aal.columns.get_level_values(0)\n",
    "aal.head()"
   ]
  },
  {
   "cell_type": "code",
   "execution_count": 185,
   "id": "bfd6337c",
   "metadata": {
    "deletable": false,
    "editable": false
   },
   "outputs": [
    {
     "data": {
      "text/html": [
       "<p><strong><pre style='display: inline;'>q3d</pre></strong> passed! 🚀</p>"
      ],
      "text/plain": [
       "q3d results: All test cases passed!"
      ]
     },
     "execution_count": 185,
     "metadata": {},
     "output_type": "execute_result"
    }
   ],
   "source": [
    "grader.check(\"q3d\")"
   ]
  },
  {
   "cell_type": "markdown",
   "id": "f331889a-5535-4a27-8b37-543ba37a84a3",
   "metadata": {},
   "source": [
    "To calculate returns for **AAL**, create a new column by applying `.pct_change()` to the **adjusted close** column."
   ]
  },
  {
   "cell_type": "code",
   "execution_count": 186,
   "id": "ef10ba03",
   "metadata": {
    "tags": []
   },
   "outputs": [
    {
     "data": {
      "text/html": [
       "<div>\n",
       "<style scoped>\n",
       "    .dataframe tbody tr th:only-of-type {\n",
       "        vertical-align: middle;\n",
       "    }\n",
       "\n",
       "    .dataframe tbody tr th {\n",
       "        vertical-align: top;\n",
       "    }\n",
       "\n",
       "    .dataframe thead th {\n",
       "        text-align: right;\n",
       "    }\n",
       "</style>\n",
       "<table border=\"1\" class=\"dataframe\">\n",
       "  <thead>\n",
       "    <tr style=\"text-align: right;\">\n",
       "      <th>Price</th>\n",
       "      <th>Adj Close</th>\n",
       "      <th>Volume</th>\n",
       "      <th>returns</th>\n",
       "    </tr>\n",
       "    <tr>\n",
       "      <th>Date</th>\n",
       "      <th></th>\n",
       "      <th></th>\n",
       "      <th></th>\n",
       "    </tr>\n",
       "  </thead>\n",
       "  <tbody>\n",
       "    <tr>\n",
       "      <th>2023-10-04</th>\n",
       "      <td>12.73</td>\n",
       "      <td>49738100</td>\n",
       "      <td>NaN</td>\n",
       "    </tr>\n",
       "    <tr>\n",
       "      <th>2023-10-05</th>\n",
       "      <td>12.85</td>\n",
       "      <td>36272900</td>\n",
       "      <td>0.009427</td>\n",
       "    </tr>\n",
       "    <tr>\n",
       "      <th>2023-10-06</th>\n",
       "      <td>12.76</td>\n",
       "      <td>31822200</td>\n",
       "      <td>-0.007004</td>\n",
       "    </tr>\n",
       "    <tr>\n",
       "      <th>2023-10-09</th>\n",
       "      <td>12.24</td>\n",
       "      <td>51462700</td>\n",
       "      <td>-0.040752</td>\n",
       "    </tr>\n",
       "    <tr>\n",
       "      <th>2023-10-10</th>\n",
       "      <td>12.26</td>\n",
       "      <td>37144200</td>\n",
       "      <td>0.001634</td>\n",
       "    </tr>\n",
       "  </tbody>\n",
       "</table>\n",
       "</div>"
      ],
      "text/plain": [
       "Price       Adj Close    Volume   returns\n",
       "Date                                     \n",
       "2023-10-04      12.73  49738100       NaN\n",
       "2023-10-05      12.85  36272900  0.009427\n",
       "2023-10-06      12.76  31822200 -0.007004\n",
       "2023-10-09      12.24  51462700 -0.040752\n",
       "2023-10-10      12.26  37144200  0.001634"
      ]
     },
     "execution_count": 186,
     "metadata": {},
     "output_type": "execute_result"
    }
   ],
   "source": [
    "aal['returns'] = aal[\"Adj Close\"].pct_change()\n",
    "aal.head()"
   ]
  },
  {
   "cell_type": "code",
   "execution_count": 187,
   "id": "f4c5ec35",
   "metadata": {
    "deletable": false,
    "editable": false
   },
   "outputs": [
    {
     "data": {
      "text/html": [
       "<p><strong><pre style='display: inline;'>q3e</pre></strong> passed! 🎉</p>"
      ],
      "text/plain": [
       "q3e results: All test cases passed!"
      ]
     },
     "execution_count": 187,
     "metadata": {},
     "output_type": "execute_result"
    }
   ],
   "source": [
    "grader.check(\"q3e\")"
   ]
  },
  {
   "cell_type": "code",
   "execution_count": 188,
   "id": "30cb02d9",
   "metadata": {
    "tags": []
   },
   "outputs": [
    {
     "data": {
      "text/html": [
       "<div>\n",
       "<style scoped>\n",
       "    .dataframe tbody tr th:only-of-type {\n",
       "        vertical-align: middle;\n",
       "    }\n",
       "\n",
       "    .dataframe tbody tr th {\n",
       "        vertical-align: top;\n",
       "    }\n",
       "\n",
       "    .dataframe thead th {\n",
       "        text-align: right;\n",
       "    }\n",
       "</style>\n",
       "<table border=\"1\" class=\"dataframe\">\n",
       "  <thead>\n",
       "    <tr style=\"text-align: right;\">\n",
       "      <th>Price</th>\n",
       "      <th>Adj Close</th>\n",
       "      <th>Volume</th>\n",
       "      <th>returns</th>\n",
       "      <th>logreturns</th>\n",
       "    </tr>\n",
       "    <tr>\n",
       "      <th>Date</th>\n",
       "      <th></th>\n",
       "      <th></th>\n",
       "      <th></th>\n",
       "      <th></th>\n",
       "    </tr>\n",
       "  </thead>\n",
       "  <tbody>\n",
       "    <tr>\n",
       "      <th>2023-10-04</th>\n",
       "      <td>12.73</td>\n",
       "      <td>49738100</td>\n",
       "      <td>NaN</td>\n",
       "      <td>NaN</td>\n",
       "    </tr>\n",
       "    <tr>\n",
       "      <th>2023-10-05</th>\n",
       "      <td>12.85</td>\n",
       "      <td>36272900</td>\n",
       "      <td>0.009427</td>\n",
       "      <td>0.009382</td>\n",
       "    </tr>\n",
       "    <tr>\n",
       "      <th>2023-10-06</th>\n",
       "      <td>12.76</td>\n",
       "      <td>31822200</td>\n",
       "      <td>-0.007004</td>\n",
       "      <td>-0.007029</td>\n",
       "    </tr>\n",
       "    <tr>\n",
       "      <th>2023-10-09</th>\n",
       "      <td>12.24</td>\n",
       "      <td>51462700</td>\n",
       "      <td>-0.040752</td>\n",
       "      <td>-0.041606</td>\n",
       "    </tr>\n",
       "    <tr>\n",
       "      <th>2023-10-10</th>\n",
       "      <td>12.26</td>\n",
       "      <td>37144200</td>\n",
       "      <td>0.001634</td>\n",
       "      <td>0.001633</td>\n",
       "    </tr>\n",
       "  </tbody>\n",
       "</table>\n",
       "</div>"
      ],
      "text/plain": [
       "Price       Adj Close    Volume   returns  logreturns\n",
       "Date                                                 \n",
       "2023-10-04      12.73  49738100       NaN         NaN\n",
       "2023-10-05      12.85  36272900  0.009427    0.009382\n",
       "2023-10-06      12.76  31822200 -0.007004   -0.007029\n",
       "2023-10-09      12.24  51462700 -0.040752   -0.041606\n",
       "2023-10-10      12.26  37144200  0.001634    0.001633"
      ]
     },
     "execution_count": 188,
     "metadata": {},
     "output_type": "execute_result"
    }
   ],
   "source": [
    "# we can get the log returns by adjusting the percent change function\n",
    "\n",
    "aal['logreturns'] = (aal[\"Adj Close\"].apply(simpletolog)).diff()\n",
    "aal.head()"
   ]
  },
  {
   "cell_type": "code",
   "execution_count": 189,
   "id": "6502c274",
   "metadata": {
    "deletable": false,
    "editable": false
   },
   "outputs": [
    {
     "data": {
      "text/html": [
       "<p><strong><pre style='display: inline;'>q3f</pre></strong> passed! 🍀</p>"
      ],
      "text/plain": [
       "q3f results: All test cases passed!"
      ]
     },
     "execution_count": 189,
     "metadata": {},
     "output_type": "execute_result"
    }
   ],
   "source": [
    "grader.check(\"q3f\")"
   ]
  },
  {
   "cell_type": "code",
   "execution_count": 190,
   "id": "a2eb5c80",
   "metadata": {
    "tags": []
   },
   "outputs": [
    {
     "data": {
      "text/html": [
       "<div>\n",
       "<style scoped>\n",
       "    .dataframe tbody tr th:only-of-type {\n",
       "        vertical-align: middle;\n",
       "    }\n",
       "\n",
       "    .dataframe tbody tr th {\n",
       "        vertical-align: top;\n",
       "    }\n",
       "\n",
       "    .dataframe thead th {\n",
       "        text-align: right;\n",
       "    }\n",
       "</style>\n",
       "<table border=\"1\" class=\"dataframe\">\n",
       "  <thead>\n",
       "    <tr style=\"text-align: right;\">\n",
       "      <th>Price</th>\n",
       "      <th>Adj Close</th>\n",
       "      <th>Volume</th>\n",
       "      <th>returns</th>\n",
       "      <th>logreturns</th>\n",
       "      <th>cum_logreturns</th>\n",
       "    </tr>\n",
       "    <tr>\n",
       "      <th>Date</th>\n",
       "      <th></th>\n",
       "      <th></th>\n",
       "      <th></th>\n",
       "      <th></th>\n",
       "      <th></th>\n",
       "    </tr>\n",
       "  </thead>\n",
       "  <tbody>\n",
       "    <tr>\n",
       "      <th>2023-10-04</th>\n",
       "      <td>12.73</td>\n",
       "      <td>49738100</td>\n",
       "      <td>NaN</td>\n",
       "      <td>NaN</td>\n",
       "      <td>NaN</td>\n",
       "    </tr>\n",
       "    <tr>\n",
       "      <th>2023-10-05</th>\n",
       "      <td>12.85</td>\n",
       "      <td>36272900</td>\n",
       "      <td>0.009427</td>\n",
       "      <td>0.009382</td>\n",
       "      <td>0.009382</td>\n",
       "    </tr>\n",
       "    <tr>\n",
       "      <th>2023-10-06</th>\n",
       "      <td>12.76</td>\n",
       "      <td>31822200</td>\n",
       "      <td>-0.007004</td>\n",
       "      <td>-0.007029</td>\n",
       "      <td>0.002354</td>\n",
       "    </tr>\n",
       "    <tr>\n",
       "      <th>2023-10-09</th>\n",
       "      <td>12.24</td>\n",
       "      <td>51462700</td>\n",
       "      <td>-0.040752</td>\n",
       "      <td>-0.041606</td>\n",
       "      <td>-0.039252</td>\n",
       "    </tr>\n",
       "    <tr>\n",
       "      <th>2023-10-10</th>\n",
       "      <td>12.26</td>\n",
       "      <td>37144200</td>\n",
       "      <td>0.001634</td>\n",
       "      <td>0.001633</td>\n",
       "      <td>-0.037619</td>\n",
       "    </tr>\n",
       "  </tbody>\n",
       "</table>\n",
       "</div>"
      ],
      "text/plain": [
       "Price       Adj Close    Volume   returns  logreturns  cum_logreturns\n",
       "Date                                                                 \n",
       "2023-10-04      12.73  49738100       NaN         NaN             NaN\n",
       "2023-10-05      12.85  36272900  0.009427    0.009382        0.009382\n",
       "2023-10-06      12.76  31822200 -0.007004   -0.007029        0.002354\n",
       "2023-10-09      12.24  51462700 -0.040752   -0.041606       -0.039252\n",
       "2023-10-10      12.26  37144200  0.001634    0.001633       -0.037619"
      ]
     },
     "execution_count": 190,
     "metadata": {},
     "output_type": "execute_result"
    }
   ],
   "source": [
    "# .cumsum() on a series will add everything in the column up until that point\n",
    "# this will give us the log return from the start, to the current index\n",
    "aal['cum_logreturns'] = aal['logreturns'].cumsum()\n",
    "aal.head()"
   ]
  },
  {
   "cell_type": "code",
   "execution_count": 191,
   "id": "bae5ecb0",
   "metadata": {
    "deletable": false,
    "editable": false
   },
   "outputs": [
    {
     "data": {
      "text/html": [
       "<p><strong><pre style='display: inline;'>q3g</pre></strong> passed! 💯</p>"
      ],
      "text/plain": [
       "q3g results: All test cases passed!"
      ]
     },
     "execution_count": 191,
     "metadata": {},
     "output_type": "execute_result"
    }
   ],
   "source": [
    "grader.check(\"q3g\")"
   ]
  },
  {
   "cell_type": "code",
   "execution_count": 192,
   "id": "ae9e8b9b",
   "metadata": {},
   "outputs": [
    {
     "data": {
      "text/plain": [
       "<Axes: xlabel='Date'>"
      ]
     },
     "execution_count": 192,
     "metadata": {},
     "output_type": "execute_result"
    },
    {
     "data": {
      "image/png": "[encoded data removed]",
      "text/plain": [
       "<Figure size 640x480 with 1 Axes>"
      ]
     },
     "metadata": {},
     "output_type": "display_data"
    }
   ],
   "source": [
    "# pandas also comes equipped with some built in plotting\n",
    "# we can plot the adjusted close, as well as the logreturns cumsum, and see if they look the same (they should)\n",
    "aal['Adj Close'].plot()"
   ]
  },
  {
   "cell_type": "code",
   "execution_count": 193,
   "id": "9ef464fa",
   "metadata": {},
   "outputs": [
    {
     "data": {
      "text/plain": [
       "<Axes: xlabel='Date'>"
      ]
     },
     "execution_count": 193,
     "metadata": {},
     "output_type": "execute_result"
    },
    {
     "data": {
      "image/png": "[encoded data removed]",
      "text/plain": [
       "<Figure size 640x480 with 1 Axes>"
      ]
     },
     "metadata": {},
     "output_type": "display_data"
    }
   ],
   "source": [
    "aal['cum_logreturns'].plot()"
   ]
  },
  {
   "cell_type": "markdown",
   "id": "0c1dde33",
   "metadata": {},
   "source": [
    "# Basic trend strategy: long/short by percentile"
   ]
  },
  {
   "cell_type": "markdown",
   "id": "a3c3454a-df5b-491c-a1fa-033907365e5d",
   "metadata": {},
   "source": [
    "---\n",
    "### Developing a Trading Strategy\n",
    "\n",
    "Now, let’s work on creating a **trading strategy** with the following assumptions:\n",
    "\n",
    "- **Shorting Allowed**: We assume that we can short stocks.\n",
    "- **Zero Borrowing Cost**: For simplicity, we assume the cost to borrow is **0** (note: this is a non-trivial assumption).\n",
    "\n",
    "#### Strategy Overview\n",
    "Our goal is to:\n",
    "- **Buy (go long)** stocks expected to increase in value.\n",
    "- **Sell (go short)** stocks expected to decrease in value.\n",
    "\n",
    "#### Approach\n",
    "1. **Ranking Stocks**:  \n",
    "   We will rank stocks based on a chosen **metric** (e.g., momentum, valuation ratios, or other factors).\n",
    "\n",
    "2. **Position Allocation**:  \n",
    "   - Go **long** on the top percentage of stocks ranked by the metric.\n",
    "   - Go **short** on the bottom percentage of stocks ranked by the metric.\n",
    "\n",
    "This approach allows us to systematically identify opportunities and construct a portfolio based on clear criteria.\n",
    "\n",
    "---"
   ]
  },
  {
   "cell_type": "code",
   "execution_count": 194,
   "id": "4d734274",
   "metadata": {},
   "outputs": [
    {
     "data": {
      "text/html": [
       "<div>\n",
       "<style scoped>\n",
       "    .dataframe tbody tr th:only-of-type {\n",
       "        vertical-align: middle;\n",
       "    }\n",
       "\n",
       "    .dataframe tbody tr th {\n",
       "        vertical-align: top;\n",
       "    }\n",
       "\n",
       "    .dataframe thead tr th {\n",
       "        text-align: left;\n",
       "    }\n",
       "\n",
       "    .dataframe thead tr:last-of-type th {\n",
       "        text-align: right;\n",
       "    }\n",
       "</style>\n",
       "<table border=\"1\" class=\"dataframe\">\n",
       "  <thead>\n",
       "    <tr>\n",
       "      <th>Price</th>\n",
       "      <th colspan=\"10\" halign=\"left\">Adj Close</th>\n",
       "      <th>...</th>\n",
       "      <th colspan=\"10\" halign=\"left\">Volume</th>\n",
       "    </tr>\n",
       "    <tr>\n",
       "      <th>Ticker</th>\n",
       "      <th>A</th>\n",
       "      <th>AAL</th>\n",
       "      <th>AAPL</th>\n",
       "      <th>ABBV</th>\n",
       "      <th>ABNB</th>\n",
       "      <th>ABT</th>\n",
       "      <th>ACGL</th>\n",
       "      <th>ACN</th>\n",
       "      <th>ADBE</th>\n",
       "      <th>ADI</th>\n",
       "      <th>...</th>\n",
       "      <th>WTW</th>\n",
       "      <th>WY</th>\n",
       "      <th>WYNN</th>\n",
       "      <th>XEL</th>\n",
       "      <th>XOM</th>\n",
       "      <th>XYL</th>\n",
       "      <th>YUM</th>\n",
       "      <th>ZBH</th>\n",
       "      <th>ZBRA</th>\n",
       "      <th>ZTS</th>\n",
       "    </tr>\n",
       "    <tr>\n",
       "      <th>Date</th>\n",
       "      <th></th>\n",
       "      <th></th>\n",
       "      <th></th>\n",
       "      <th></th>\n",
       "      <th></th>\n",
       "      <th></th>\n",
       "      <th></th>\n",
       "      <th></th>\n",
       "      <th></th>\n",
       "      <th></th>\n",
       "      <th></th>\n",
       "      <th></th>\n",
       "      <th></th>\n",
       "      <th></th>\n",
       "      <th></th>\n",
       "      <th></th>\n",
       "      <th></th>\n",
       "      <th></th>\n",
       "      <th></th>\n",
       "      <th></th>\n",
       "      <th></th>\n",
       "    </tr>\n",
       "  </thead>\n",
       "  <tbody>\n",
       "    <tr>\n",
       "      <th>2023-10-04</th>\n",
       "      <td>110.917877</td>\n",
       "      <td>12.73</td>\n",
       "      <td>172.585999</td>\n",
       "      <td>141.069550</td>\n",
       "      <td>127.410004</td>\n",
       "      <td>93.262283</td>\n",
       "      <td>76.509293</td>\n",
       "      <td>303.237457</td>\n",
       "      <td>518.419983</td>\n",
       "      <td>170.809814</td>\n",
       "      <td>...</td>\n",
       "      <td>749100</td>\n",
       "      <td>3954000</td>\n",
       "      <td>2289300</td>\n",
       "      <td>3948700</td>\n",
       "      <td>19622200</td>\n",
       "      <td>1614400</td>\n",
       "      <td>1381200</td>\n",
       "      <td>1597600</td>\n",
       "      <td>487500</td>\n",
       "      <td>1673400</td>\n",
       "    </tr>\n",
       "    <tr>\n",
       "      <th>2023-10-05</th>\n",
       "      <td>109.606766</td>\n",
       "      <td>12.85</td>\n",
       "      <td>173.828293</td>\n",
       "      <td>140.840302</td>\n",
       "      <td>124.989998</td>\n",
       "      <td>93.798546</td>\n",
       "      <td>77.631355</td>\n",
       "      <td>303.502045</td>\n",
       "      <td>516.440002</td>\n",
       "      <td>169.148819</td>\n",
       "      <td>...</td>\n",
       "      <td>855000</td>\n",
       "      <td>3724500</td>\n",
       "      <td>1513600</td>\n",
       "      <td>3835400</td>\n",
       "      <td>20128800</td>\n",
       "      <td>1131000</td>\n",
       "      <td>1240200</td>\n",
       "      <td>1048200</td>\n",
       "      <td>448400</td>\n",
       "      <td>2083200</td>\n",
       "    </tr>\n",
       "    <tr>\n",
       "      <th>2023-10-06</th>\n",
       "      <td>109.894814</td>\n",
       "      <td>12.76</td>\n",
       "      <td>176.392334</td>\n",
       "      <td>141.594879</td>\n",
       "      <td>126.360001</td>\n",
       "      <td>94.461571</td>\n",
       "      <td>78.144844</td>\n",
       "      <td>305.981781</td>\n",
       "      <td>526.679993</td>\n",
       "      <td>170.986740</td>\n",
       "      <td>...</td>\n",
       "      <td>897700</td>\n",
       "      <td>4318300</td>\n",
       "      <td>2470600</td>\n",
       "      <td>6337200</td>\n",
       "      <td>25363400</td>\n",
       "      <td>1149700</td>\n",
       "      <td>2111900</td>\n",
       "      <td>1570500</td>\n",
       "      <td>384000</td>\n",
       "      <td>1490600</td>\n",
       "    </tr>\n",
       "    <tr>\n",
       "      <th>2023-10-09</th>\n",
       "      <td>110.530510</td>\n",
       "      <td>12.24</td>\n",
       "      <td>177.883041</td>\n",
       "      <td>142.425888</td>\n",
       "      <td>127.769997</td>\n",
       "      <td>94.344574</td>\n",
       "      <td>78.040245</td>\n",
       "      <td>305.805359</td>\n",
       "      <td>529.289978</td>\n",
       "      <td>170.347885</td>\n",
       "      <td>...</td>\n",
       "      <td>655500</td>\n",
       "      <td>3171800</td>\n",
       "      <td>1622800</td>\n",
       "      <td>2702100</td>\n",
       "      <td>22369900</td>\n",
       "      <td>949500</td>\n",
       "      <td>1840000</td>\n",
       "      <td>865900</td>\n",
       "      <td>266600</td>\n",
       "      <td>1215100</td>\n",
       "    </tr>\n",
       "    <tr>\n",
       "      <th>2023-10-10</th>\n",
       "      <td>112.526970</td>\n",
       "      <td>12.26</td>\n",
       "      <td>177.286758</td>\n",
       "      <td>142.215759</td>\n",
       "      <td>131.589996</td>\n",
       "      <td>95.124588</td>\n",
       "      <td>77.840553</td>\n",
       "      <td>306.109161</td>\n",
       "      <td>532.719971</td>\n",
       "      <td>172.952438</td>\n",
       "      <td>...</td>\n",
       "      <td>478400</td>\n",
       "      <td>3078500</td>\n",
       "      <td>1674800</td>\n",
       "      <td>3117900</td>\n",
       "      <td>13892000</td>\n",
       "      <td>1478800</td>\n",
       "      <td>1643300</td>\n",
       "      <td>999400</td>\n",
       "      <td>361900</td>\n",
       "      <td>1665300</td>\n",
       "    </tr>\n",
       "    <tr>\n",
       "      <th>...</th>\n",
       "      <td>...</td>\n",
       "      <td>...</td>\n",
       "      <td>...</td>\n",
       "      <td>...</td>\n",
       "      <td>...</td>\n",
       "      <td>...</td>\n",
       "      <td>...</td>\n",
       "      <td>...</td>\n",
       "      <td>...</td>\n",
       "      <td>...</td>\n",
       "      <td>...</td>\n",
       "      <td>...</td>\n",
       "      <td>...</td>\n",
       "      <td>...</td>\n",
       "      <td>...</td>\n",
       "      <td>...</td>\n",
       "      <td>...</td>\n",
       "      <td>...</td>\n",
       "      <td>...</td>\n",
       "      <td>...</td>\n",
       "      <td>...</td>\n",
       "    </tr>\n",
       "    <tr>\n",
       "      <th>2024-03-13</th>\n",
       "      <td>147.072739</td>\n",
       "      <td>14.00</td>\n",
       "      <td>170.513031</td>\n",
       "      <td>175.174911</td>\n",
       "      <td>164.759995</td>\n",
       "      <td>118.378120</td>\n",
       "      <td>86.531769</td>\n",
       "      <td>374.089264</td>\n",
       "      <td>573.549988</td>\n",
       "      <td>197.038223</td>\n",
       "      <td>...</td>\n",
       "      <td>530100</td>\n",
       "      <td>2508500</td>\n",
       "      <td>1138400</td>\n",
       "      <td>5420000</td>\n",
       "      <td>17122200</td>\n",
       "      <td>872500</td>\n",
       "      <td>3361400</td>\n",
       "      <td>847000</td>\n",
       "      <td>286200</td>\n",
       "      <td>5947400</td>\n",
       "    </tr>\n",
       "    <tr>\n",
       "      <th>2024-03-14</th>\n",
       "      <td>144.475922</td>\n",
       "      <td>13.99</td>\n",
       "      <td>172.376282</td>\n",
       "      <td>176.479996</td>\n",
       "      <td>166.440002</td>\n",
       "      <td>117.087540</td>\n",
       "      <td>86.560295</td>\n",
       "      <td>373.585510</td>\n",
       "      <td>570.450012</td>\n",
       "      <td>192.901001</td>\n",
       "      <td>...</td>\n",
       "      <td>482900</td>\n",
       "      <td>4124900</td>\n",
       "      <td>1882700</td>\n",
       "      <td>11860000</td>\n",
       "      <td>22121000</td>\n",
       "      <td>1335500</td>\n",
       "      <td>3091900</td>\n",
       "      <td>1203900</td>\n",
       "      <td>375300</td>\n",
       "      <td>6432600</td>\n",
       "    </tr>\n",
       "    <tr>\n",
       "      <th>2024-03-15</th>\n",
       "      <td>146.734451</td>\n",
       "      <td>13.96</td>\n",
       "      <td>171.997650</td>\n",
       "      <td>173.246490</td>\n",
       "      <td>160.639999</td>\n",
       "      <td>113.777367</td>\n",
       "      <td>87.368553</td>\n",
       "      <td>370.019684</td>\n",
       "      <td>492.459991</td>\n",
       "      <td>193.664948</td>\n",
       "      <td>...</td>\n",
       "      <td>885400</td>\n",
       "      <td>6848900</td>\n",
       "      <td>4404600</td>\n",
       "      <td>11153200</td>\n",
       "      <td>38263900</td>\n",
       "      <td>1537600</td>\n",
       "      <td>4164800</td>\n",
       "      <td>2672400</td>\n",
       "      <td>539300</td>\n",
       "      <td>3399500</td>\n",
       "    </tr>\n",
       "    <tr>\n",
       "      <th>2024-03-18</th>\n",
       "      <td>145.351471</td>\n",
       "      <td>14.11</td>\n",
       "      <td>173.093674</td>\n",
       "      <td>173.840591</td>\n",
       "      <td>161.860001</td>\n",
       "      <td>110.772606</td>\n",
       "      <td>86.912125</td>\n",
       "      <td>368.113281</td>\n",
       "      <td>513.859985</td>\n",
       "      <td>189.716248</td>\n",
       "      <td>...</td>\n",
       "      <td>402800</td>\n",
       "      <td>3373100</td>\n",
       "      <td>1528700</td>\n",
       "      <td>7217700</td>\n",
       "      <td>16770500</td>\n",
       "      <td>720000</td>\n",
       "      <td>2384500</td>\n",
       "      <td>972300</td>\n",
       "      <td>329300</td>\n",
       "      <td>4955000</td>\n",
       "    </tr>\n",
       "    <tr>\n",
       "      <th>2024-03-19</th>\n",
       "      <td>146.644913</td>\n",
       "      <td>13.93</td>\n",
       "      <td>175.445190</td>\n",
       "      <td>174.980118</td>\n",
       "      <td>161.789993</td>\n",
       "      <td>111.481926</td>\n",
       "      <td>87.168869</td>\n",
       "      <td>373.457092</td>\n",
       "      <td>521.190002</td>\n",
       "      <td>189.041595</td>\n",
       "      <td>...</td>\n",
       "      <td>579000</td>\n",
       "      <td>2496400</td>\n",
       "      <td>1444100</td>\n",
       "      <td>5656800</td>\n",
       "      <td>14878800</td>\n",
       "      <td>806900</td>\n",
       "      <td>2266500</td>\n",
       "      <td>949300</td>\n",
       "      <td>306000</td>\n",
       "      <td>3624000</td>\n",
       "    </tr>\n",
       "  </tbody>\n",
       "</table>\n",
       "<p>115 rows × 994 columns</p>\n",
       "</div>"
      ],
      "text/plain": [
       "Price        Adj Close                                                         \\\n",
       "Ticker               A    AAL        AAPL        ABBV        ABNB         ABT   \n",
       "Date                                                                            \n",
       "2023-10-04  110.917877  12.73  172.585999  141.069550  127.410004   93.262283   \n",
       "2023-10-05  109.606766  12.85  173.828293  140.840302  124.989998   93.798546   \n",
       "2023-10-06  109.894814  12.76  176.392334  141.594879  126.360001   94.461571   \n",
       "2023-10-09  110.530510  12.24  177.883041  142.425888  127.769997   94.344574   \n",
       "2023-10-10  112.526970  12.26  177.286758  142.215759  131.589996   95.124588   \n",
       "...                ...    ...         ...         ...         ...         ...   \n",
       "2024-03-13  147.072739  14.00  170.513031  175.174911  164.759995  118.378120   \n",
       "2024-03-14  144.475922  13.99  172.376282  176.479996  166.440002  117.087540   \n",
       "2024-03-15  146.734451  13.96  171.997650  173.246490  160.639999  113.777367   \n",
       "2024-03-18  145.351471  14.11  173.093674  173.840591  161.860001  110.772606   \n",
       "2024-03-19  146.644913  13.93  175.445190  174.980118  161.789993  111.481926   \n",
       "\n",
       "Price                                                      ...  Volume  \\\n",
       "Ticker           ACGL         ACN        ADBE         ADI  ...     WTW   \n",
       "Date                                                       ...           \n",
       "2023-10-04  76.509293  303.237457  518.419983  170.809814  ...  749100   \n",
       "2023-10-05  77.631355  303.502045  516.440002  169.148819  ...  855000   \n",
       "2023-10-06  78.144844  305.981781  526.679993  170.986740  ...  897700   \n",
       "2023-10-09  78.040245  305.805359  529.289978  170.347885  ...  655500   \n",
       "2023-10-10  77.840553  306.109161  532.719971  172.952438  ...  478400   \n",
       "...               ...         ...         ...         ...  ...     ...   \n",
       "2024-03-13  86.531769  374.089264  573.549988  197.038223  ...  530100   \n",
       "2024-03-14  86.560295  373.585510  570.450012  192.901001  ...  482900   \n",
       "2024-03-15  87.368553  370.019684  492.459991  193.664948  ...  885400   \n",
       "2024-03-18  86.912125  368.113281  513.859985  189.716248  ...  402800   \n",
       "2024-03-19  87.168869  373.457092  521.190002  189.041595  ...  579000   \n",
       "\n",
       "Price                                                                        \\\n",
       "Ticker           WY     WYNN       XEL       XOM      XYL      YUM      ZBH   \n",
       "Date                                                                          \n",
       "2023-10-04  3954000  2289300   3948700  19622200  1614400  1381200  1597600   \n",
       "2023-10-05  3724500  1513600   3835400  20128800  1131000  1240200  1048200   \n",
       "2023-10-06  4318300  2470600   6337200  25363400  1149700  2111900  1570500   \n",
       "2023-10-09  3171800  1622800   2702100  22369900   949500  1840000   865900   \n",
       "2023-10-10  3078500  1674800   3117900  13892000  1478800  1643300   999400   \n",
       "...             ...      ...       ...       ...      ...      ...      ...   \n",
       "2024-03-13  2508500  1138400   5420000  17122200   872500  3361400   847000   \n",
       "2024-03-14  4124900  1882700  11860000  22121000  1335500  3091900  1203900   \n",
       "2024-03-15  6848900  4404600  11153200  38263900  1537600  4164800  2672400   \n",
       "2024-03-18  3373100  1528700   7217700  16770500   720000  2384500   972300   \n",
       "2024-03-19  2496400  1444100   5656800  14878800   806900  2266500   949300   \n",
       "\n",
       "Price                        \n",
       "Ticker        ZBRA      ZTS  \n",
       "Date                         \n",
       "2023-10-04  487500  1673400  \n",
       "2023-10-05  448400  2083200  \n",
       "2023-10-06  384000  1490600  \n",
       "2023-10-09  266600  1215100  \n",
       "2023-10-10  361900  1665300  \n",
       "...            ...      ...  \n",
       "2024-03-13  286200  5947400  \n",
       "2024-03-14  375300  6432600  \n",
       "2024-03-15  539300  3399500  \n",
       "2024-03-18  329300  4955000  \n",
       "2024-03-19  306000  3624000  \n",
       "\n",
       "[115 rows x 994 columns]"
      ]
     },
     "execution_count": 194,
     "metadata": {},
     "output_type": "execute_result"
    }
   ],
   "source": [
    "hdf"
   ]
  },
  {
   "cell_type": "code",
   "execution_count": 195,
   "id": "6cbd22c8",
   "metadata": {},
   "outputs": [
    {
     "data": {
      "text/html": [
       "<div>\n",
       "<style scoped>\n",
       "    .dataframe tbody tr th:only-of-type {\n",
       "        vertical-align: middle;\n",
       "    }\n",
       "\n",
       "    .dataframe tbody tr th {\n",
       "        vertical-align: top;\n",
       "    }\n",
       "\n",
       "    .dataframe thead th {\n",
       "        text-align: right;\n",
       "    }\n",
       "</style>\n",
       "<table border=\"1\" class=\"dataframe\">\n",
       "  <thead>\n",
       "    <tr style=\"text-align: right;\">\n",
       "      <th>Price</th>\n",
       "      <th>Date</th>\n",
       "      <th>Ticker</th>\n",
       "      <th>Adj Close</th>\n",
       "      <th>Volume</th>\n",
       "    </tr>\n",
       "  </thead>\n",
       "  <tbody>\n",
       "    <tr>\n",
       "      <th>0</th>\n",
       "      <td>2023-10-04</td>\n",
       "      <td>A</td>\n",
       "      <td>110.917877</td>\n",
       "      <td>1541700.0</td>\n",
       "    </tr>\n",
       "    <tr>\n",
       "      <th>1</th>\n",
       "      <td>2023-10-04</td>\n",
       "      <td>AAL</td>\n",
       "      <td>12.730000</td>\n",
       "      <td>49738100.0</td>\n",
       "    </tr>\n",
       "    <tr>\n",
       "      <th>2</th>\n",
       "      <td>2023-10-04</td>\n",
       "      <td>AAPL</td>\n",
       "      <td>172.585999</td>\n",
       "      <td>53020300.0</td>\n",
       "    </tr>\n",
       "    <tr>\n",
       "      <th>3</th>\n",
       "      <td>2023-10-04</td>\n",
       "      <td>ABBV</td>\n",
       "      <td>141.069550</td>\n",
       "      <td>3159600.0</td>\n",
       "    </tr>\n",
       "    <tr>\n",
       "      <th>4</th>\n",
       "      <td>2023-10-04</td>\n",
       "      <td>ABNB</td>\n",
       "      <td>127.410004</td>\n",
       "      <td>5822000.0</td>\n",
       "    </tr>\n",
       "    <tr>\n",
       "      <th>...</th>\n",
       "      <td>...</td>\n",
       "      <td>...</td>\n",
       "      <td>...</td>\n",
       "      <td>...</td>\n",
       "    </tr>\n",
       "    <tr>\n",
       "      <th>57150</th>\n",
       "      <td>2024-03-19</td>\n",
       "      <td>XYL</td>\n",
       "      <td>127.775208</td>\n",
       "      <td>806900.0</td>\n",
       "    </tr>\n",
       "    <tr>\n",
       "      <th>57151</th>\n",
       "      <td>2024-03-19</td>\n",
       "      <td>YUM</td>\n",
       "      <td>135.940338</td>\n",
       "      <td>2266500.0</td>\n",
       "    </tr>\n",
       "    <tr>\n",
       "      <th>57152</th>\n",
       "      <td>2024-03-19</td>\n",
       "      <td>ZBH</td>\n",
       "      <td>125.862167</td>\n",
       "      <td>949300.0</td>\n",
       "    </tr>\n",
       "    <tr>\n",
       "      <th>57153</th>\n",
       "      <td>2024-03-19</td>\n",
       "      <td>ZBRA</td>\n",
       "      <td>285.190002</td>\n",
       "      <td>306000.0</td>\n",
       "    </tr>\n",
       "    <tr>\n",
       "      <th>57154</th>\n",
       "      <td>2024-03-19</td>\n",
       "      <td>ZTS</td>\n",
       "      <td>171.652222</td>\n",
       "      <td>3624000.0</td>\n",
       "    </tr>\n",
       "  </tbody>\n",
       "</table>\n",
       "<p>57155 rows × 4 columns</p>\n",
       "</div>"
      ],
      "text/plain": [
       "Price       Date Ticker   Adj Close      Volume\n",
       "0     2023-10-04      A  110.917877   1541700.0\n",
       "1     2023-10-04    AAL   12.730000  49738100.0\n",
       "2     2023-10-04   AAPL  172.585999  53020300.0\n",
       "3     2023-10-04   ABBV  141.069550   3159600.0\n",
       "4     2023-10-04   ABNB  127.410004   5822000.0\n",
       "...          ...    ...         ...         ...\n",
       "57150 2024-03-19    XYL  127.775208    806900.0\n",
       "57151 2024-03-19    YUM  135.940338   2266500.0\n",
       "57152 2024-03-19    ZBH  125.862167    949300.0\n",
       "57153 2024-03-19   ZBRA  285.190002    306000.0\n",
       "57154 2024-03-19    ZTS  171.652222   3624000.0\n",
       "\n",
       "[57155 rows x 4 columns]"
      ]
     },
     "execution_count": 195,
     "metadata": {},
     "output_type": "execute_result"
    }
   ],
   "source": [
    "# to more easily group by asset, we'll make assets into its own column using df.stack()\n",
    "hdf_old = hdf.copy()\n",
    "hdf = (\n",
    "    hdf.stack()\n",
    "    .reset_index()\n",
    "    .rename(columns={'level_1': 'Symbol'})\n",
    ")\n",
    "hdf"
   ]
  },
  {
   "cell_type": "markdown",
   "id": "53442d2c-0cac-4273-aa9d-cfec7f4a526c",
   "metadata": {},
   "source": [
    "### Calculating Returns and Log Returns\n",
    "\n",
    "To compute **returns** and **log returns** for the entire dataset, we can **group by the ticker**, select the adjusted close column, and then use .pct_change() to get the percentage change from one row to the next\n",
    "\n",
    "These steps will provide the necessary data to derive both simple and log returns for analysis. "
   ]
  },
  {
   "cell_type": "code",
   "execution_count": 196,
   "id": "d2a560a7",
   "metadata": {
    "tags": []
   },
   "outputs": [
    {
     "data": {
      "text/html": [
       "<div>\n",
       "<style scoped>\n",
       "    .dataframe tbody tr th:only-of-type {\n",
       "        vertical-align: middle;\n",
       "    }\n",
       "\n",
       "    .dataframe tbody tr th {\n",
       "        vertical-align: top;\n",
       "    }\n",
       "\n",
       "    .dataframe thead th {\n",
       "        text-align: right;\n",
       "    }\n",
       "</style>\n",
       "<table border=\"1\" class=\"dataframe\">\n",
       "  <thead>\n",
       "    <tr style=\"text-align: right;\">\n",
       "      <th>Price</th>\n",
       "      <th>Date</th>\n",
       "      <th>Ticker</th>\n",
       "      <th>Adj Close</th>\n",
       "      <th>Volume</th>\n",
       "      <th>returns</th>\n",
       "    </tr>\n",
       "  </thead>\n",
       "  <tbody>\n",
       "    <tr>\n",
       "      <th>0</th>\n",
       "      <td>2023-10-04</td>\n",
       "      <td>A</td>\n",
       "      <td>110.917877</td>\n",
       "      <td>1541700.0</td>\n",
       "      <td>NaN</td>\n",
       "    </tr>\n",
       "    <tr>\n",
       "      <th>1</th>\n",
       "      <td>2023-10-04</td>\n",
       "      <td>AAL</td>\n",
       "      <td>12.730000</td>\n",
       "      <td>49738100.0</td>\n",
       "      <td>NaN</td>\n",
       "    </tr>\n",
       "    <tr>\n",
       "      <th>2</th>\n",
       "      <td>2023-10-04</td>\n",
       "      <td>AAPL</td>\n",
       "      <td>172.585999</td>\n",
       "      <td>53020300.0</td>\n",
       "      <td>NaN</td>\n",
       "    </tr>\n",
       "    <tr>\n",
       "      <th>3</th>\n",
       "      <td>2023-10-04</td>\n",
       "      <td>ABBV</td>\n",
       "      <td>141.069550</td>\n",
       "      <td>3159600.0</td>\n",
       "      <td>NaN</td>\n",
       "    </tr>\n",
       "    <tr>\n",
       "      <th>4</th>\n",
       "      <td>2023-10-04</td>\n",
       "      <td>ABNB</td>\n",
       "      <td>127.410004</td>\n",
       "      <td>5822000.0</td>\n",
       "      <td>NaN</td>\n",
       "    </tr>\n",
       "  </tbody>\n",
       "</table>\n",
       "</div>"
      ],
      "text/plain": [
       "Price       Date Ticker   Adj Close      Volume  returns\n",
       "0     2023-10-04      A  110.917877   1541700.0      NaN\n",
       "1     2023-10-04    AAL   12.730000  49738100.0      NaN\n",
       "2     2023-10-04   AAPL  172.585999  53020300.0      NaN\n",
       "3     2023-10-04   ABBV  141.069550   3159600.0      NaN\n",
       "4     2023-10-04   ABNB  127.410004   5822000.0      NaN"
      ]
     },
     "execution_count": 196,
     "metadata": {},
     "output_type": "execute_result"
    }
   ],
   "source": [
    "hdf['returns'] = hdf.groupby(\"Ticker\")[\"Adj Close\"].pct_change()\n",
    "hdf.head()"
   ]
  },
  {
   "cell_type": "code",
   "execution_count": 197,
   "id": "bd30be6b",
   "metadata": {
    "deletable": false,
    "editable": false
   },
   "outputs": [
    {
     "data": {
      "text/html": [
       "<p><strong><pre style='display: inline;'>q4a</pre></strong> passed! 🌟</p>"
      ],
      "text/plain": [
       "q4a results: All test cases passed!"
      ]
     },
     "execution_count": 197,
     "metadata": {},
     "output_type": "execute_result"
    }
   ],
   "source": [
    "grader.check(\"q4a\")"
   ]
  },
  {
   "cell_type": "markdown",
   "id": "3b39229e-f3bf-4fb1-b11d-aa53b8fce96e",
   "metadata": {},
   "source": [
    "### Creating a Log Returns Column\n",
    "\n",
    "To calculate log returns, we'll create a new column in the dataset. This involves applying our **simple-to-log** function to the data and assigning the results to a column named `logreturns`.\n",
    "\n",
    "This new column will represent the log-transformed returns for each data point."
   ]
  },
  {
   "cell_type": "code",
   "execution_count": 198,
   "id": "4efe2657",
   "metadata": {
    "tags": []
   },
   "outputs": [
    {
     "data": {
      "text/html": [
       "<div>\n",
       "<style scoped>\n",
       "    .dataframe tbody tr th:only-of-type {\n",
       "        vertical-align: middle;\n",
       "    }\n",
       "\n",
       "    .dataframe tbody tr th {\n",
       "        vertical-align: top;\n",
       "    }\n",
       "\n",
       "    .dataframe thead th {\n",
       "        text-align: right;\n",
       "    }\n",
       "</style>\n",
       "<table border=\"1\" class=\"dataframe\">\n",
       "  <thead>\n",
       "    <tr style=\"text-align: right;\">\n",
       "      <th>Price</th>\n",
       "      <th>Date</th>\n",
       "      <th>Ticker</th>\n",
       "      <th>Adj Close</th>\n",
       "      <th>Volume</th>\n",
       "      <th>returns</th>\n",
       "      <th>logreturns</th>\n",
       "    </tr>\n",
       "  </thead>\n",
       "  <tbody>\n",
       "    <tr>\n",
       "      <th>0</th>\n",
       "      <td>2023-10-04</td>\n",
       "      <td>A</td>\n",
       "      <td>110.917877</td>\n",
       "      <td>1541700.0</td>\n",
       "      <td>NaN</td>\n",
       "      <td>NaN</td>\n",
       "    </tr>\n",
       "    <tr>\n",
       "      <th>1</th>\n",
       "      <td>2023-10-04</td>\n",
       "      <td>AAL</td>\n",
       "      <td>12.730000</td>\n",
       "      <td>49738100.0</td>\n",
       "      <td>NaN</td>\n",
       "      <td>NaN</td>\n",
       "    </tr>\n",
       "    <tr>\n",
       "      <th>2</th>\n",
       "      <td>2023-10-04</td>\n",
       "      <td>AAPL</td>\n",
       "      <td>172.585999</td>\n",
       "      <td>53020300.0</td>\n",
       "      <td>NaN</td>\n",
       "      <td>NaN</td>\n",
       "    </tr>\n",
       "    <tr>\n",
       "      <th>3</th>\n",
       "      <td>2023-10-04</td>\n",
       "      <td>ABBV</td>\n",
       "      <td>141.069550</td>\n",
       "      <td>3159600.0</td>\n",
       "      <td>NaN</td>\n",
       "      <td>NaN</td>\n",
       "    </tr>\n",
       "    <tr>\n",
       "      <th>4</th>\n",
       "      <td>2023-10-04</td>\n",
       "      <td>ABNB</td>\n",
       "      <td>127.410004</td>\n",
       "      <td>5822000.0</td>\n",
       "      <td>NaN</td>\n",
       "      <td>NaN</td>\n",
       "    </tr>\n",
       "  </tbody>\n",
       "</table>\n",
       "</div>"
      ],
      "text/plain": [
       "Price       Date Ticker   Adj Close      Volume  returns  logreturns\n",
       "0     2023-10-04      A  110.917877   1541700.0      NaN         NaN\n",
       "1     2023-10-04    AAL   12.730000  49738100.0      NaN         NaN\n",
       "2     2023-10-04   AAPL  172.585999  53020300.0      NaN         NaN\n",
       "3     2023-10-04   ABBV  141.069550   3159600.0      NaN         NaN\n",
       "4     2023-10-04   ABNB  127.410004   5822000.0      NaN         NaN"
      ]
     },
     "execution_count": 198,
     "metadata": {},
     "output_type": "execute_result"
    }
   ],
   "source": [
    "hdf['logreturns'] = (1 + hdf['returns']).apply(simpletolog)\n",
    "hdf.head()"
   ]
  },
  {
   "cell_type": "code",
   "execution_count": 199,
   "id": "f16dc6e5",
   "metadata": {
    "deletable": false,
    "editable": false
   },
   "outputs": [
    {
     "data": {
      "text/html": [
       "<p><strong><pre style='display: inline;'>q4b</pre></strong> passed! 🍀</p>"
      ],
      "text/plain": [
       "q4b results: All test cases passed!"
      ]
     },
     "execution_count": 199,
     "metadata": {},
     "output_type": "execute_result"
    }
   ],
   "source": [
    "grader.check(\"q4b\")"
   ]
  },
  {
   "cell_type": "markdown",
   "id": "270f2e18-25f4-4fac-9652-9897f2cb0ffd",
   "metadata": {},
   "source": [
    "### Creating a Forward Log Return Column\n",
    "\n",
    "To predict the next step of returns, we need to create a column for the **forward log return**. Here's how to do it:\n",
    "\n",
    "1. **Group by Ticker**: Group the data by the stock ticker to ensure calculations are performed within each stock's data.\n",
    "\n",
    "2. **Select Log Returns**: Focus on the column containing the log returns.\n",
    "\n",
    "3. **Shift the Series**: Use `.shift(-1)` to move the series **up one row**, aligning the future return with the current row.  \n",
    "   Refer to the [pandas.DataFrame.shift documentation](https://pandas.pydata.org/docs/reference/api/pandas.DataFrame.shift.html) for more details.\n",
    "\n",
    "This process creates a new column that represents the **forward log return**, which can be used as the target variable for prediction models."
   ]
  },
  {
   "cell_type": "code",
   "execution_count": 200,
   "id": "7e51977b",
   "metadata": {
    "tags": []
   },
   "outputs": [
    {
     "data": {
      "text/html": [
       "<div>\n",
       "<style scoped>\n",
       "    .dataframe tbody tr th:only-of-type {\n",
       "        vertical-align: middle;\n",
       "    }\n",
       "\n",
       "    .dataframe tbody tr th {\n",
       "        vertical-align: top;\n",
       "    }\n",
       "\n",
       "    .dataframe thead th {\n",
       "        text-align: right;\n",
       "    }\n",
       "</style>\n",
       "<table border=\"1\" class=\"dataframe\">\n",
       "  <thead>\n",
       "    <tr style=\"text-align: right;\">\n",
       "      <th>Price</th>\n",
       "      <th>Date</th>\n",
       "      <th>Ticker</th>\n",
       "      <th>Adj Close</th>\n",
       "      <th>Volume</th>\n",
       "      <th>returns</th>\n",
       "      <th>logreturns</th>\n",
       "      <th>fwd_logreturn</th>\n",
       "    </tr>\n",
       "  </thead>\n",
       "  <tbody>\n",
       "    <tr>\n",
       "      <th>0</th>\n",
       "      <td>2023-10-04</td>\n",
       "      <td>A</td>\n",
       "      <td>110.917877</td>\n",
       "      <td>1541700.0</td>\n",
       "      <td>NaN</td>\n",
       "      <td>NaN</td>\n",
       "      <td>-0.011891</td>\n",
       "    </tr>\n",
       "    <tr>\n",
       "      <th>1</th>\n",
       "      <td>2023-10-04</td>\n",
       "      <td>AAL</td>\n",
       "      <td>12.730000</td>\n",
       "      <td>49738100.0</td>\n",
       "      <td>NaN</td>\n",
       "      <td>NaN</td>\n",
       "      <td>0.009382</td>\n",
       "    </tr>\n",
       "    <tr>\n",
       "      <th>2</th>\n",
       "      <td>2023-10-04</td>\n",
       "      <td>AAPL</td>\n",
       "      <td>172.585999</td>\n",
       "      <td>53020300.0</td>\n",
       "      <td>NaN</td>\n",
       "      <td>NaN</td>\n",
       "      <td>0.007172</td>\n",
       "    </tr>\n",
       "    <tr>\n",
       "      <th>3</th>\n",
       "      <td>2023-10-04</td>\n",
       "      <td>ABBV</td>\n",
       "      <td>141.069550</td>\n",
       "      <td>3159600.0</td>\n",
       "      <td>NaN</td>\n",
       "      <td>NaN</td>\n",
       "      <td>-0.001626</td>\n",
       "    </tr>\n",
       "    <tr>\n",
       "      <th>4</th>\n",
       "      <td>2023-10-04</td>\n",
       "      <td>ABNB</td>\n",
       "      <td>127.410004</td>\n",
       "      <td>5822000.0</td>\n",
       "      <td>NaN</td>\n",
       "      <td>NaN</td>\n",
       "      <td>-0.019177</td>\n",
       "    </tr>\n",
       "  </tbody>\n",
       "</table>\n",
       "</div>"
      ],
      "text/plain": [
       "Price       Date Ticker   Adj Close      Volume  returns  logreturns  \\\n",
       "0     2023-10-04      A  110.917877   1541700.0      NaN         NaN   \n",
       "1     2023-10-04    AAL   12.730000  49738100.0      NaN         NaN   \n",
       "2     2023-10-04   AAPL  172.585999  53020300.0      NaN         NaN   \n",
       "3     2023-10-04   ABBV  141.069550   3159600.0      NaN         NaN   \n",
       "4     2023-10-04   ABNB  127.410004   5822000.0      NaN         NaN   \n",
       "\n",
       "Price  fwd_logreturn  \n",
       "0          -0.011891  \n",
       "1           0.009382  \n",
       "2           0.007172  \n",
       "3          -0.001626  \n",
       "4          -0.019177  "
      ]
     },
     "execution_count": 200,
     "metadata": {},
     "output_type": "execute_result"
    }
   ],
   "source": [
    "hdf['fwd_logreturn'] = hdf.groupby(\"Ticker\")[\"logreturns\"].shift(-1)\n",
    "hdf.head()"
   ]
  },
  {
   "cell_type": "code",
   "execution_count": 201,
   "id": "e5d8424c",
   "metadata": {
    "deletable": false,
    "editable": false
   },
   "outputs": [
    {
     "data": {
      "text/html": [
       "<p><strong><pre style='display: inline;'>q4c</pre></strong> passed! 🎉</p>"
      ],
      "text/plain": [
       "q4c results: All test cases passed!"
      ]
     },
     "execution_count": 201,
     "metadata": {},
     "output_type": "execute_result"
    }
   ],
   "source": [
    "grader.check(\"q4c\")"
   ]
  },
  {
   "cell_type": "markdown",
   "id": "9f692dbd-af8c-40b4-aa0d-1bf1dd00e6b7",
   "metadata": {},
   "source": [
    "### Dropping Rows with NaN Values\n",
    "\n",
    "To avoid issues in future operations, we need to drop rows where **log returns** or **forward log returns** contain `NaN` values. This can be done using the `subset` parameter in `df.dropna(subset=[])`"
   ]
  },
  {
   "cell_type": "code",
   "execution_count": 202,
   "id": "cc7c6cd5",
   "metadata": {
    "tags": []
   },
   "outputs": [
    {
     "data": {
      "text/html": [
       "<div>\n",
       "<style scoped>\n",
       "    .dataframe tbody tr th:only-of-type {\n",
       "        vertical-align: middle;\n",
       "    }\n",
       "\n",
       "    .dataframe tbody tr th {\n",
       "        vertical-align: top;\n",
       "    }\n",
       "\n",
       "    .dataframe thead th {\n",
       "        text-align: right;\n",
       "    }\n",
       "</style>\n",
       "<table border=\"1\" class=\"dataframe\">\n",
       "  <thead>\n",
       "    <tr style=\"text-align: right;\">\n",
       "      <th>Price</th>\n",
       "      <th>Date</th>\n",
       "      <th>Ticker</th>\n",
       "      <th>Adj Close</th>\n",
       "      <th>Volume</th>\n",
       "      <th>returns</th>\n",
       "      <th>logreturns</th>\n",
       "      <th>fwd_logreturn</th>\n",
       "    </tr>\n",
       "  </thead>\n",
       "  <tbody>\n",
       "    <tr>\n",
       "      <th>497</th>\n",
       "      <td>2023-10-05</td>\n",
       "      <td>A</td>\n",
       "      <td>109.606766</td>\n",
       "      <td>1295700.0</td>\n",
       "      <td>-0.011821</td>\n",
       "      <td>-0.011891</td>\n",
       "      <td>0.002625</td>\n",
       "    </tr>\n",
       "    <tr>\n",
       "      <th>498</th>\n",
       "      <td>2023-10-05</td>\n",
       "      <td>AAL</td>\n",
       "      <td>12.850000</td>\n",
       "      <td>36272900.0</td>\n",
       "      <td>0.009427</td>\n",
       "      <td>0.009382</td>\n",
       "      <td>-0.007029</td>\n",
       "    </tr>\n",
       "    <tr>\n",
       "      <th>499</th>\n",
       "      <td>2023-10-05</td>\n",
       "      <td>AAPL</td>\n",
       "      <td>173.828293</td>\n",
       "      <td>48527900.0</td>\n",
       "      <td>0.007198</td>\n",
       "      <td>0.007172</td>\n",
       "      <td>0.014643</td>\n",
       "    </tr>\n",
       "    <tr>\n",
       "      <th>500</th>\n",
       "      <td>2023-10-05</td>\n",
       "      <td>ABBV</td>\n",
       "      <td>140.840302</td>\n",
       "      <td>3599500.0</td>\n",
       "      <td>-0.001625</td>\n",
       "      <td>-0.001626</td>\n",
       "      <td>0.005343</td>\n",
       "    </tr>\n",
       "    <tr>\n",
       "      <th>501</th>\n",
       "      <td>2023-10-05</td>\n",
       "      <td>ABNB</td>\n",
       "      <td>124.989998</td>\n",
       "      <td>7630200.0</td>\n",
       "      <td>-0.018994</td>\n",
       "      <td>-0.019177</td>\n",
       "      <td>0.010901</td>\n",
       "    </tr>\n",
       "  </tbody>\n",
       "</table>\n",
       "</div>"
      ],
      "text/plain": [
       "Price       Date Ticker   Adj Close      Volume   returns  logreturns  \\\n",
       "497   2023-10-05      A  109.606766   1295700.0 -0.011821   -0.011891   \n",
       "498   2023-10-05    AAL   12.850000  36272900.0  0.009427    0.009382   \n",
       "499   2023-10-05   AAPL  173.828293  48527900.0  0.007198    0.007172   \n",
       "500   2023-10-05   ABBV  140.840302   3599500.0 -0.001625   -0.001626   \n",
       "501   2023-10-05   ABNB  124.989998   7630200.0 -0.018994   -0.019177   \n",
       "\n",
       "Price  fwd_logreturn  \n",
       "497         0.002625  \n",
       "498        -0.007029  \n",
       "499         0.014643  \n",
       "500         0.005343  \n",
       "501         0.010901  "
      ]
     },
     "execution_count": 202,
     "metadata": {},
     "output_type": "execute_result"
    }
   ],
   "source": [
    "hdf = hdf.dropna(subset=[\"logreturns\", \"fwd_logreturn\"])\n",
    "hdf.head()"
   ]
  },
  {
   "cell_type": "code",
   "execution_count": 203,
   "id": "0006e1a3",
   "metadata": {
    "deletable": false,
    "editable": false
   },
   "outputs": [
    {
     "data": {
      "text/html": [
       "<p><strong><pre style='display: inline;'>q4d</pre></strong> passed! 🙌</p>"
      ],
      "text/plain": [
       "q4d results: All test cases passed!"
      ]
     },
     "execution_count": 203,
     "metadata": {},
     "output_type": "execute_result"
    }
   ],
   "source": [
    "grader.check(\"q4d\")"
   ]
  },
  {
   "cell_type": "markdown",
   "id": "6083b60a",
   "metadata": {},
   "source": [
    "# Momentum"
   ]
  },
  {
   "cell_type": "markdown",
   "id": "3d1d3ee8-ea50-4db5-a761-8f1204fb18de",
   "metadata": {},
   "source": [
    "---\n",
    "\n",
    "### Ranking Returns by Asset\n",
    "\n",
    "To develop a strategy, we can **rank the returns** for each asset. \n",
    "\n",
    "#### Observations:\n",
    "- **Momentum Tendency**:  \n",
    "  We might guess that stocks that have **gone up** tend to continue rising, while stocks that have **gone down** tend to keep falling.  \n",
    "\n",
    "#### Why Might This Happen?  \n",
    "We might guess:\n",
    "- A stock that has risen significantly might attract buyers who want to **join the trend**, driving the price higher.\n",
    "- Conversely, a stock that has fallen may face additional selling pressure from investors exiting their positions.\n",
    "\n",
    "#### Strategy:\n",
    "- **Buy (Go Long)**: Identify and buy the stocks that have risen the most.  \n",
    "- **Sell (Go Short)**: Identify and short the stocks that have fallen the most.\n",
    "\n",
    "---"
   ]
  },
  {
   "cell_type": "markdown",
   "id": "e3ac8e8e-24b4-429e-b870-734c5bf6a3e5",
   "metadata": {},
   "source": [
    "\n",
    "### Calculating Ranks Using `.rank()`\n",
    "\n",
    "To calculate ranks for log returns, we can use the `.rank()` method. This method assigns a rank value as if the DataFrame were sorted. Key steps:\n",
    "\n",
    "1. **Descending Order**: Use `ascending=False` to rank in descending order.\n",
    "2. **Dense Ranking**: Specify `method='dense'` to ensure that ranks are consecutive even when there are ties.\n",
    "3. **Group by Date**: Group the data by date to calculate ranks within each group.\n",
    "4. **Assign to a New Column**: Create a new column, `logreturn_rank`, to store the ranks of the `logreturns` column.\n",
    "\n",
    "Refer to the [pandas.DataFrame.rank documentation](https://pandas.pydata.org/docs/reference/api/pandas.DataFrame.rank.html) for more details."
   ]
  },
  {
   "cell_type": "code",
   "execution_count": 204,
   "id": "92688dab",
   "metadata": {
    "tags": []
   },
   "outputs": [
    {
     "data": {
      "text/html": [
       "<div>\n",
       "<style scoped>\n",
       "    .dataframe tbody tr th:only-of-type {\n",
       "        vertical-align: middle;\n",
       "    }\n",
       "\n",
       "    .dataframe tbody tr th {\n",
       "        vertical-align: top;\n",
       "    }\n",
       "\n",
       "    .dataframe thead th {\n",
       "        text-align: right;\n",
       "    }\n",
       "</style>\n",
       "<table border=\"1\" class=\"dataframe\">\n",
       "  <thead>\n",
       "    <tr style=\"text-align: right;\">\n",
       "      <th>Price</th>\n",
       "      <th>Date</th>\n",
       "      <th>Ticker</th>\n",
       "      <th>Adj Close</th>\n",
       "      <th>Volume</th>\n",
       "      <th>returns</th>\n",
       "      <th>logreturns</th>\n",
       "      <th>fwd_logreturn</th>\n",
       "      <th>logreturn_rank</th>\n",
       "    </tr>\n",
       "  </thead>\n",
       "  <tbody>\n",
       "    <tr>\n",
       "      <th>497</th>\n",
       "      <td>2023-10-05</td>\n",
       "      <td>A</td>\n",
       "      <td>109.606766</td>\n",
       "      <td>1295700.0</td>\n",
       "      <td>-0.011821</td>\n",
       "      <td>-0.011891</td>\n",
       "      <td>0.002625</td>\n",
       "      <td>392.0</td>\n",
       "    </tr>\n",
       "    <tr>\n",
       "      <th>498</th>\n",
       "      <td>2023-10-05</td>\n",
       "      <td>AAL</td>\n",
       "      <td>12.850000</td>\n",
       "      <td>36272900.0</td>\n",
       "      <td>0.009427</td>\n",
       "      <td>0.009382</td>\n",
       "      <td>-0.007029</td>\n",
       "      <td>71.0</td>\n",
       "    </tr>\n",
       "    <tr>\n",
       "      <th>499</th>\n",
       "      <td>2023-10-05</td>\n",
       "      <td>AAPL</td>\n",
       "      <td>173.828293</td>\n",
       "      <td>48527900.0</td>\n",
       "      <td>0.007198</td>\n",
       "      <td>0.007172</td>\n",
       "      <td>0.014643</td>\n",
       "      <td>99.0</td>\n",
       "    </tr>\n",
       "    <tr>\n",
       "      <th>500</th>\n",
       "      <td>2023-10-05</td>\n",
       "      <td>ABBV</td>\n",
       "      <td>140.840302</td>\n",
       "      <td>3599500.0</td>\n",
       "      <td>-0.001625</td>\n",
       "      <td>-0.001626</td>\n",
       "      <td>0.005343</td>\n",
       "      <td>242.0</td>\n",
       "    </tr>\n",
       "    <tr>\n",
       "      <th>501</th>\n",
       "      <td>2023-10-05</td>\n",
       "      <td>ABNB</td>\n",
       "      <td>124.989998</td>\n",
       "      <td>7630200.0</td>\n",
       "      <td>-0.018994</td>\n",
       "      <td>-0.019177</td>\n",
       "      <td>0.010901</td>\n",
       "      <td>443.0</td>\n",
       "    </tr>\n",
       "  </tbody>\n",
       "</table>\n",
       "</div>"
      ],
      "text/plain": [
       "Price       Date Ticker   Adj Close      Volume   returns  logreturns  \\\n",
       "497   2023-10-05      A  109.606766   1295700.0 -0.011821   -0.011891   \n",
       "498   2023-10-05    AAL   12.850000  36272900.0  0.009427    0.009382   \n",
       "499   2023-10-05   AAPL  173.828293  48527900.0  0.007198    0.007172   \n",
       "500   2023-10-05   ABBV  140.840302   3599500.0 -0.001625   -0.001626   \n",
       "501   2023-10-05   ABNB  124.989998   7630200.0 -0.018994   -0.019177   \n",
       "\n",
       "Price  fwd_logreturn  logreturn_rank  \n",
       "497         0.002625           392.0  \n",
       "498        -0.007029            71.0  \n",
       "499         0.014643            99.0  \n",
       "500         0.005343           242.0  \n",
       "501         0.010901           443.0  "
      ]
     },
     "execution_count": 204,
     "metadata": {},
     "output_type": "execute_result"
    }
   ],
   "source": [
    "hdf['logreturn_rank'] = hdf.groupby(\"Date\")[\"logreturns\"].rank(ascending=False, method='dense')\n",
    "hdf.head()"
   ]
  },
  {
   "cell_type": "code",
   "execution_count": 205,
   "id": "952e75e3",
   "metadata": {
    "deletable": false,
    "editable": false
   },
   "outputs": [
    {
     "data": {
      "text/html": [
       "<p><strong><pre style='display: inline;'>q5a</pre></strong> passed! 🍀</p>"
      ],
      "text/plain": [
       "q5a results: All test cases passed!"
      ]
     },
     "execution_count": 205,
     "metadata": {},
     "output_type": "execute_result"
    }
   ],
   "source": [
    "grader.check(\"q5a\")"
   ]
  },
  {
   "cell_type": "code",
   "execution_count": 206,
   "id": "4e4f44e1",
   "metadata": {
    "tags": []
   },
   "outputs": [
    {
     "data": {
      "text/html": [
       "<div>\n",
       "<style scoped>\n",
       "    .dataframe tbody tr th:only-of-type {\n",
       "        vertical-align: middle;\n",
       "    }\n",
       "\n",
       "    .dataframe tbody tr th {\n",
       "        vertical-align: top;\n",
       "    }\n",
       "\n",
       "    .dataframe thead th {\n",
       "        text-align: right;\n",
       "    }\n",
       "</style>\n",
       "<table border=\"1\" class=\"dataframe\">\n",
       "  <thead>\n",
       "    <tr style=\"text-align: right;\">\n",
       "      <th>Price</th>\n",
       "      <th>Date</th>\n",
       "      <th>Ticker</th>\n",
       "      <th>Adj Close</th>\n",
       "      <th>Volume</th>\n",
       "      <th>returns</th>\n",
       "      <th>logreturns</th>\n",
       "      <th>fwd_logreturn</th>\n",
       "      <th>logreturn_rank</th>\n",
       "      <th>demeaned_logreturn</th>\n",
       "      <th>demeaned_fwd_logreturn</th>\n",
       "    </tr>\n",
       "  </thead>\n",
       "  <tbody>\n",
       "    <tr>\n",
       "      <th>497</th>\n",
       "      <td>2023-10-05</td>\n",
       "      <td>A</td>\n",
       "      <td>109.606766</td>\n",
       "      <td>1295700.0</td>\n",
       "      <td>-0.011821</td>\n",
       "      <td>-0.011891</td>\n",
       "      <td>0.002625</td>\n",
       "      <td>392.0</td>\n",
       "      <td>-0.008552</td>\n",
       "      <td>-0.005998</td>\n",
       "    </tr>\n",
       "    <tr>\n",
       "      <th>498</th>\n",
       "      <td>2023-10-05</td>\n",
       "      <td>AAL</td>\n",
       "      <td>12.850000</td>\n",
       "      <td>36272900.0</td>\n",
       "      <td>0.009427</td>\n",
       "      <td>0.009382</td>\n",
       "      <td>-0.007029</td>\n",
       "      <td>71.0</td>\n",
       "      <td>0.012721</td>\n",
       "      <td>-0.015651</td>\n",
       "    </tr>\n",
       "    <tr>\n",
       "      <th>499</th>\n",
       "      <td>2023-10-05</td>\n",
       "      <td>AAPL</td>\n",
       "      <td>173.828293</td>\n",
       "      <td>48527900.0</td>\n",
       "      <td>0.007198</td>\n",
       "      <td>0.007172</td>\n",
       "      <td>0.014643</td>\n",
       "      <td>99.0</td>\n",
       "      <td>0.010511</td>\n",
       "      <td>0.006020</td>\n",
       "    </tr>\n",
       "    <tr>\n",
       "      <th>500</th>\n",
       "      <td>2023-10-05</td>\n",
       "      <td>ABBV</td>\n",
       "      <td>140.840302</td>\n",
       "      <td>3599500.0</td>\n",
       "      <td>-0.001625</td>\n",
       "      <td>-0.001626</td>\n",
       "      <td>0.005343</td>\n",
       "      <td>242.0</td>\n",
       "      <td>0.001712</td>\n",
       "      <td>-0.003279</td>\n",
       "    </tr>\n",
       "    <tr>\n",
       "      <th>501</th>\n",
       "      <td>2023-10-05</td>\n",
       "      <td>ABNB</td>\n",
       "      <td>124.989998</td>\n",
       "      <td>7630200.0</td>\n",
       "      <td>-0.018994</td>\n",
       "      <td>-0.019177</td>\n",
       "      <td>0.010901</td>\n",
       "      <td>443.0</td>\n",
       "      <td>-0.015838</td>\n",
       "      <td>0.002279</td>\n",
       "    </tr>\n",
       "  </tbody>\n",
       "</table>\n",
       "</div>"
      ],
      "text/plain": [
       "Price       Date Ticker   Adj Close      Volume   returns  logreturns  \\\n",
       "497   2023-10-05      A  109.606766   1295700.0 -0.011821   -0.011891   \n",
       "498   2023-10-05    AAL   12.850000  36272900.0  0.009427    0.009382   \n",
       "499   2023-10-05   AAPL  173.828293  48527900.0  0.007198    0.007172   \n",
       "500   2023-10-05   ABBV  140.840302   3599500.0 -0.001625   -0.001626   \n",
       "501   2023-10-05   ABNB  124.989998   7630200.0 -0.018994   -0.019177   \n",
       "\n",
       "Price  fwd_logreturn  logreturn_rank  demeaned_logreturn  \\\n",
       "497         0.002625           392.0           -0.008552   \n",
       "498        -0.007029            71.0            0.012721   \n",
       "499         0.014643            99.0            0.010511   \n",
       "500         0.005343           242.0            0.001712   \n",
       "501         0.010901           443.0           -0.015838   \n",
       "\n",
       "Price  demeaned_fwd_logreturn  \n",
       "497                 -0.005998  \n",
       "498                 -0.015651  \n",
       "499                  0.006020  \n",
       "500                 -0.003279  \n",
       "501                  0.002279  "
      ]
     },
     "execution_count": 206,
     "metadata": {},
     "output_type": "execute_result"
    }
   ],
   "source": [
    "# we can also look at the demeaned returns, or the returns of the asset we chose relative to all assets\n",
    "# this will help us assess if we were able to choose the assets that would end up under/overperforming\n",
    "\n",
    "date_mean_logreturns = hdf.groupby('Date')['logreturns'].transform('mean')\n",
    "\n",
    "# Calculate the demeaned log returns\n",
    "hdf['demeaned_logreturn'] = hdf['logreturns'] - date_mean_logreturns\n",
    "\n",
    "# Similar to the above, calculate the mean *forward* log returns for each date\n",
    "date_mean_fwd_logreturns = hdf.groupby(\"Date\")[\"fwd_logreturn\"].transform('mean')\n",
    "\n",
    "# Calculate the demeaned forward log returns\n",
    "hdf['demeaned_fwd_logreturn'] = hdf['fwd_logreturn'] - date_mean_fwd_logreturns\n",
    "hdf.head()"
   ]
  },
  {
   "cell_type": "code",
   "execution_count": 207,
   "id": "465f196d",
   "metadata": {
    "deletable": false,
    "editable": false
   },
   "outputs": [
    {
     "data": {
      "text/html": [
       "<p><strong><pre style='display: inline;'>q5b</pre></strong> passed! 🌟</p>"
      ],
      "text/plain": [
       "q5b results: All test cases passed!"
      ]
     },
     "execution_count": 207,
     "metadata": {},
     "output_type": "execute_result"
    }
   ],
   "source": [
    "grader.check(\"q5b\")"
   ]
  },
  {
   "cell_type": "code",
   "execution_count": 208,
   "id": "dd0b8f8f",
   "metadata": {},
   "outputs": [
    {
     "data": {
      "text/html": [
       "<div>\n",
       "<style scoped>\n",
       "    .dataframe tbody tr th:only-of-type {\n",
       "        vertical-align: middle;\n",
       "    }\n",
       "\n",
       "    .dataframe tbody tr th {\n",
       "        vertical-align: top;\n",
       "    }\n",
       "\n",
       "    .dataframe thead th {\n",
       "        text-align: right;\n",
       "    }\n",
       "</style>\n",
       "<table border=\"1\" class=\"dataframe\">\n",
       "  <thead>\n",
       "    <tr style=\"text-align: right;\">\n",
       "      <th>Price</th>\n",
       "      <th>Date</th>\n",
       "      <th>Ticker</th>\n",
       "      <th>Adj Close</th>\n",
       "      <th>Volume</th>\n",
       "      <th>returns</th>\n",
       "      <th>logreturns</th>\n",
       "      <th>fwd_logreturn</th>\n",
       "      <th>logreturn_rank</th>\n",
       "      <th>demeaned_logreturn</th>\n",
       "      <th>demeaned_fwd_logreturn</th>\n",
       "      <th>logreturn_decile</th>\n",
       "    </tr>\n",
       "  </thead>\n",
       "  <tbody>\n",
       "    <tr>\n",
       "      <th>497</th>\n",
       "      <td>2023-10-05</td>\n",
       "      <td>A</td>\n",
       "      <td>109.606766</td>\n",
       "      <td>1295700.0</td>\n",
       "      <td>-0.011821</td>\n",
       "      <td>-0.011891</td>\n",
       "      <td>0.002625</td>\n",
       "      <td>392.0</td>\n",
       "      <td>-0.008552</td>\n",
       "      <td>-0.005998</td>\n",
       "      <td>2</td>\n",
       "    </tr>\n",
       "    <tr>\n",
       "      <th>498</th>\n",
       "      <td>2023-10-05</td>\n",
       "      <td>AAL</td>\n",
       "      <td>12.850000</td>\n",
       "      <td>36272900.0</td>\n",
       "      <td>0.009427</td>\n",
       "      <td>0.009382</td>\n",
       "      <td>-0.007029</td>\n",
       "      <td>71.0</td>\n",
       "      <td>0.012721</td>\n",
       "      <td>-0.015651</td>\n",
       "      <td>8</td>\n",
       "    </tr>\n",
       "    <tr>\n",
       "      <th>499</th>\n",
       "      <td>2023-10-05</td>\n",
       "      <td>AAPL</td>\n",
       "      <td>173.828293</td>\n",
       "      <td>48527900.0</td>\n",
       "      <td>0.007198</td>\n",
       "      <td>0.007172</td>\n",
       "      <td>0.014643</td>\n",
       "      <td>99.0</td>\n",
       "      <td>0.010511</td>\n",
       "      <td>0.006020</td>\n",
       "      <td>8</td>\n",
       "    </tr>\n",
       "    <tr>\n",
       "      <th>500</th>\n",
       "      <td>2023-10-05</td>\n",
       "      <td>ABBV</td>\n",
       "      <td>140.840302</td>\n",
       "      <td>3599500.0</td>\n",
       "      <td>-0.001625</td>\n",
       "      <td>-0.001626</td>\n",
       "      <td>0.005343</td>\n",
       "      <td>242.0</td>\n",
       "      <td>0.001712</td>\n",
       "      <td>-0.003279</td>\n",
       "      <td>5</td>\n",
       "    </tr>\n",
       "    <tr>\n",
       "      <th>501</th>\n",
       "      <td>2023-10-05</td>\n",
       "      <td>ABNB</td>\n",
       "      <td>124.989998</td>\n",
       "      <td>7630200.0</td>\n",
       "      <td>-0.018994</td>\n",
       "      <td>-0.019177</td>\n",
       "      <td>0.010901</td>\n",
       "      <td>443.0</td>\n",
       "      <td>-0.015838</td>\n",
       "      <td>0.002279</td>\n",
       "      <td>1</td>\n",
       "    </tr>\n",
       "  </tbody>\n",
       "</table>\n",
       "</div>"
      ],
      "text/plain": [
       "Price       Date Ticker   Adj Close      Volume   returns  logreturns  \\\n",
       "497   2023-10-05      A  109.606766   1295700.0 -0.011821   -0.011891   \n",
       "498   2023-10-05    AAL   12.850000  36272900.0  0.009427    0.009382   \n",
       "499   2023-10-05   AAPL  173.828293  48527900.0  0.007198    0.007172   \n",
       "500   2023-10-05   ABBV  140.840302   3599500.0 -0.001625   -0.001626   \n",
       "501   2023-10-05   ABNB  124.989998   7630200.0 -0.018994   -0.019177   \n",
       "\n",
       "Price  fwd_logreturn  logreturn_rank  demeaned_logreturn  \\\n",
       "497         0.002625           392.0           -0.008552   \n",
       "498        -0.007029            71.0            0.012721   \n",
       "499         0.014643            99.0            0.010511   \n",
       "500         0.005343           242.0            0.001712   \n",
       "501         0.010901           443.0           -0.015838   \n",
       "\n",
       "Price  demeaned_fwd_logreturn  logreturn_decile  \n",
       "497                 -0.005998                 2  \n",
       "498                 -0.015651                 8  \n",
       "499                  0.006020                 8  \n",
       "500                 -0.003279                 5  \n",
       "501                  0.002279                 1  "
      ]
     },
     "execution_count": 208,
     "metadata": {},
     "output_type": "execute_result"
    }
   ],
   "source": [
    "# for ease of analyzing the effect, we will bucket our feature using a decile (each bin is 10%-ile)\n",
    "# this will help us figure out how strong the effect is\n",
    "# we do this using pd.qcut(x, q=quantile, labels=False, duplicates='drop'), which cuts a series into quantile buckets. pass q=10 to get decile buckets\n",
    "# [https://pandas.pydata.org/docs/reference/api/pandas.qcut.html]\n",
    "# drop labels and duplicates\n",
    "hdf['logreturn_decile'] = hdf.groupby('Date')['logreturns'].transform(\n",
    "    lambda x: pd.qcut(x, q=10, labels=False, duplicates='drop'))\n",
    "hdf.head()"
   ]
  },
  {
   "cell_type": "code",
   "execution_count": 209,
   "id": "f98354b5",
   "metadata": {},
   "outputs": [
    {
     "data": {
      "text/plain": [
       "<Axes: xlabel='logreturn_decile'>"
      ]
     },
     "execution_count": 209,
     "metadata": {},
     "output_type": "execute_result"
    },
    {
     "data": {
      "image/png": "[encoded data removed]",
      "text/plain": [
       "<Figure size 640x480 with 1 Axes>"
      ]
     },
     "metadata": {},
     "output_type": "display_data"
    }
   ],
   "source": [
    "# we'll plot this using a barplot\n",
    "hdf.groupby('logreturn_decile').mean(numeric_only = True)['demeaned_fwd_logreturn'].plot(kind='bar')"
   ]
  },
  {
   "cell_type": "code",
   "execution_count": 210,
   "id": "4b498e3d",
   "metadata": {},
   "outputs": [],
   "source": [
    "# it definitely looks like the bottom and top 20%-ile have outsized returns!"
   ]
  },
  {
   "cell_type": "markdown",
   "id": "edba518d",
   "metadata": {},
   "source": [
    "# Strategy 'backtesting'"
   ]
  },
  {
   "cell_type": "markdown",
   "id": "44419fb5-f2b9-45cc-b8c8-fbb125c9b83e",
   "metadata": {},
   "source": [
    "---\n",
    "\n",
    "### Backtesting: A Simplified Approach\n",
    "\n",
    "\n",
    "This simplified backtest provides a quick way to assess the viability of features before diving into more complex analyses.\n",
    "\n",
    "--- "
   ]
  },
  {
   "cell_type": "code",
   "execution_count": 211,
   "id": "bb62af09",
   "metadata": {
    "tags": []
   },
   "outputs": [
    {
     "data": {
      "text/html": [
       "<div>\n",
       "<style scoped>\n",
       "    .dataframe tbody tr th:only-of-type {\n",
       "        vertical-align: middle;\n",
       "    }\n",
       "\n",
       "    .dataframe tbody tr th {\n",
       "        vertical-align: top;\n",
       "    }\n",
       "\n",
       "    .dataframe thead th {\n",
       "        text-align: right;\n",
       "    }\n",
       "</style>\n",
       "<table border=\"1\" class=\"dataframe\">\n",
       "  <thead>\n",
       "    <tr style=\"text-align: right;\">\n",
       "      <th>Price</th>\n",
       "      <th>Date</th>\n",
       "      <th>Ticker</th>\n",
       "      <th>Adj Close</th>\n",
       "      <th>Volume</th>\n",
       "      <th>returns</th>\n",
       "      <th>logreturns</th>\n",
       "      <th>fwd_logreturn</th>\n",
       "      <th>logreturn_rank</th>\n",
       "      <th>demeaned_logreturn</th>\n",
       "      <th>demeaned_fwd_logreturn</th>\n",
       "      <th>logreturn_decile</th>\n",
       "      <th>long/short</th>\n",
       "    </tr>\n",
       "  </thead>\n",
       "  <tbody>\n",
       "    <tr>\n",
       "      <th>497</th>\n",
       "      <td>2023-10-05</td>\n",
       "      <td>A</td>\n",
       "      <td>109.606766</td>\n",
       "      <td>1295700.0</td>\n",
       "      <td>-0.011821</td>\n",
       "      <td>-0.011891</td>\n",
       "      <td>0.002625</td>\n",
       "      <td>392.0</td>\n",
       "      <td>-0.008552</td>\n",
       "      <td>-0.005998</td>\n",
       "      <td>2</td>\n",
       "      <td>0</td>\n",
       "    </tr>\n",
       "    <tr>\n",
       "      <th>498</th>\n",
       "      <td>2023-10-05</td>\n",
       "      <td>AAL</td>\n",
       "      <td>12.850000</td>\n",
       "      <td>36272900.0</td>\n",
       "      <td>0.009427</td>\n",
       "      <td>0.009382</td>\n",
       "      <td>-0.007029</td>\n",
       "      <td>71.0</td>\n",
       "      <td>0.012721</td>\n",
       "      <td>-0.015651</td>\n",
       "      <td>8</td>\n",
       "      <td>1</td>\n",
       "    </tr>\n",
       "    <tr>\n",
       "      <th>499</th>\n",
       "      <td>2023-10-05</td>\n",
       "      <td>AAPL</td>\n",
       "      <td>173.828293</td>\n",
       "      <td>48527900.0</td>\n",
       "      <td>0.007198</td>\n",
       "      <td>0.007172</td>\n",
       "      <td>0.014643</td>\n",
       "      <td>99.0</td>\n",
       "      <td>0.010511</td>\n",
       "      <td>0.006020</td>\n",
       "      <td>8</td>\n",
       "      <td>1</td>\n",
       "    </tr>\n",
       "    <tr>\n",
       "      <th>500</th>\n",
       "      <td>2023-10-05</td>\n",
       "      <td>ABBV</td>\n",
       "      <td>140.840302</td>\n",
       "      <td>3599500.0</td>\n",
       "      <td>-0.001625</td>\n",
       "      <td>-0.001626</td>\n",
       "      <td>0.005343</td>\n",
       "      <td>242.0</td>\n",
       "      <td>0.001712</td>\n",
       "      <td>-0.003279</td>\n",
       "      <td>5</td>\n",
       "      <td>0</td>\n",
       "    </tr>\n",
       "    <tr>\n",
       "      <th>501</th>\n",
       "      <td>2023-10-05</td>\n",
       "      <td>ABNB</td>\n",
       "      <td>124.989998</td>\n",
       "      <td>7630200.0</td>\n",
       "      <td>-0.018994</td>\n",
       "      <td>-0.019177</td>\n",
       "      <td>0.010901</td>\n",
       "      <td>443.0</td>\n",
       "      <td>-0.015838</td>\n",
       "      <td>0.002279</td>\n",
       "      <td>1</td>\n",
       "      <td>-1</td>\n",
       "    </tr>\n",
       "  </tbody>\n",
       "</table>\n",
       "</div>"
      ],
      "text/plain": [
       "Price       Date Ticker   Adj Close      Volume   returns  logreturns  \\\n",
       "497   2023-10-05      A  109.606766   1295700.0 -0.011821   -0.011891   \n",
       "498   2023-10-05    AAL   12.850000  36272900.0  0.009427    0.009382   \n",
       "499   2023-10-05   AAPL  173.828293  48527900.0  0.007198    0.007172   \n",
       "500   2023-10-05   ABBV  140.840302   3599500.0 -0.001625   -0.001626   \n",
       "501   2023-10-05   ABNB  124.989998   7630200.0 -0.018994   -0.019177   \n",
       "\n",
       "Price  fwd_logreturn  logreturn_rank  demeaned_logreturn  \\\n",
       "497         0.002625           392.0           -0.008552   \n",
       "498        -0.007029            71.0            0.012721   \n",
       "499         0.014643            99.0            0.010511   \n",
       "500         0.005343           242.0            0.001712   \n",
       "501         0.010901           443.0           -0.015838   \n",
       "\n",
       "Price  demeaned_fwd_logreturn  logreturn_decile  long/short  \n",
       "497                 -0.005998                 2           0  \n",
       "498                 -0.015651                 8           1  \n",
       "499                  0.006020                 8           1  \n",
       "500                 -0.003279                 5           0  \n",
       "501                  0.002279                 1          -1  "
      ]
     },
     "execution_count": 211,
     "metadata": {},
     "output_type": "execute_result"
    }
   ],
   "source": [
    "# let's define our strategy by setting an asset to be long or short if its in the top or bottom 20% log return decile\n",
    "# we'll also equal weight all our positions\n",
    "# the decile values for the bottom 20% would be 0 and 1\n",
    "# the decile values for the top 20% would be 8 and 9\n",
    "\n",
    "# we can use np.where() in order to conditionally assign a column\n",
    "hdf['long/short'] = np.where(hdf[\"logreturn_decile\"] < 2, -1,\n",
    "                      np.where(hdf[\"logreturn_decile\"] > 7, 1, 0))\n",
    "hdf.head()"
   ]
  },
  {
   "cell_type": "code",
   "execution_count": 212,
   "id": "c3d8548b",
   "metadata": {
    "deletable": false,
    "editable": false
   },
   "outputs": [
    {
     "data": {
      "text/html": [
       "<p><strong><pre style='display: inline;'>q6a</pre></strong> passed! ✨</p>"
      ],
      "text/plain": [
       "q6a results: All test cases passed!"
      ]
     },
     "execution_count": 212,
     "metadata": {},
     "output_type": "execute_result"
    }
   ],
   "source": [
    "grader.check(\"q6a\")"
   ]
  },
  {
   "cell_type": "code",
   "execution_count": 213,
   "id": "22b6da4e",
   "metadata": {
    "tags": []
   },
   "outputs": [
    {
     "data": {
      "text/html": [
       "<div>\n",
       "<style scoped>\n",
       "    .dataframe tbody tr th:only-of-type {\n",
       "        vertical-align: middle;\n",
       "    }\n",
       "\n",
       "    .dataframe tbody tr th {\n",
       "        vertical-align: top;\n",
       "    }\n",
       "\n",
       "    .dataframe thead th {\n",
       "        text-align: right;\n",
       "    }\n",
       "</style>\n",
       "<table border=\"1\" class=\"dataframe\">\n",
       "  <thead>\n",
       "    <tr style=\"text-align: right;\">\n",
       "      <th>Price</th>\n",
       "      <th>Date</th>\n",
       "      <th>Ticker</th>\n",
       "      <th>Adj Close</th>\n",
       "      <th>Volume</th>\n",
       "      <th>returns</th>\n",
       "      <th>logreturns</th>\n",
       "      <th>fwd_logreturn</th>\n",
       "      <th>logreturn_rank</th>\n",
       "      <th>demeaned_logreturn</th>\n",
       "      <th>demeaned_fwd_logreturn</th>\n",
       "      <th>logreturn_decile</th>\n",
       "      <th>long/short</th>\n",
       "      <th>absposition</th>\n",
       "    </tr>\n",
       "  </thead>\n",
       "  <tbody>\n",
       "    <tr>\n",
       "      <th>497</th>\n",
       "      <td>2023-10-05</td>\n",
       "      <td>A</td>\n",
       "      <td>109.606766</td>\n",
       "      <td>1295700.0</td>\n",
       "      <td>-0.011821</td>\n",
       "      <td>-0.011891</td>\n",
       "      <td>0.002625</td>\n",
       "      <td>392.0</td>\n",
       "      <td>-0.008552</td>\n",
       "      <td>-0.005998</td>\n",
       "      <td>2</td>\n",
       "      <td>0</td>\n",
       "      <td>0</td>\n",
       "    </tr>\n",
       "    <tr>\n",
       "      <th>498</th>\n",
       "      <td>2023-10-05</td>\n",
       "      <td>AAL</td>\n",
       "      <td>12.850000</td>\n",
       "      <td>36272900.0</td>\n",
       "      <td>0.009427</td>\n",
       "      <td>0.009382</td>\n",
       "      <td>-0.007029</td>\n",
       "      <td>71.0</td>\n",
       "      <td>0.012721</td>\n",
       "      <td>-0.015651</td>\n",
       "      <td>8</td>\n",
       "      <td>1</td>\n",
       "      <td>1</td>\n",
       "    </tr>\n",
       "    <tr>\n",
       "      <th>499</th>\n",
       "      <td>2023-10-05</td>\n",
       "      <td>AAPL</td>\n",
       "      <td>173.828293</td>\n",
       "      <td>48527900.0</td>\n",
       "      <td>0.007198</td>\n",
       "      <td>0.007172</td>\n",
       "      <td>0.014643</td>\n",
       "      <td>99.0</td>\n",
       "      <td>0.010511</td>\n",
       "      <td>0.006020</td>\n",
       "      <td>8</td>\n",
       "      <td>1</td>\n",
       "      <td>1</td>\n",
       "    </tr>\n",
       "    <tr>\n",
       "      <th>500</th>\n",
       "      <td>2023-10-05</td>\n",
       "      <td>ABBV</td>\n",
       "      <td>140.840302</td>\n",
       "      <td>3599500.0</td>\n",
       "      <td>-0.001625</td>\n",
       "      <td>-0.001626</td>\n",
       "      <td>0.005343</td>\n",
       "      <td>242.0</td>\n",
       "      <td>0.001712</td>\n",
       "      <td>-0.003279</td>\n",
       "      <td>5</td>\n",
       "      <td>0</td>\n",
       "      <td>0</td>\n",
       "    </tr>\n",
       "    <tr>\n",
       "      <th>501</th>\n",
       "      <td>2023-10-05</td>\n",
       "      <td>ABNB</td>\n",
       "      <td>124.989998</td>\n",
       "      <td>7630200.0</td>\n",
       "      <td>-0.018994</td>\n",
       "      <td>-0.019177</td>\n",
       "      <td>0.010901</td>\n",
       "      <td>443.0</td>\n",
       "      <td>-0.015838</td>\n",
       "      <td>0.002279</td>\n",
       "      <td>1</td>\n",
       "      <td>-1</td>\n",
       "      <td>1</td>\n",
       "    </tr>\n",
       "  </tbody>\n",
       "</table>\n",
       "</div>"
      ],
      "text/plain": [
       "Price       Date Ticker   Adj Close      Volume   returns  logreturns  \\\n",
       "497   2023-10-05      A  109.606766   1295700.0 -0.011821   -0.011891   \n",
       "498   2023-10-05    AAL   12.850000  36272900.0  0.009427    0.009382   \n",
       "499   2023-10-05   AAPL  173.828293  48527900.0  0.007198    0.007172   \n",
       "500   2023-10-05   ABBV  140.840302   3599500.0 -0.001625   -0.001626   \n",
       "501   2023-10-05   ABNB  124.989998   7630200.0 -0.018994   -0.019177   \n",
       "\n",
       "Price  fwd_logreturn  logreturn_rank  demeaned_logreturn  \\\n",
       "497         0.002625           392.0           -0.008552   \n",
       "498        -0.007029            71.0            0.012721   \n",
       "499         0.014643            99.0            0.010511   \n",
       "500         0.005343           242.0            0.001712   \n",
       "501         0.010901           443.0           -0.015838   \n",
       "\n",
       "Price  demeaned_fwd_logreturn  logreturn_decile  long/short  absposition  \n",
       "497                 -0.005998                 2           0            0  \n",
       "498                 -0.015651                 8           1            1  \n",
       "499                  0.006020                 8           1            1  \n",
       "500                 -0.003279                 5           0            0  \n",
       "501                  0.002279                 1          -1            1  "
      ]
     },
     "execution_count": 213,
     "metadata": {},
     "output_type": "execute_result"
    }
   ],
   "source": [
    "# we size our positions by taking our absolute long/short position\n",
    "hdf['absposition'] = hdf['long/short'].abs()\n",
    "hdf.head()"
   ]
  },
  {
   "cell_type": "code",
   "execution_count": 214,
   "id": "5012de31",
   "metadata": {
    "deletable": false,
    "editable": false
   },
   "outputs": [
    {
     "data": {
      "text/html": [
       "<p><strong><pre style='display: inline;'>q6b</pre></strong> passed! 🎉</p>"
      ],
      "text/plain": [
       "q6b results: All test cases passed!"
      ]
     },
     "execution_count": 214,
     "metadata": {},
     "output_type": "execute_result"
    }
   ],
   "source": [
    "grader.check(\"q6b\")"
   ]
  },
  {
   "cell_type": "code",
   "execution_count": 215,
   "id": "925fb25b",
   "metadata": {
    "tags": []
   },
   "outputs": [
    {
     "data": {
      "text/html": [
       "<div>\n",
       "<style scoped>\n",
       "    .dataframe tbody tr th:only-of-type {\n",
       "        vertical-align: middle;\n",
       "    }\n",
       "\n",
       "    .dataframe tbody tr th {\n",
       "        vertical-align: top;\n",
       "    }\n",
       "\n",
       "    .dataframe thead th {\n",
       "        text-align: right;\n",
       "    }\n",
       "</style>\n",
       "<table border=\"1\" class=\"dataframe\">\n",
       "  <thead>\n",
       "    <tr style=\"text-align: right;\">\n",
       "      <th>Price</th>\n",
       "      <th>Date</th>\n",
       "      <th>Ticker</th>\n",
       "      <th>Adj Close</th>\n",
       "      <th>Volume</th>\n",
       "      <th>returns</th>\n",
       "      <th>logreturns</th>\n",
       "      <th>fwd_logreturn</th>\n",
       "      <th>logreturn_rank</th>\n",
       "      <th>demeaned_logreturn</th>\n",
       "      <th>demeaned_fwd_logreturn</th>\n",
       "      <th>logreturn_decile</th>\n",
       "      <th>long/short</th>\n",
       "      <th>absposition</th>\n",
       "      <th>numpositions</th>\n",
       "    </tr>\n",
       "  </thead>\n",
       "  <tbody>\n",
       "    <tr>\n",
       "      <th>497</th>\n",
       "      <td>2023-10-05</td>\n",
       "      <td>A</td>\n",
       "      <td>109.606766</td>\n",
       "      <td>1295700.0</td>\n",
       "      <td>-0.011821</td>\n",
       "      <td>-0.011891</td>\n",
       "      <td>0.002625</td>\n",
       "      <td>392.0</td>\n",
       "      <td>-0.008552</td>\n",
       "      <td>-0.005998</td>\n",
       "      <td>2</td>\n",
       "      <td>0</td>\n",
       "      <td>0</td>\n",
       "      <td>200</td>\n",
       "    </tr>\n",
       "    <tr>\n",
       "      <th>498</th>\n",
       "      <td>2023-10-05</td>\n",
       "      <td>AAL</td>\n",
       "      <td>12.850000</td>\n",
       "      <td>36272900.0</td>\n",
       "      <td>0.009427</td>\n",
       "      <td>0.009382</td>\n",
       "      <td>-0.007029</td>\n",
       "      <td>71.0</td>\n",
       "      <td>0.012721</td>\n",
       "      <td>-0.015651</td>\n",
       "      <td>8</td>\n",
       "      <td>1</td>\n",
       "      <td>1</td>\n",
       "      <td>200</td>\n",
       "    </tr>\n",
       "    <tr>\n",
       "      <th>499</th>\n",
       "      <td>2023-10-05</td>\n",
       "      <td>AAPL</td>\n",
       "      <td>173.828293</td>\n",
       "      <td>48527900.0</td>\n",
       "      <td>0.007198</td>\n",
       "      <td>0.007172</td>\n",
       "      <td>0.014643</td>\n",
       "      <td>99.0</td>\n",
       "      <td>0.010511</td>\n",
       "      <td>0.006020</td>\n",
       "      <td>8</td>\n",
       "      <td>1</td>\n",
       "      <td>1</td>\n",
       "      <td>200</td>\n",
       "    </tr>\n",
       "    <tr>\n",
       "      <th>500</th>\n",
       "      <td>2023-10-05</td>\n",
       "      <td>ABBV</td>\n",
       "      <td>140.840302</td>\n",
       "      <td>3599500.0</td>\n",
       "      <td>-0.001625</td>\n",
       "      <td>-0.001626</td>\n",
       "      <td>0.005343</td>\n",
       "      <td>242.0</td>\n",
       "      <td>0.001712</td>\n",
       "      <td>-0.003279</td>\n",
       "      <td>5</td>\n",
       "      <td>0</td>\n",
       "      <td>0</td>\n",
       "      <td>200</td>\n",
       "    </tr>\n",
       "    <tr>\n",
       "      <th>501</th>\n",
       "      <td>2023-10-05</td>\n",
       "      <td>ABNB</td>\n",
       "      <td>124.989998</td>\n",
       "      <td>7630200.0</td>\n",
       "      <td>-0.018994</td>\n",
       "      <td>-0.019177</td>\n",
       "      <td>0.010901</td>\n",
       "      <td>443.0</td>\n",
       "      <td>-0.015838</td>\n",
       "      <td>0.002279</td>\n",
       "      <td>1</td>\n",
       "      <td>-1</td>\n",
       "      <td>1</td>\n",
       "      <td>200</td>\n",
       "    </tr>\n",
       "  </tbody>\n",
       "</table>\n",
       "</div>"
      ],
      "text/plain": [
       "Price       Date Ticker   Adj Close      Volume   returns  logreturns  \\\n",
       "497   2023-10-05      A  109.606766   1295700.0 -0.011821   -0.011891   \n",
       "498   2023-10-05    AAL   12.850000  36272900.0  0.009427    0.009382   \n",
       "499   2023-10-05   AAPL  173.828293  48527900.0  0.007198    0.007172   \n",
       "500   2023-10-05   ABBV  140.840302   3599500.0 -0.001625   -0.001626   \n",
       "501   2023-10-05   ABNB  124.989998   7630200.0 -0.018994   -0.019177   \n",
       "\n",
       "Price  fwd_logreturn  logreturn_rank  demeaned_logreturn  \\\n",
       "497         0.002625           392.0           -0.008552   \n",
       "498        -0.007029            71.0            0.012721   \n",
       "499         0.014643            99.0            0.010511   \n",
       "500         0.005343           242.0            0.001712   \n",
       "501         0.010901           443.0           -0.015838   \n",
       "\n",
       "Price  demeaned_fwd_logreturn  logreturn_decile  long/short  absposition  \\\n",
       "497                 -0.005998                 2           0            0   \n",
       "498                 -0.015651                 8           1            1   \n",
       "499                  0.006020                 8           1            1   \n",
       "500                 -0.003279                 5           0            0   \n",
       "501                  0.002279                 1          -1            1   \n",
       "\n",
       "Price  numpositions  \n",
       "497             200  \n",
       "498             200  \n",
       "499             200  \n",
       "500             200  \n",
       "501             200  "
      ]
     },
     "execution_count": 215,
     "metadata": {},
     "output_type": "execute_result"
    }
   ],
   "source": [
    "# getting the total number of our positions by summing our absolute position for each day \n",
    "# hint: take a look at .transform documentation [https://pandas.pydata.org/docs/reference/api/pandas.DataFrame.transform.html]\n",
    "hdf['numpositions'] = hdf.groupby(\"Date\")[\"absposition\"].transform('sum')\n",
    "hdf.head()"
   ]
  },
  {
   "cell_type": "code",
   "execution_count": 216,
   "id": "977f8bde",
   "metadata": {
    "deletable": false,
    "editable": false
   },
   "outputs": [
    {
     "data": {
      "text/html": [
       "<p><strong><pre style='display: inline;'>q6c</pre></strong> passed! 🙌</p>"
      ],
      "text/plain": [
       "q6c results: All test cases passed!"
      ]
     },
     "execution_count": 216,
     "metadata": {},
     "output_type": "execute_result"
    }
   ],
   "source": [
    "grader.check(\"q6c\")"
   ]
  },
  {
   "cell_type": "code",
   "execution_count": 217,
   "id": "56f452fa",
   "metadata": {
    "tags": []
   },
   "outputs": [
    {
     "data": {
      "text/html": [
       "<div>\n",
       "<style scoped>\n",
       "    .dataframe tbody tr th:only-of-type {\n",
       "        vertical-align: middle;\n",
       "    }\n",
       "\n",
       "    .dataframe tbody tr th {\n",
       "        vertical-align: top;\n",
       "    }\n",
       "\n",
       "    .dataframe thead th {\n",
       "        text-align: right;\n",
       "    }\n",
       "</style>\n",
       "<table border=\"1\" class=\"dataframe\">\n",
       "  <thead>\n",
       "    <tr style=\"text-align: right;\">\n",
       "      <th>Price</th>\n",
       "      <th>Date</th>\n",
       "      <th>Ticker</th>\n",
       "      <th>Adj Close</th>\n",
       "      <th>Volume</th>\n",
       "      <th>returns</th>\n",
       "      <th>logreturns</th>\n",
       "      <th>fwd_logreturn</th>\n",
       "      <th>logreturn_rank</th>\n",
       "      <th>demeaned_logreturn</th>\n",
       "      <th>demeaned_fwd_logreturn</th>\n",
       "      <th>logreturn_decile</th>\n",
       "      <th>long/short</th>\n",
       "      <th>absposition</th>\n",
       "      <th>numpositions</th>\n",
       "      <th>weight</th>\n",
       "    </tr>\n",
       "  </thead>\n",
       "  <tbody>\n",
       "    <tr>\n",
       "      <th>497</th>\n",
       "      <td>2023-10-05</td>\n",
       "      <td>A</td>\n",
       "      <td>109.606766</td>\n",
       "      <td>1295700.0</td>\n",
       "      <td>-0.011821</td>\n",
       "      <td>-0.011891</td>\n",
       "      <td>0.002625</td>\n",
       "      <td>392.0</td>\n",
       "      <td>-0.008552</td>\n",
       "      <td>-0.005998</td>\n",
       "      <td>2</td>\n",
       "      <td>0</td>\n",
       "      <td>0</td>\n",
       "      <td>200</td>\n",
       "      <td>0.000</td>\n",
       "    </tr>\n",
       "    <tr>\n",
       "      <th>498</th>\n",
       "      <td>2023-10-05</td>\n",
       "      <td>AAL</td>\n",
       "      <td>12.850000</td>\n",
       "      <td>36272900.0</td>\n",
       "      <td>0.009427</td>\n",
       "      <td>0.009382</td>\n",
       "      <td>-0.007029</td>\n",
       "      <td>71.0</td>\n",
       "      <td>0.012721</td>\n",
       "      <td>-0.015651</td>\n",
       "      <td>8</td>\n",
       "      <td>1</td>\n",
       "      <td>1</td>\n",
       "      <td>200</td>\n",
       "      <td>0.005</td>\n",
       "    </tr>\n",
       "    <tr>\n",
       "      <th>499</th>\n",
       "      <td>2023-10-05</td>\n",
       "      <td>AAPL</td>\n",
       "      <td>173.828293</td>\n",
       "      <td>48527900.0</td>\n",
       "      <td>0.007198</td>\n",
       "      <td>0.007172</td>\n",
       "      <td>0.014643</td>\n",
       "      <td>99.0</td>\n",
       "      <td>0.010511</td>\n",
       "      <td>0.006020</td>\n",
       "      <td>8</td>\n",
       "      <td>1</td>\n",
       "      <td>1</td>\n",
       "      <td>200</td>\n",
       "      <td>0.005</td>\n",
       "    </tr>\n",
       "    <tr>\n",
       "      <th>500</th>\n",
       "      <td>2023-10-05</td>\n",
       "      <td>ABBV</td>\n",
       "      <td>140.840302</td>\n",
       "      <td>3599500.0</td>\n",
       "      <td>-0.001625</td>\n",
       "      <td>-0.001626</td>\n",
       "      <td>0.005343</td>\n",
       "      <td>242.0</td>\n",
       "      <td>0.001712</td>\n",
       "      <td>-0.003279</td>\n",
       "      <td>5</td>\n",
       "      <td>0</td>\n",
       "      <td>0</td>\n",
       "      <td>200</td>\n",
       "      <td>0.000</td>\n",
       "    </tr>\n",
       "    <tr>\n",
       "      <th>501</th>\n",
       "      <td>2023-10-05</td>\n",
       "      <td>ABNB</td>\n",
       "      <td>124.989998</td>\n",
       "      <td>7630200.0</td>\n",
       "      <td>-0.018994</td>\n",
       "      <td>-0.019177</td>\n",
       "      <td>0.010901</td>\n",
       "      <td>443.0</td>\n",
       "      <td>-0.015838</td>\n",
       "      <td>0.002279</td>\n",
       "      <td>1</td>\n",
       "      <td>-1</td>\n",
       "      <td>1</td>\n",
       "      <td>200</td>\n",
       "      <td>-0.005</td>\n",
       "    </tr>\n",
       "  </tbody>\n",
       "</table>\n",
       "</div>"
      ],
      "text/plain": [
       "Price       Date Ticker   Adj Close      Volume   returns  logreturns  \\\n",
       "497   2023-10-05      A  109.606766   1295700.0 -0.011821   -0.011891   \n",
       "498   2023-10-05    AAL   12.850000  36272900.0  0.009427    0.009382   \n",
       "499   2023-10-05   AAPL  173.828293  48527900.0  0.007198    0.007172   \n",
       "500   2023-10-05   ABBV  140.840302   3599500.0 -0.001625   -0.001626   \n",
       "501   2023-10-05   ABNB  124.989998   7630200.0 -0.018994   -0.019177   \n",
       "\n",
       "Price  fwd_logreturn  logreturn_rank  demeaned_logreturn  \\\n",
       "497         0.002625           392.0           -0.008552   \n",
       "498        -0.007029            71.0            0.012721   \n",
       "499         0.014643            99.0            0.010511   \n",
       "500         0.005343           242.0            0.001712   \n",
       "501         0.010901           443.0           -0.015838   \n",
       "\n",
       "Price  demeaned_fwd_logreturn  logreturn_decile  long/short  absposition  \\\n",
       "497                 -0.005998                 2           0            0   \n",
       "498                 -0.015651                 8           1            1   \n",
       "499                  0.006020                 8           1            1   \n",
       "500                 -0.003279                 5           0            0   \n",
       "501                  0.002279                 1          -1            1   \n",
       "\n",
       "Price  numpositions  weight  \n",
       "497             200   0.000  \n",
       "498             200   0.005  \n",
       "499             200   0.005  \n",
       "500             200   0.000  \n",
       "501             200  -0.005  "
      ]
     },
     "execution_count": 217,
     "metadata": {},
     "output_type": "execute_result"
    }
   ],
   "source": [
    "# and we get our final weight for each asset by scaling our long/short indicator variable by the number of positions we have\n",
    "# each position should be such that we add up to one, so we'd divide the indicator by total positions\n",
    "# if we have 0 positions, the weight should be 0\n",
    "# this will mean that we should have equal size long and short, adding up to a total of 1 (no leverage)\n",
    "# we'll use df.apply(lambda row: (expression using row) if (condition on some row) else value, axis=1)\n",
    "\n",
    "hdf['weight'] = hdf.apply(lambda row: row['long/short'] / row['numpositions'] if row['numpositions'] != 0 else 0, axis=1)\n",
    "hdf.head()"
   ]
  },
  {
   "cell_type": "code",
   "execution_count": 218,
   "id": "54e6c4a7",
   "metadata": {
    "deletable": false,
    "editable": false
   },
   "outputs": [
    {
     "data": {
      "text/html": [
       "<p><strong><pre style='display: inline;'>q6d</pre></strong> passed! 🌟</p>"
      ],
      "text/plain": [
       "q6d results: All test cases passed!"
      ]
     },
     "execution_count": 218,
     "metadata": {},
     "output_type": "execute_result"
    }
   ],
   "source": [
    "grader.check(\"q6d\")"
   ]
  },
  {
   "cell_type": "code",
   "execution_count": 219,
   "id": "6090a27f",
   "metadata": {
    "tags": []
   },
   "outputs": [
    {
     "data": {
      "text/html": [
       "<div>\n",
       "<style scoped>\n",
       "    .dataframe tbody tr th:only-of-type {\n",
       "        vertical-align: middle;\n",
       "    }\n",
       "\n",
       "    .dataframe tbody tr th {\n",
       "        vertical-align: top;\n",
       "    }\n",
       "\n",
       "    .dataframe thead th {\n",
       "        text-align: right;\n",
       "    }\n",
       "</style>\n",
       "<table border=\"1\" class=\"dataframe\">\n",
       "  <thead>\n",
       "    <tr style=\"text-align: right;\">\n",
       "      <th>Price</th>\n",
       "      <th>Date</th>\n",
       "      <th>Ticker</th>\n",
       "      <th>Adj Close</th>\n",
       "      <th>Volume</th>\n",
       "      <th>returns</th>\n",
       "      <th>logreturns</th>\n",
       "      <th>fwd_logreturn</th>\n",
       "      <th>logreturn_rank</th>\n",
       "      <th>demeaned_logreturn</th>\n",
       "      <th>demeaned_fwd_logreturn</th>\n",
       "      <th>logreturn_decile</th>\n",
       "      <th>long/short</th>\n",
       "      <th>absposition</th>\n",
       "      <th>numpositions</th>\n",
       "      <th>weight</th>\n",
       "      <th>strategy_logreturn</th>\n",
       "    </tr>\n",
       "  </thead>\n",
       "  <tbody>\n",
       "    <tr>\n",
       "      <th>497</th>\n",
       "      <td>2023-10-05</td>\n",
       "      <td>A</td>\n",
       "      <td>109.606766</td>\n",
       "      <td>1295700.0</td>\n",
       "      <td>-0.011821</td>\n",
       "      <td>-0.011891</td>\n",
       "      <td>0.002625</td>\n",
       "      <td>392.0</td>\n",
       "      <td>-0.008552</td>\n",
       "      <td>-0.005998</td>\n",
       "      <td>2</td>\n",
       "      <td>0</td>\n",
       "      <td>0</td>\n",
       "      <td>200</td>\n",
       "      <td>0.000</td>\n",
       "      <td>0.000000</td>\n",
       "    </tr>\n",
       "    <tr>\n",
       "      <th>498</th>\n",
       "      <td>2023-10-05</td>\n",
       "      <td>AAL</td>\n",
       "      <td>12.850000</td>\n",
       "      <td>36272900.0</td>\n",
       "      <td>0.009427</td>\n",
       "      <td>0.009382</td>\n",
       "      <td>-0.007029</td>\n",
       "      <td>71.0</td>\n",
       "      <td>0.012721</td>\n",
       "      <td>-0.015651</td>\n",
       "      <td>8</td>\n",
       "      <td>1</td>\n",
       "      <td>1</td>\n",
       "      <td>200</td>\n",
       "      <td>0.005</td>\n",
       "      <td>-0.000035</td>\n",
       "    </tr>\n",
       "    <tr>\n",
       "      <th>499</th>\n",
       "      <td>2023-10-05</td>\n",
       "      <td>AAPL</td>\n",
       "      <td>173.828293</td>\n",
       "      <td>48527900.0</td>\n",
       "      <td>0.007198</td>\n",
       "      <td>0.007172</td>\n",
       "      <td>0.014643</td>\n",
       "      <td>99.0</td>\n",
       "      <td>0.010511</td>\n",
       "      <td>0.006020</td>\n",
       "      <td>8</td>\n",
       "      <td>1</td>\n",
       "      <td>1</td>\n",
       "      <td>200</td>\n",
       "      <td>0.005</td>\n",
       "      <td>0.000073</td>\n",
       "    </tr>\n",
       "    <tr>\n",
       "      <th>500</th>\n",
       "      <td>2023-10-05</td>\n",
       "      <td>ABBV</td>\n",
       "      <td>140.840302</td>\n",
       "      <td>3599500.0</td>\n",
       "      <td>-0.001625</td>\n",
       "      <td>-0.001626</td>\n",
       "      <td>0.005343</td>\n",
       "      <td>242.0</td>\n",
       "      <td>0.001712</td>\n",
       "      <td>-0.003279</td>\n",
       "      <td>5</td>\n",
       "      <td>0</td>\n",
       "      <td>0</td>\n",
       "      <td>200</td>\n",
       "      <td>0.000</td>\n",
       "      <td>0.000000</td>\n",
       "    </tr>\n",
       "    <tr>\n",
       "      <th>501</th>\n",
       "      <td>2023-10-05</td>\n",
       "      <td>ABNB</td>\n",
       "      <td>124.989998</td>\n",
       "      <td>7630200.0</td>\n",
       "      <td>-0.018994</td>\n",
       "      <td>-0.019177</td>\n",
       "      <td>0.010901</td>\n",
       "      <td>443.0</td>\n",
       "      <td>-0.015838</td>\n",
       "      <td>0.002279</td>\n",
       "      <td>1</td>\n",
       "      <td>-1</td>\n",
       "      <td>1</td>\n",
       "      <td>200</td>\n",
       "      <td>-0.005</td>\n",
       "      <td>-0.000055</td>\n",
       "    </tr>\n",
       "  </tbody>\n",
       "</table>\n",
       "</div>"
      ],
      "text/plain": [
       "Price       Date Ticker   Adj Close      Volume   returns  logreturns  \\\n",
       "497   2023-10-05      A  109.606766   1295700.0 -0.011821   -0.011891   \n",
       "498   2023-10-05    AAL   12.850000  36272900.0  0.009427    0.009382   \n",
       "499   2023-10-05   AAPL  173.828293  48527900.0  0.007198    0.007172   \n",
       "500   2023-10-05   ABBV  140.840302   3599500.0 -0.001625   -0.001626   \n",
       "501   2023-10-05   ABNB  124.989998   7630200.0 -0.018994   -0.019177   \n",
       "\n",
       "Price  fwd_logreturn  logreturn_rank  demeaned_logreturn  \\\n",
       "497         0.002625           392.0           -0.008552   \n",
       "498        -0.007029            71.0            0.012721   \n",
       "499         0.014643            99.0            0.010511   \n",
       "500         0.005343           242.0            0.001712   \n",
       "501         0.010901           443.0           -0.015838   \n",
       "\n",
       "Price  demeaned_fwd_logreturn  logreturn_decile  long/short  absposition  \\\n",
       "497                 -0.005998                 2           0            0   \n",
       "498                 -0.015651                 8           1            1   \n",
       "499                  0.006020                 8           1            1   \n",
       "500                 -0.003279                 5           0            0   \n",
       "501                  0.002279                 1          -1            1   \n",
       "\n",
       "Price  numpositions  weight  strategy_logreturn  \n",
       "497             200   0.000            0.000000  \n",
       "498             200   0.005           -0.000035  \n",
       "499             200   0.005            0.000073  \n",
       "500             200   0.000            0.000000  \n",
       "501             200  -0.005           -0.000055  "
      ]
     },
     "execution_count": 219,
     "metadata": {},
     "output_type": "execute_result"
    }
   ],
   "source": [
    "# finally we define the strategy's return as the weighted logreturns based on our position\n",
    "# so we multiply weight by forward logreturn\n",
    "hdf['strategy_logreturn'] = hdf[\"weight\"] * hdf[\"fwd_logreturn\"]\n",
    "hdf.head()"
   ]
  },
  {
   "cell_type": "code",
   "execution_count": 220,
   "id": "ad0054f4",
   "metadata": {
    "deletable": false,
    "editable": false
   },
   "outputs": [
    {
     "data": {
      "text/html": [
       "<p><strong><pre style='display: inline;'>q6e</pre></strong> passed! 🚀</p>"
      ],
      "text/plain": [
       "q6e results: All test cases passed!"
      ]
     },
     "execution_count": 220,
     "metadata": {},
     "output_type": "execute_result"
    }
   ],
   "source": [
    "grader.check(\"q6e\")"
   ]
  },
  {
   "cell_type": "code",
   "execution_count": 221,
   "id": "3d4332f0",
   "metadata": {
    "tags": []
   },
   "outputs": [
    {
     "data": {
      "text/html": [
       "<div>\n",
       "<style scoped>\n",
       "    .dataframe tbody tr th:only-of-type {\n",
       "        vertical-align: middle;\n",
       "    }\n",
       "\n",
       "    .dataframe tbody tr th {\n",
       "        vertical-align: top;\n",
       "    }\n",
       "\n",
       "    .dataframe thead th {\n",
       "        text-align: right;\n",
       "    }\n",
       "</style>\n",
       "<table border=\"1\" class=\"dataframe\">\n",
       "  <thead>\n",
       "    <tr style=\"text-align: right;\">\n",
       "      <th>Price</th>\n",
       "      <th>Date</th>\n",
       "      <th>Ticker</th>\n",
       "      <th>Adj Close</th>\n",
       "      <th>Volume</th>\n",
       "      <th>returns</th>\n",
       "      <th>logreturns</th>\n",
       "      <th>fwd_logreturn</th>\n",
       "      <th>logreturn_rank</th>\n",
       "      <th>demeaned_logreturn</th>\n",
       "      <th>demeaned_fwd_logreturn</th>\n",
       "      <th>logreturn_decile</th>\n",
       "      <th>long/short</th>\n",
       "      <th>absposition</th>\n",
       "      <th>numpositions</th>\n",
       "      <th>weight</th>\n",
       "      <th>strategy_logreturn</th>\n",
       "      <th>eqweight</th>\n",
       "      <th>equal_logreturn</th>\n",
       "    </tr>\n",
       "  </thead>\n",
       "  <tbody>\n",
       "    <tr>\n",
       "      <th>497</th>\n",
       "      <td>2023-10-05</td>\n",
       "      <td>A</td>\n",
       "      <td>109.606766</td>\n",
       "      <td>1295700.0</td>\n",
       "      <td>-0.011821</td>\n",
       "      <td>-0.011891</td>\n",
       "      <td>0.002625</td>\n",
       "      <td>392.0</td>\n",
       "      <td>-0.008552</td>\n",
       "      <td>-0.005998</td>\n",
       "      <td>2</td>\n",
       "      <td>0</td>\n",
       "      <td>0</td>\n",
       "      <td>200</td>\n",
       "      <td>0.000</td>\n",
       "      <td>0.000000</td>\n",
       "      <td>0.002012</td>\n",
       "      <td>0.000005</td>\n",
       "    </tr>\n",
       "    <tr>\n",
       "      <th>498</th>\n",
       "      <td>2023-10-05</td>\n",
       "      <td>AAL</td>\n",
       "      <td>12.850000</td>\n",
       "      <td>36272900.0</td>\n",
       "      <td>0.009427</td>\n",
       "      <td>0.009382</td>\n",
       "      <td>-0.007029</td>\n",
       "      <td>71.0</td>\n",
       "      <td>0.012721</td>\n",
       "      <td>-0.015651</td>\n",
       "      <td>8</td>\n",
       "      <td>1</td>\n",
       "      <td>1</td>\n",
       "      <td>200</td>\n",
       "      <td>0.005</td>\n",
       "      <td>-0.000035</td>\n",
       "      <td>0.002012</td>\n",
       "      <td>-0.000014</td>\n",
       "    </tr>\n",
       "    <tr>\n",
       "      <th>499</th>\n",
       "      <td>2023-10-05</td>\n",
       "      <td>AAPL</td>\n",
       "      <td>173.828293</td>\n",
       "      <td>48527900.0</td>\n",
       "      <td>0.007198</td>\n",
       "      <td>0.007172</td>\n",
       "      <td>0.014643</td>\n",
       "      <td>99.0</td>\n",
       "      <td>0.010511</td>\n",
       "      <td>0.006020</td>\n",
       "      <td>8</td>\n",
       "      <td>1</td>\n",
       "      <td>1</td>\n",
       "      <td>200</td>\n",
       "      <td>0.005</td>\n",
       "      <td>0.000073</td>\n",
       "      <td>0.002012</td>\n",
       "      <td>0.000029</td>\n",
       "    </tr>\n",
       "    <tr>\n",
       "      <th>500</th>\n",
       "      <td>2023-10-05</td>\n",
       "      <td>ABBV</td>\n",
       "      <td>140.840302</td>\n",
       "      <td>3599500.0</td>\n",
       "      <td>-0.001625</td>\n",
       "      <td>-0.001626</td>\n",
       "      <td>0.005343</td>\n",
       "      <td>242.0</td>\n",
       "      <td>0.001712</td>\n",
       "      <td>-0.003279</td>\n",
       "      <td>5</td>\n",
       "      <td>0</td>\n",
       "      <td>0</td>\n",
       "      <td>200</td>\n",
       "      <td>0.000</td>\n",
       "      <td>0.000000</td>\n",
       "      <td>0.002012</td>\n",
       "      <td>0.000011</td>\n",
       "    </tr>\n",
       "    <tr>\n",
       "      <th>501</th>\n",
       "      <td>2023-10-05</td>\n",
       "      <td>ABNB</td>\n",
       "      <td>124.989998</td>\n",
       "      <td>7630200.0</td>\n",
       "      <td>-0.018994</td>\n",
       "      <td>-0.019177</td>\n",
       "      <td>0.010901</td>\n",
       "      <td>443.0</td>\n",
       "      <td>-0.015838</td>\n",
       "      <td>0.002279</td>\n",
       "      <td>1</td>\n",
       "      <td>-1</td>\n",
       "      <td>1</td>\n",
       "      <td>200</td>\n",
       "      <td>-0.005</td>\n",
       "      <td>-0.000055</td>\n",
       "      <td>0.002012</td>\n",
       "      <td>0.000022</td>\n",
       "    </tr>\n",
       "  </tbody>\n",
       "</table>\n",
       "</div>"
      ],
      "text/plain": [
       "Price       Date Ticker   Adj Close      Volume   returns  logreturns  \\\n",
       "497   2023-10-05      A  109.606766   1295700.0 -0.011821   -0.011891   \n",
       "498   2023-10-05    AAL   12.850000  36272900.0  0.009427    0.009382   \n",
       "499   2023-10-05   AAPL  173.828293  48527900.0  0.007198    0.007172   \n",
       "500   2023-10-05   ABBV  140.840302   3599500.0 -0.001625   -0.001626   \n",
       "501   2023-10-05   ABNB  124.989998   7630200.0 -0.018994   -0.019177   \n",
       "\n",
       "Price  fwd_logreturn  logreturn_rank  demeaned_logreturn  \\\n",
       "497         0.002625           392.0           -0.008552   \n",
       "498        -0.007029            71.0            0.012721   \n",
       "499         0.014643            99.0            0.010511   \n",
       "500         0.005343           242.0            0.001712   \n",
       "501         0.010901           443.0           -0.015838   \n",
       "\n",
       "Price  demeaned_fwd_logreturn  logreturn_decile  long/short  absposition  \\\n",
       "497                 -0.005998                 2           0            0   \n",
       "498                 -0.015651                 8           1            1   \n",
       "499                  0.006020                 8           1            1   \n",
       "500                 -0.003279                 5           0            0   \n",
       "501                  0.002279                 1          -1            1   \n",
       "\n",
       "Price  numpositions  weight  strategy_logreturn  eqweight  equal_logreturn  \n",
       "497             200   0.000            0.000000  0.002012         0.000005  \n",
       "498             200   0.005           -0.000035  0.002012        -0.000014  \n",
       "499             200   0.005            0.000073  0.002012         0.000029  \n",
       "500             200   0.000            0.000000  0.002012         0.000011  \n",
       "501             200  -0.005           -0.000055  0.002012         0.000022  "
      ]
     },
     "execution_count": 221,
     "metadata": {},
     "output_type": "execute_result"
    }
   ],
   "source": [
    "# we can compare this with an equal weighted strategy, where we long each asset the same amount, again summing up to 1\n",
    "# hint: use .unique() to get number of assets [https://pandas.pydata.org/docs/reference/api/pandas.unique.html]\n",
    "\n",
    "hdf['eqweight'] = 1 / hdf[\"Ticker\"].nunique()\n",
    "hdf['equal_logreturn'] = hdf[\"eqweight\"] * hdf[\"fwd_logreturn\"]\n",
    "hdf.head()"
   ]
  },
  {
   "cell_type": "code",
   "execution_count": 222,
   "id": "2ae0e674",
   "metadata": {
    "deletable": false,
    "editable": false
   },
   "outputs": [
    {
     "data": {
      "text/html": [
       "<p><strong><pre style='display: inline;'>q6f</pre></strong> passed! 🚀</p>"
      ],
      "text/plain": [
       "q6f results: All test cases passed!"
      ]
     },
     "execution_count": 222,
     "metadata": {},
     "output_type": "execute_result"
    }
   ],
   "source": [
    "grader.check(\"q6f\")"
   ]
  },
  {
   "cell_type": "markdown",
   "id": "7690bd67",
   "metadata": {},
   "source": [
    "# Evaluating performance"
   ]
  },
  {
   "cell_type": "code",
   "execution_count": 223,
   "id": "966ce1b5",
   "metadata": {},
   "outputs": [
    {
     "data": {
      "text/plain": [
       "<Axes: xlabel='Date'>"
      ]
     },
     "execution_count": 223,
     "metadata": {},
     "output_type": "execute_result"
    },
    {
     "data": {
      "image/png": "[encoded data removed]",
      "text/plain": [
       "<Figure size 640x480 with 1 Axes>"
      ]
     },
     "metadata": {},
     "output_type": "display_data"
    }
   ],
   "source": [
    "hdf.groupby('Date').sum()['strategy_logreturn'].cumsum().plot(legend=True)\n",
    "hdf.groupby('Date').sum()['equal_logreturn'].cumsum().plot(legend=True)"
   ]
  },
  {
   "cell_type": "code",
   "execution_count": 224,
   "id": "c549ef3f",
   "metadata": {
    "tags": []
   },
   "outputs": [
    {
     "name": "stdout",
     "output_type": "stream",
     "text": [
      "final_strategyreturn: -0.046931507156795726\n",
      "final_equalreturn: 0.19573618511585034\n"
     ]
    }
   ],
   "source": [
    "# we can get the final return by getting the last value of the column (values[-1])\n",
    "# and we can translate that to simple returns for readability\n",
    "final_strategyreturn = logtosimple(hdf.groupby('Date').sum()['strategy_logreturn'].cumsum().values[-1])\n",
    "final_equalreturn = logtosimple(hdf.groupby('Date').sum()['equal_logreturn'].cumsum().values[-1])\n",
    "\n",
    "print(f'final_strategyreturn: {final_strategyreturn}')\n",
    "print(f'final_equalreturn: {final_equalreturn}')"
   ]
  },
  {
   "cell_type": "code",
   "execution_count": 225,
   "id": "7f8a60ba",
   "metadata": {
    "deletable": false,
    "editable": false
   },
   "outputs": [
    {
     "data": {
      "text/html": [
       "<p><strong><pre style='display: inline;'>q7a</pre></strong> passed! ✨</p>"
      ],
      "text/plain": [
       "q7a results: All test cases passed!"
      ]
     },
     "execution_count": 225,
     "metadata": {},
     "output_type": "execute_result"
    }
   ],
   "source": [
    "grader.check(\"q7a\")"
   ]
  },
  {
   "cell_type": "markdown",
   "id": "2838f37e-8a5c-4124-9a59-41e53429e59d",
   "metadata": {},
   "source": [
    "---\n",
    "\n",
    "### Evaluating Strategy Performance\n",
    "\n",
    "The equal-weight strategy significantly outperformed our strategy. Given the simplicity of our approach, this outcome is not unexpected. However, the equal-weight strategy also exhibited notable **volatility**. \n",
    "\n",
    "To better account for volatility, we can use the **Sharpe Ratio**. \n",
    "\n",
    "#### Understanding the Sharpe Ratio\n",
    "The Sharpe Ratio measures the **risk-adjusted return** of a strategy and can be thought of as a t-test for the statistical significance of the returns. It is calculated as:  \n",
    "\n",
    "$$ \\text{Sharpe Ratio} = \\frac{\\text{Mean Return} - \\text{Risk-Free Rate}}{\\text{Standard Deviation of Returns}}$$\n",
    "\n",
    "Benerally, any sharpe ratio over 1 is good, 2 is very good, 3+ is very very good. As you see a sharpe ratio > 3, the more likely that the strategy is somehow limited, or you've calculated something wrong\n",
    "\n",
    "#### Important Caveats\n",
    "In this example, the calculated Sharpe Ratios are **not realistic** due to several simplifications. For instance:\n",
    "- **Lookahead Bias**: Restricting the universe to companies currently in the S&P 500 introduces bias, as we are using information unavailable in past periods (e.g., in 2023).\n",
    "\n",
    "There are likely other ways this sample or testing strategy might be limited. Consider exploring additional potential biases or flaws in the approach!\n",
    "\n",
    "--- "
   ]
  },
  {
   "cell_type": "code",
   "execution_count": 226,
   "id": "375a37d4",
   "metadata": {
    "tags": []
   },
   "outputs": [
    {
     "name": "stdout",
     "output_type": "stream",
     "text": [
      "-1.8403958685454378 3.104487368515163\n"
     ]
    }
   ],
   "source": [
    "# let's calculate the sharpe ratio with a function, we'll leave out the risk free rate part of it for now\n",
    "# we also need to normalize the sharpe ratio with respect to a year, by multiplying by the square root of periods our strategy trades in a year\n",
    "# note that there are 252 trading days\n",
    "\n",
    "def sharpe_ratio(mean_ret, std_ret):\n",
    "    return (mean_ret/std_ret) * np.sqrt(252)\n",
    "    \n",
    "strat_sharpe = sharpe_ratio(hdf.groupby('Date').sum()['strategy_logreturn'].mean(), \n",
    "             hdf.groupby('Date').sum()['strategy_logreturn'].std())\n",
    "equal_sharpe = sharpe_ratio(hdf.groupby('Date').sum()['equal_logreturn'].mean(), \n",
    "             hdf.groupby('Date').sum()['equal_logreturn'].std())\n",
    "print(strat_sharpe, equal_sharpe)"
   ]
  },
  {
   "cell_type": "code",
   "execution_count": 227,
   "id": "02dee441",
   "metadata": {
    "deletable": false,
    "editable": false
   },
   "outputs": [
    {
     "data": {
      "text/html": [
       "<p><strong><pre style='display: inline;'>q7c</pre></strong> passed! 🚀</p>"
      ],
      "text/plain": [
       "q7c results: All test cases passed!"
      ]
     },
     "execution_count": 227,
     "metadata": {},
     "output_type": "execute_result"
    }
   ],
   "source": [
    "grader.check(\"q7c\")"
   ]
  },
  {
   "cell_type": "markdown",
   "id": "fa597f92-fea5-4ecb-8063-cadb7d095f60",
   "metadata": {},
   "source": [
    "---\n",
    "\n",
    "### Observations on Strategy Performance\n",
    "\n",
    "Interestingly, the equal-weight strategy showed a very high Sharpe Ratio. This is likely due to the period from October 2023 to March 2024 being particularly bullish. You can verify this by checking the S&P 500 returns during that time.\n",
    "\n",
    "To minimize the impact of such market-specific idiosyncrasies, it is generally better to backtest over a longer time horizon, such as a year or more. This helps reduce variance and provides a more robust evaluation of the strategy.\n",
    "\n",
    "--- "
   ]
  },
  {
   "cell_type": "markdown",
   "id": "d4da9a4c",
   "metadata": {},
   "source": [
    "# That's it for sp25!\n",
    "This is all we recommend you complete this semester.\n",
    "If you're interested, you may keep doing the next cells. However, because the yfinance data changed, the test cases below will fail, so please ignore them. Again, the below is all optional."
   ]
  },
  {
   "cell_type": "markdown",
   "id": "1c998c9b",
   "metadata": {},
   "source": [
    "# accounting for fees"
   ]
  },
  {
   "cell_type": "code",
   "execution_count": 228,
   "id": "ec900333",
   "metadata": {},
   "outputs": [],
   "source": [
    "# this is without fees so it is clearly way too good\n",
    "# let's add a fee for each trade, and expected slippage per trade\n",
    "# the fee is what we would pay to the broker, and the expected slippage is likely a function of our position size\n",
    "# we'll combine these into one value, and just observe how our strategy decays as a function of cost\n",
    "\n",
    "# let's define a percentage fee per trade (e.g., 0.02%)\n",
    "fee = 0.0002"
   ]
  },
  {
   "cell_type": "code",
   "execution_count": 229,
   "id": "69a493af",
   "metadata": {
    "tags": []
   },
   "outputs": [
    {
     "data": {
      "text/html": [
       "<div>\n",
       "<style scoped>\n",
       "    .dataframe tbody tr th:only-of-type {\n",
       "        vertical-align: middle;\n",
       "    }\n",
       "\n",
       "    .dataframe tbody tr th {\n",
       "        vertical-align: top;\n",
       "    }\n",
       "\n",
       "    .dataframe thead th {\n",
       "        text-align: right;\n",
       "    }\n",
       "</style>\n",
       "<table border=\"1\" class=\"dataframe\">\n",
       "  <thead>\n",
       "    <tr style=\"text-align: right;\">\n",
       "      <th>Price</th>\n",
       "      <th>Date</th>\n",
       "      <th>Ticker</th>\n",
       "      <th>Adj Close</th>\n",
       "      <th>Volume</th>\n",
       "      <th>returns</th>\n",
       "      <th>logreturns</th>\n",
       "      <th>fwd_logreturn</th>\n",
       "      <th>logreturn_rank</th>\n",
       "      <th>demeaned_logreturn</th>\n",
       "      <th>demeaned_fwd_logreturn</th>\n",
       "      <th>...</th>\n",
       "      <th>long/short</th>\n",
       "      <th>absposition</th>\n",
       "      <th>numpositions</th>\n",
       "      <th>weight</th>\n",
       "      <th>strategy_logreturn</th>\n",
       "      <th>eqweight</th>\n",
       "      <th>equal_logreturn</th>\n",
       "      <th>prevweight</th>\n",
       "      <th>strategy_weightchange</th>\n",
       "      <th>strategy_fees</th>\n",
       "    </tr>\n",
       "  </thead>\n",
       "  <tbody>\n",
       "    <tr>\n",
       "      <th>497</th>\n",
       "      <td>2023-10-05</td>\n",
       "      <td>A</td>\n",
       "      <td>109.606766</td>\n",
       "      <td>1295700.0</td>\n",
       "      <td>-0.011821</td>\n",
       "      <td>-0.011891</td>\n",
       "      <td>0.002625</td>\n",
       "      <td>392.0</td>\n",
       "      <td>-0.008552</td>\n",
       "      <td>-0.005998</td>\n",
       "      <td>...</td>\n",
       "      <td>0</td>\n",
       "      <td>0</td>\n",
       "      <td>200</td>\n",
       "      <td>0.000</td>\n",
       "      <td>0.000000</td>\n",
       "      <td>0.002012</td>\n",
       "      <td>0.000005</td>\n",
       "      <td>NaN</td>\n",
       "      <td>NaN</td>\n",
       "      <td>NaN</td>\n",
       "    </tr>\n",
       "    <tr>\n",
       "      <th>994</th>\n",
       "      <td>2023-10-06</td>\n",
       "      <td>A</td>\n",
       "      <td>109.894814</td>\n",
       "      <td>1796100.0</td>\n",
       "      <td>0.002628</td>\n",
       "      <td>0.002625</td>\n",
       "      <td>0.005768</td>\n",
       "      <td>367.0</td>\n",
       "      <td>-0.005998</td>\n",
       "      <td>-0.001795</td>\n",
       "      <td>...</td>\n",
       "      <td>0</td>\n",
       "      <td>0</td>\n",
       "      <td>200</td>\n",
       "      <td>0.000</td>\n",
       "      <td>0.000000</td>\n",
       "      <td>0.002012</td>\n",
       "      <td>0.000012</td>\n",
       "      <td>0.000</td>\n",
       "      <td>0.000</td>\n",
       "      <td>0.000000</td>\n",
       "    </tr>\n",
       "    <tr>\n",
       "      <th>1491</th>\n",
       "      <td>2023-10-09</td>\n",
       "      <td>A</td>\n",
       "      <td>110.530510</td>\n",
       "      <td>1320300.0</td>\n",
       "      <td>0.005785</td>\n",
       "      <td>0.005768</td>\n",
       "      <td>0.017901</td>\n",
       "      <td>258.0</td>\n",
       "      <td>-0.001795</td>\n",
       "      <td>0.010052</td>\n",
       "      <td>...</td>\n",
       "      <td>0</td>\n",
       "      <td>0</td>\n",
       "      <td>200</td>\n",
       "      <td>0.000</td>\n",
       "      <td>0.000000</td>\n",
       "      <td>0.002012</td>\n",
       "      <td>0.000036</td>\n",
       "      <td>0.000</td>\n",
       "      <td>0.000</td>\n",
       "      <td>0.000000</td>\n",
       "    </tr>\n",
       "    <tr>\n",
       "      <th>1988</th>\n",
       "      <td>2023-10-10</td>\n",
       "      <td>A</td>\n",
       "      <td>112.526970</td>\n",
       "      <td>2183000.0</td>\n",
       "      <td>0.018063</td>\n",
       "      <td>0.017901</td>\n",
       "      <td>0.000794</td>\n",
       "      <td>77.0</td>\n",
       "      <td>0.010052</td>\n",
       "      <td>-0.001212</td>\n",
       "      <td>...</td>\n",
       "      <td>1</td>\n",
       "      <td>1</td>\n",
       "      <td>200</td>\n",
       "      <td>0.005</td>\n",
       "      <td>0.000004</td>\n",
       "      <td>0.002012</td>\n",
       "      <td>0.000002</td>\n",
       "      <td>0.000</td>\n",
       "      <td>0.005</td>\n",
       "      <td>0.000001</td>\n",
       "    </tr>\n",
       "    <tr>\n",
       "      <th>2485</th>\n",
       "      <td>2023-10-11</td>\n",
       "      <td>A</td>\n",
       "      <td>112.616356</td>\n",
       "      <td>1381500.0</td>\n",
       "      <td>0.000794</td>\n",
       "      <td>0.000794</td>\n",
       "      <td>-0.039948</td>\n",
       "      <td>296.0</td>\n",
       "      <td>-0.001212</td>\n",
       "      <td>-0.026702</td>\n",
       "      <td>...</td>\n",
       "      <td>0</td>\n",
       "      <td>0</td>\n",
       "      <td>200</td>\n",
       "      <td>0.000</td>\n",
       "      <td>-0.000000</td>\n",
       "      <td>0.002012</td>\n",
       "      <td>-0.000080</td>\n",
       "      <td>0.005</td>\n",
       "      <td>-0.005</td>\n",
       "      <td>0.000001</td>\n",
       "    </tr>\n",
       "  </tbody>\n",
       "</table>\n",
       "<p>5 rows × 21 columns</p>\n",
       "</div>"
      ],
      "text/plain": [
       "Price       Date Ticker   Adj Close     Volume   returns  logreturns  \\\n",
       "497   2023-10-05      A  109.606766  1295700.0 -0.011821   -0.011891   \n",
       "994   2023-10-06      A  109.894814  1796100.0  0.002628    0.002625   \n",
       "1491  2023-10-09      A  110.530510  1320300.0  0.005785    0.005768   \n",
       "1988  2023-10-10      A  112.526970  2183000.0  0.018063    0.017901   \n",
       "2485  2023-10-11      A  112.616356  1381500.0  0.000794    0.000794   \n",
       "\n",
       "Price  fwd_logreturn  logreturn_rank  demeaned_logreturn  \\\n",
       "497         0.002625           392.0           -0.008552   \n",
       "994         0.005768           367.0           -0.005998   \n",
       "1491        0.017901           258.0           -0.001795   \n",
       "1988        0.000794            77.0            0.010052   \n",
       "2485       -0.039948           296.0           -0.001212   \n",
       "\n",
       "Price  demeaned_fwd_logreturn  ...  long/short  absposition  numpositions  \\\n",
       "497                 -0.005998  ...           0            0           200   \n",
       "994                 -0.001795  ...           0            0           200   \n",
       "1491                 0.010052  ...           0            0           200   \n",
       "1988                -0.001212  ...           1            1           200   \n",
       "2485                -0.026702  ...           0            0           200   \n",
       "\n",
       "Price  weight  strategy_logreturn  eqweight  equal_logreturn  prevweight  \\\n",
       "497     0.000            0.000000  0.002012         0.000005         NaN   \n",
       "994     0.000            0.000000  0.002012         0.000012       0.000   \n",
       "1491    0.000            0.000000  0.002012         0.000036       0.000   \n",
       "1988    0.005            0.000004  0.002012         0.000002       0.000   \n",
       "2485    0.000           -0.000000  0.002012        -0.000080       0.005   \n",
       "\n",
       "Price  strategy_weightchange  strategy_fees  \n",
       "497                      NaN            NaN  \n",
       "994                    0.000       0.000000  \n",
       "1491                   0.000       0.000000  \n",
       "1988                   0.005       0.000001  \n",
       "2485                  -0.005       0.000001  \n",
       "\n",
       "[5 rows x 21 columns]"
      ]
     },
     "execution_count": 229,
     "metadata": {},
     "output_type": "execute_result"
    }
   ],
   "source": [
    "# in order to see how large our trade would be, we have to find the difference between our previous and current position size\n",
    "# we should sort values by symbol, then by the date\n",
    "hdf = hdf.sort_values(by=[\"Ticker\", \"Date\"]) # order matters!\n",
    "\n",
    "# we'll groupby symbol, and then get the previous weight by using .shift(1) to shift the weights down\n",
    "hdf['prevweight'] = hdf.groupby('Ticker')['weight'].shift(1)\n",
    "\n",
    "# next, we'll get the strategy's weight change by taking the difference between weight and prevweight\n",
    "hdf['strategy_weightchange'] = hdf[\"weight\"] - hdf[\"prevweight\"]\n",
    "\n",
    "# finally, to calculate fees, we'll need to multiply the fee by our absolute change in position\n",
    "hdf['strategy_fees'] = abs(hdf['strategy_weightchange']) * fee\n",
    "hdf.head()"
   ]
  },
  {
   "cell_type": "code",
   "execution_count": 230,
   "id": "ce3508b4",
   "metadata": {
    "deletable": false,
    "editable": false
   },
   "outputs": [
    {
     "data": {
      "text/html": [
       "<p><strong><pre style='display: inline;'>q8a</pre></strong> passed! 🙌</p>"
      ],
      "text/plain": [
       "q8a results: All test cases passed!"
      ]
     },
     "execution_count": 230,
     "metadata": {},
     "output_type": "execute_result"
    }
   ],
   "source": [
    "grader.check(\"q8a\")"
   ]
  },
  {
   "cell_type": "code",
   "execution_count": 231,
   "id": "3c976ceb",
   "metadata": {
    "tags": []
   },
   "outputs": [
    {
     "data": {
      "text/plain": [
       "<Axes: xlabel='Date'>"
      ]
     },
     "execution_count": 231,
     "metadata": {},
     "output_type": "execute_result"
    },
    {
     "data": {
      "image/png": "[encoded data removed]",
      "text/plain": [
       "<Figure size 640x480 with 1 Axes>"
      ]
     },
     "metadata": {},
     "output_type": "display_data"
    }
   ],
   "source": [
    "# now we'll calculate the strategy log return after fees by subtracting the groupby fees from the groupby logreturn\n",
    "hdf['strategy_postfees'] = hdf[\"strategy_logreturn\"] - hdf[\"strategy_fees\"]\n",
    "strategy_postfees_seriestoplot = hdf.groupby(\"Date\")[\"strategy_postfees\"].sum()\n",
    "strategy_postfees_seriestoplot.plot()"
   ]
  },
  {
   "cell_type": "code",
   "execution_count": 232,
   "id": "7e314861",
   "metadata": {
    "deletable": false,
    "editable": false
   },
   "outputs": [
    {
     "data": {
      "text/html": [
       "<p><strong><pre style='display: inline;'>q8b</pre></strong> passed! 💯</p>"
      ],
      "text/plain": [
       "q8b results: All test cases passed!"
      ]
     },
     "execution_count": 232,
     "metadata": {},
     "output_type": "execute_result"
    }
   ],
   "source": [
    "grader.check(\"q8b\")"
   ]
  },
  {
   "cell_type": "code",
   "execution_count": 233,
   "id": "d8162cd4",
   "metadata": {
    "tags": []
   },
   "outputs": [
    {
     "data": {
      "text/plain": [
       "np.float64(-3.261402456852923)"
      ]
     },
     "execution_count": 233,
     "metadata": {},
     "output_type": "execute_result"
    }
   ],
   "source": [
    "# and we'll test the sharpe and logreturn as above\n",
    "fees_sharpe = sharpe_ratio(hdf.groupby('Date').sum()['strategy_postfees'].mean(), hdf.groupby('Date').sum()['strategy_postfees'].std())\n",
    "fees_sharpe"
   ]
  },
  {
   "cell_type": "code",
   "execution_count": 234,
   "id": "6969901c",
   "metadata": {
    "deletable": false,
    "editable": false
   },
   "outputs": [
    {
     "data": {
      "text/html": [
       "<p><strong><pre style='display: inline;'>q8c</pre></strong> passed! 🌈</p>"
      ],
      "text/plain": [
       "q8c results: All test cases passed!"
      ]
     },
     "execution_count": 234,
     "metadata": {},
     "output_type": "execute_result"
    }
   ],
   "source": [
    "grader.check(\"q8c\")"
   ]
  },
  {
   "cell_type": "code",
   "execution_count": 235,
   "id": "419cdfba",
   "metadata": {},
   "outputs": [],
   "source": [
    "# note that the equal weight buy and hold does not change with fees, as it never changes position"
   ]
  },
  {
   "cell_type": "markdown",
   "id": "30c952ef",
   "metadata": {},
   "source": [
    "# expected returns"
   ]
  },
  {
   "cell_type": "code",
   "execution_count": 236,
   "id": "620a0c62",
   "metadata": {},
   "outputs": [],
   "source": [
    "# now that we have a very basic long/short strategy, we should try to improve upon it\n",
    "\n",
    "# our strategy roughly was equally long and short the market - regardless of how strongly something moved\n",
    "# even if all of the longs were very high return, the strategy didn't care\n",
    "# it also didn't care if it was 10th or 20th decile: we gave the same weight regardless\n",
    "# we might expect that there's a way to improve upon this\n",
    "\n",
    "# one way of doing this is trying to calculate an 'expected return' for each asset\n",
    "# this allows us to weight our positions based on how good we think they are"
   ]
  },
  {
   "cell_type": "code",
   "execution_count": 237,
   "id": "6b956b41",
   "metadata": {},
   "outputs": [],
   "source": [
    "# how might we make an expected returns model? \n",
    "# we'll likely want to fit to some historical data, and see how that strategy performs on data after that\n",
    "\n",
    "# to avoid our model just learning the optimal answer for our entire dataset\n",
    "# we'll train the model on the first 80% of our data\n",
    "# and see how it performs on the remaining 20%"
   ]
  },
  {
   "cell_type": "code",
   "execution_count": 238,
   "id": "4ffb9fb4",
   "metadata": {
    "tags": []
   },
   "outputs": [],
   "source": [
    "# split the data into training and testing using .iloc\n",
    "train_percent = 0.8 # use 80% as a decimal\n",
    "# make sure to split according to time series!\n",
    "\n",
    "hdf = hdf.sort_values([\"Date\", \"Ticker\"]) # order matters! we need to split by time first, then asset\n",
    "\n",
    "# we can only use integer indices, so make sure to cast the value to an integer\n",
    "splitrow = round(hdf.shape[0] * train_percent)\n",
    "training = hdf.iloc[:splitrow]\n",
    "testing = hdf.iloc[splitrow:]"
   ]
  },
  {
   "cell_type": "code",
   "execution_count": 239,
   "id": "d57b5106",
   "metadata": {
    "deletable": false,
    "editable": false
   },
   "outputs": [
    {
     "data": {
      "text/html": [
       "<p><strong style='color: red;'><pre style='display: inline;'>q9a</pre> results:</strong></p><p><strong><pre style='display: inline;'>q9a - 1</pre> result:</strong></p><pre>    ❌ Test case failed\n",
       "    Trying:\n",
       "        assert training.shape == (45508, 22)\n",
       "    Expecting nothing\n",
       "    **********************************************************************\n",
       "    Line 1, in q9a 0\n",
       "    Failed example:\n",
       "        assert training.shape == (45508, 22)\n",
       "    Exception raised:\n",
       "        Traceback (most recent call last):\n",
       "          File \"/srv/conda/lib/python3.11/doctest.py\", line 1355, in __run\n",
       "            exec(compile(example.source, filename, \"single\",\n",
       "          File \"<doctest q9a 0[0]>\", line 1, in <module>\n",
       "            assert training.shape == (45508, 22)\n",
       "                   ^^^^^^^^^^^^^^^^^^^^^^^^^^^^^\n",
       "        AssertionError\n",
       "</pre>"
      ],
      "text/plain": [
       "q9a results:\n",
       "    q9a - 1 result:\n",
       "        ❌ Test case failed\n",
       "        Trying:\n",
       "            assert training.shape == (45508, 22)\n",
       "        Expecting nothing\n",
       "        **********************************************************************\n",
       "        Line 1, in q9a 0\n",
       "        Failed example:\n",
       "            assert training.shape == (45508, 22)\n",
       "        Exception raised:\n",
       "            Traceback (most recent call last):\n",
       "              File \"/srv/conda/lib/python3.11/doctest.py\", line 1355, in __run\n",
       "                exec(compile(example.source, filename, \"single\",\n",
       "              File \"<doctest q9a 0[0]>\", line 1, in <module>\n",
       "                assert training.shape == (45508, 22)\n",
       "                       ^^^^^^^^^^^^^^^^^^^^^^^^^^^^^\n",
       "            AssertionError"
      ]
     },
     "execution_count": 239,
     "metadata": {},
     "output_type": "execute_result"
    }
   ],
   "source": [
    "grader.check(\"q9a\")"
   ]
  },
  {
   "cell_type": "code",
   "execution_count": 240,
   "id": "6604c6c0",
   "metadata": {},
   "outputs": [],
   "source": [
    "# a very common basic model is a linear regression: fitting a line to points of data\n",
    "# given some x variable, we try to solve for the optimal y = mx + b, \n",
    "# we do this by minimizing the squared sum of differences of our line to each data point\n",
    "# luckily there are libraries that do this for us"
   ]
  },
  {
   "cell_type": "code",
   "execution_count": 241,
   "id": "105d7aab",
   "metadata": {},
   "outputs": [
    {
     "data": {
      "text/html": [
       "<div>\n",
       "<style scoped>\n",
       "    .dataframe tbody tr th:only-of-type {\n",
       "        vertical-align: middle;\n",
       "    }\n",
       "\n",
       "    .dataframe tbody tr th {\n",
       "        vertical-align: top;\n",
       "    }\n",
       "\n",
       "    .dataframe thead th {\n",
       "        text-align: right;\n",
       "    }\n",
       "</style>\n",
       "<table border=\"1\" class=\"dataframe\">\n",
       "  <thead>\n",
       "    <tr style=\"text-align: right;\">\n",
       "      <th>Price</th>\n",
       "      <th>Date</th>\n",
       "      <th>Ticker</th>\n",
       "      <th>Adj Close</th>\n",
       "      <th>Volume</th>\n",
       "      <th>returns</th>\n",
       "      <th>logreturns</th>\n",
       "      <th>fwd_logreturn</th>\n",
       "      <th>logreturn_rank</th>\n",
       "      <th>demeaned_logreturn</th>\n",
       "      <th>demeaned_fwd_logreturn</th>\n",
       "      <th>...</th>\n",
       "      <th>absposition</th>\n",
       "      <th>numpositions</th>\n",
       "      <th>weight</th>\n",
       "      <th>strategy_logreturn</th>\n",
       "      <th>eqweight</th>\n",
       "      <th>equal_logreturn</th>\n",
       "      <th>prevweight</th>\n",
       "      <th>strategy_weightchange</th>\n",
       "      <th>strategy_fees</th>\n",
       "      <th>strategy_postfees</th>\n",
       "    </tr>\n",
       "  </thead>\n",
       "  <tbody>\n",
       "    <tr>\n",
       "      <th>497</th>\n",
       "      <td>2023-10-05</td>\n",
       "      <td>A</td>\n",
       "      <td>109.606766</td>\n",
       "      <td>1295700.0</td>\n",
       "      <td>-0.011821</td>\n",
       "      <td>-0.011891</td>\n",
       "      <td>0.002625</td>\n",
       "      <td>392.0</td>\n",
       "      <td>-0.008552</td>\n",
       "      <td>-0.005998</td>\n",
       "      <td>...</td>\n",
       "      <td>0</td>\n",
       "      <td>200</td>\n",
       "      <td>0.000</td>\n",
       "      <td>0.000000</td>\n",
       "      <td>0.002012</td>\n",
       "      <td>0.000005</td>\n",
       "      <td>NaN</td>\n",
       "      <td>NaN</td>\n",
       "      <td>NaN</td>\n",
       "      <td>NaN</td>\n",
       "    </tr>\n",
       "    <tr>\n",
       "      <th>498</th>\n",
       "      <td>2023-10-05</td>\n",
       "      <td>AAL</td>\n",
       "      <td>12.850000</td>\n",
       "      <td>36272900.0</td>\n",
       "      <td>0.009427</td>\n",
       "      <td>0.009382</td>\n",
       "      <td>-0.007029</td>\n",
       "      <td>71.0</td>\n",
       "      <td>0.012721</td>\n",
       "      <td>-0.015651</td>\n",
       "      <td>...</td>\n",
       "      <td>1</td>\n",
       "      <td>200</td>\n",
       "      <td>0.005</td>\n",
       "      <td>-0.000035</td>\n",
       "      <td>0.002012</td>\n",
       "      <td>-0.000014</td>\n",
       "      <td>NaN</td>\n",
       "      <td>NaN</td>\n",
       "      <td>NaN</td>\n",
       "      <td>NaN</td>\n",
       "    </tr>\n",
       "    <tr>\n",
       "      <th>499</th>\n",
       "      <td>2023-10-05</td>\n",
       "      <td>AAPL</td>\n",
       "      <td>173.828293</td>\n",
       "      <td>48527900.0</td>\n",
       "      <td>0.007198</td>\n",
       "      <td>0.007172</td>\n",
       "      <td>0.014643</td>\n",
       "      <td>99.0</td>\n",
       "      <td>0.010511</td>\n",
       "      <td>0.006020</td>\n",
       "      <td>...</td>\n",
       "      <td>1</td>\n",
       "      <td>200</td>\n",
       "      <td>0.005</td>\n",
       "      <td>0.000073</td>\n",
       "      <td>0.002012</td>\n",
       "      <td>0.000029</td>\n",
       "      <td>NaN</td>\n",
       "      <td>NaN</td>\n",
       "      <td>NaN</td>\n",
       "      <td>NaN</td>\n",
       "    </tr>\n",
       "    <tr>\n",
       "      <th>500</th>\n",
       "      <td>2023-10-05</td>\n",
       "      <td>ABBV</td>\n",
       "      <td>140.840302</td>\n",
       "      <td>3599500.0</td>\n",
       "      <td>-0.001625</td>\n",
       "      <td>-0.001626</td>\n",
       "      <td>0.005343</td>\n",
       "      <td>242.0</td>\n",
       "      <td>0.001712</td>\n",
       "      <td>-0.003279</td>\n",
       "      <td>...</td>\n",
       "      <td>0</td>\n",
       "      <td>200</td>\n",
       "      <td>0.000</td>\n",
       "      <td>0.000000</td>\n",
       "      <td>0.002012</td>\n",
       "      <td>0.000011</td>\n",
       "      <td>NaN</td>\n",
       "      <td>NaN</td>\n",
       "      <td>NaN</td>\n",
       "      <td>NaN</td>\n",
       "    </tr>\n",
       "    <tr>\n",
       "      <th>501</th>\n",
       "      <td>2023-10-05</td>\n",
       "      <td>ABNB</td>\n",
       "      <td>124.989998</td>\n",
       "      <td>7630200.0</td>\n",
       "      <td>-0.018994</td>\n",
       "      <td>-0.019177</td>\n",
       "      <td>0.010901</td>\n",
       "      <td>443.0</td>\n",
       "      <td>-0.015838</td>\n",
       "      <td>0.002279</td>\n",
       "      <td>...</td>\n",
       "      <td>1</td>\n",
       "      <td>200</td>\n",
       "      <td>-0.005</td>\n",
       "      <td>-0.000055</td>\n",
       "      <td>0.002012</td>\n",
       "      <td>0.000022</td>\n",
       "      <td>NaN</td>\n",
       "      <td>NaN</td>\n",
       "      <td>NaN</td>\n",
       "      <td>NaN</td>\n",
       "    </tr>\n",
       "  </tbody>\n",
       "</table>\n",
       "<p>5 rows × 22 columns</p>\n",
       "</div>"
      ],
      "text/plain": [
       "Price       Date Ticker   Adj Close      Volume   returns  logreturns  \\\n",
       "497   2023-10-05      A  109.606766   1295700.0 -0.011821   -0.011891   \n",
       "498   2023-10-05    AAL   12.850000  36272900.0  0.009427    0.009382   \n",
       "499   2023-10-05   AAPL  173.828293  48527900.0  0.007198    0.007172   \n",
       "500   2023-10-05   ABBV  140.840302   3599500.0 -0.001625   -0.001626   \n",
       "501   2023-10-05   ABNB  124.989998   7630200.0 -0.018994   -0.019177   \n",
       "\n",
       "Price  fwd_logreturn  logreturn_rank  demeaned_logreturn  \\\n",
       "497         0.002625           392.0           -0.008552   \n",
       "498        -0.007029            71.0            0.012721   \n",
       "499         0.014643            99.0            0.010511   \n",
       "500         0.005343           242.0            0.001712   \n",
       "501         0.010901           443.0           -0.015838   \n",
       "\n",
       "Price  demeaned_fwd_logreturn  ...  absposition  numpositions  weight  \\\n",
       "497                 -0.005998  ...            0           200   0.000   \n",
       "498                 -0.015651  ...            1           200   0.005   \n",
       "499                  0.006020  ...            1           200   0.005   \n",
       "500                 -0.003279  ...            0           200   0.000   \n",
       "501                  0.002279  ...            1           200  -0.005   \n",
       "\n",
       "Price  strategy_logreturn  eqweight  equal_logreturn  prevweight  \\\n",
       "497              0.000000  0.002012         0.000005         NaN   \n",
       "498             -0.000035  0.002012        -0.000014         NaN   \n",
       "499              0.000073  0.002012         0.000029         NaN   \n",
       "500              0.000000  0.002012         0.000011         NaN   \n",
       "501             -0.000055  0.002012         0.000022         NaN   \n",
       "\n",
       "Price  strategy_weightchange  strategy_fees  strategy_postfees  \n",
       "497                      NaN            NaN                NaN  \n",
       "498                      NaN            NaN                NaN  \n",
       "499                      NaN            NaN                NaN  \n",
       "500                      NaN            NaN                NaN  \n",
       "501                      NaN            NaN                NaN  \n",
       "\n",
       "[5 rows x 22 columns]"
      ]
     },
     "execution_count": 241,
     "metadata": {},
     "output_type": "execute_result"
    }
   ],
   "source": [
    "# to run a linear regression on our training data, we need a data matrix X of features\n",
    "# and a target y to fit to \n",
    "# in our case, our target is forward log return\n",
    "# and our data matrix X is the current log returns\n",
    "# let's run the regression using statsmodels\n",
    "hdf.head()"
   ]
  },
  {
   "cell_type": "code",
   "execution_count": 242,
   "id": "ae37b23b",
   "metadata": {
    "tags": []
   },
   "outputs": [
    {
     "name": "stdout",
     "output_type": "stream",
     "text": [
      "const         0.001557\n",
      "logreturns    0.009839\n",
      "dtype: float64\n"
     ]
    }
   ],
   "source": [
    "feature = [\"logreturns\"]\n",
    "target = [\"fwd_logreturn\"]\n",
    "\n",
    "# we add a constant to data matrix Xin order to get an intercept term, otherwise we would be fitting y = mx\n",
    "X = training[feature]\n",
    "X = sm.add_constant(X)\n",
    "\n",
    "y = training[target]\n",
    "\n",
    "model = sm.OLS(y, X).fit()\n",
    "print(model.params)"
   ]
  },
  {
   "cell_type": "code",
   "execution_count": 243,
   "id": "6ece38c4",
   "metadata": {
    "deletable": false,
    "editable": false
   },
   "outputs": [
    {
     "data": {
      "text/html": [
       "<p><strong style='color: red;'><pre style='display: inline;'>q9b</pre> results:</strong></p><p><strong><pre style='display: inline;'>q9b - 1</pre> result:</strong></p><pre>    ❌ Test case failed\n",
       "    Trying:\n",
       "        model.rsquared\n",
       "    Expecting:\n",
       "        0.05403784673350487\n",
       "    **********************************************************************\n",
       "    Line 1, in q9b 0\n",
       "    Failed example:\n",
       "        model.rsquared\n",
       "    Expected:\n",
       "        0.05403784673350487\n",
       "    Got:\n",
       "        np.float64(9.628299648500871e-05)\n",
       "</pre><p><strong><pre style='display: inline;'>q9b - 2</pre> result:</strong></p><pre>    ❌ Test case failed\n",
       "    Trying:\n",
       "        assert isclose(model.rsquared, 0.05333756613777707)\n",
       "    Expecting nothing\n",
       "    **********************************************************************\n",
       "    Line 1, in q9b 1\n",
       "    Failed example:\n",
       "        assert isclose(model.rsquared, 0.05333756613777707)\n",
       "    Exception raised:\n",
       "        Traceback (most recent call last):\n",
       "          File \"/srv/conda/lib/python3.11/doctest.py\", line 1355, in __run\n",
       "            exec(compile(example.source, filename, \"single\",\n",
       "          File \"<doctest q9b 1[0]>\", line 1, in <module>\n",
       "            assert isclose(model.rsquared, 0.05333756613777707)\n",
       "                   ^^^^^^^^^^^^^^^^^^^^^^^^^^^^^^^^^^^^^^^^^^^^\n",
       "        AssertionError\n",
       "</pre>"
      ],
      "text/plain": [
       "q9b results:\n",
       "    q9b - 1 result:\n",
       "        ❌ Test case failed\n",
       "        Trying:\n",
       "            model.rsquared\n",
       "        Expecting:\n",
       "            0.05403784673350487\n",
       "        **********************************************************************\n",
       "        Line 1, in q9b 0\n",
       "        Failed example:\n",
       "            model.rsquared\n",
       "        Expected:\n",
       "            0.05403784673350487\n",
       "        Got:\n",
       "            np.float64(9.628299648500871e-05)\n",
       "\n",
       "    q9b - 2 result:\n",
       "        ❌ Test case failed\n",
       "        Trying:\n",
       "            assert isclose(model.rsquared, 0.05333756613777707)\n",
       "        Expecting nothing\n",
       "        **********************************************************************\n",
       "        Line 1, in q9b 1\n",
       "        Failed example:\n",
       "            assert isclose(model.rsquared, 0.05333756613777707)\n",
       "        Exception raised:\n",
       "            Traceback (most recent call last):\n",
       "              File \"/srv/conda/lib/python3.11/doctest.py\", line 1355, in __run\n",
       "                exec(compile(example.source, filename, \"single\",\n",
       "              File \"<doctest q9b 1[0]>\", line 1, in <module>\n",
       "                assert isclose(model.rsquared, 0.05333756613777707)\n",
       "                       ^^^^^^^^^^^^^^^^^^^^^^^^^^^^^^^^^^^^^^^^^^^^\n",
       "            AssertionError"
      ]
     },
     "execution_count": 243,
     "metadata": {},
     "output_type": "execute_result"
    }
   ],
   "source": [
    "grader.check(\"q9b\")"
   ]
  },
  {
   "cell_type": "code",
   "execution_count": 244,
   "id": "c17d40d2",
   "metadata": {
    "tags": []
   },
   "outputs": [
    {
     "data": {
      "text/plain": [
       "[<matplotlib.lines.Line2D at 0x79250fbf7790>]"
      ]
     },
     "execution_count": 244,
     "metadata": {},
     "output_type": "execute_result"
    },
    {
     "data": {
      "image/png": "[encoded data removed]",
      "text/plain": [
       "<Figure size 640x480 with 1 Axes>"
      ]
     },
     "metadata": {},
     "output_type": "display_data"
    }
   ],
   "source": [
    "# now we can plot our linear regression\n",
    "\n",
    "m = model.params[\"const\"]\n",
    "b = model.params[\"logreturns\"]\n",
    "\n",
    "# Create a scatter plot\n",
    "plt.scatter(training[feature], y, color='blue', label='Data')\n",
    "\n",
    "# Plot the linear regression line\n",
    "plt.plot(training[feature], m * training[feature] + b, color='red', label='linear regression')"
   ]
  },
  {
   "cell_type": "code",
   "execution_count": 245,
   "id": "6ef023de",
   "metadata": {
    "deletable": false,
    "editable": false
   },
   "outputs": [
    {
     "data": {
      "text/html": [
       "<p><strong style='color: red;'><pre style='display: inline;'>q9c</pre> results:</strong></p><p><strong><pre style='display: inline;'>q9c - 1</pre> result:</strong></p><pre>    ❌ Test case failed\n",
       "    Trying:\n",
       "        assert isclose(model.params['logreturns'], 0.2324590858601042)\n",
       "    Expecting nothing\n",
       "    **********************************************************************\n",
       "    Line 1, in q9c 0\n",
       "    Failed example:\n",
       "        assert isclose(model.params['logreturns'], 0.2324590858601042)\n",
       "    Exception raised:\n",
       "        Traceback (most recent call last):\n",
       "          File \"/srv/conda/lib/python3.11/doctest.py\", line 1355, in __run\n",
       "            exec(compile(example.source, filename, \"single\",\n",
       "          File \"<doctest q9c 0[0]>\", line 1, in <module>\n",
       "            assert isclose(model.params['logreturns'], 0.2324590858601042)\n",
       "                   ^^^^^^^^^^^^^^^^^^^^^^^^^^^^^^^^^^^^^^^^^^^^^^^^^^^^^^^\n",
       "        AssertionError\n",
       "</pre><p><strong><pre style='display: inline;'>q9c - 2</pre> result:</strong></p><pre>    ❌ Test case failed\n",
       "    Trying:\n",
       "        assert isclose(model.params['const'], 0.0011427008449693891)\n",
       "    Expecting nothing\n",
       "    **********************************************************************\n",
       "    Line 1, in q9c 1\n",
       "    Failed example:\n",
       "        assert isclose(model.params['const'], 0.0011427008449693891)\n",
       "    Exception raised:\n",
       "        Traceback (most recent call last):\n",
       "          File \"/srv/conda/lib/python3.11/doctest.py\", line 1355, in __run\n",
       "            exec(compile(example.source, filename, \"single\",\n",
       "          File \"<doctest q9c 1[0]>\", line 1, in <module>\n",
       "            assert isclose(model.params['const'], 0.0011427008449693891)\n",
       "                   ^^^^^^^^^^^^^^^^^^^^^^^^^^^^^^^^^^^^^^^^^^^^^^^^^^^^^\n",
       "        AssertionError\n",
       "</pre>"
      ],
      "text/plain": [
       "q9c results:\n",
       "    q9c - 1 result:\n",
       "        ❌ Test case failed\n",
       "        Trying:\n",
       "            assert isclose(model.params['logreturns'], 0.2324590858601042)\n",
       "        Expecting nothing\n",
       "        **********************************************************************\n",
       "        Line 1, in q9c 0\n",
       "        Failed example:\n",
       "            assert isclose(model.params['logreturns'], 0.2324590858601042)\n",
       "        Exception raised:\n",
       "            Traceback (most recent call last):\n",
       "              File \"/srv/conda/lib/python3.11/doctest.py\", line 1355, in __run\n",
       "                exec(compile(example.source, filename, \"single\",\n",
       "              File \"<doctest q9c 0[0]>\", line 1, in <module>\n",
       "                assert isclose(model.params['logreturns'], 0.2324590858601042)\n",
       "                       ^^^^^^^^^^^^^^^^^^^^^^^^^^^^^^^^^^^^^^^^^^^^^^^^^^^^^^^\n",
       "            AssertionError\n",
       "\n",
       "    q9c - 2 result:\n",
       "        ❌ Test case failed\n",
       "        Trying:\n",
       "            assert isclose(model.params['const'], 0.0011427008449693891)\n",
       "        Expecting nothing\n",
       "        **********************************************************************\n",
       "        Line 1, in q9c 1\n",
       "        Failed example:\n",
       "            assert isclose(model.params['const'], 0.0011427008449693891)\n",
       "        Exception raised:\n",
       "            Traceback (most recent call last):\n",
       "              File \"/srv/conda/lib/python3.11/doctest.py\", line 1355, in __run\n",
       "                exec(compile(example.source, filename, \"single\",\n",
       "              File \"<doctest q9c 1[0]>\", line 1, in <module>\n",
       "                assert isclose(model.params['const'], 0.0011427008449693891)\n",
       "                       ^^^^^^^^^^^^^^^^^^^^^^^^^^^^^^^^^^^^^^^^^^^^^^^^^^^^^\n",
       "            AssertionError"
      ]
     },
     "execution_count": 245,
     "metadata": {},
     "output_type": "execute_result"
    }
   ],
   "source": [
    "grader.check(\"q9c\")"
   ]
  },
  {
   "cell_type": "code",
   "execution_count": 246,
   "id": "e6a119d2",
   "metadata": {
    "tags": []
   },
   "outputs": [
    {
     "data": {
      "text/plain": [
       "np.float64(0.0002834856608026062)"
      ]
     },
     "execution_count": 246,
     "metadata": {},
     "output_type": "execute_result"
    }
   ],
   "source": [
    "# now we can see how well our model does on our testing data\n",
    "X_test = sm.add_constant(testing[feature])\n",
    "y_pred = model.predict(X_test).values\n",
    "\n",
    "# we compare the predictions to the actual values\n",
    "y_test = testing['logreturns'].values\n",
    "\n",
    "# we use mean squared error: the mean difference between y_test and y_pred, squared\n",
    "mse = ((y_test - y_pred)**2).mean()\n",
    "mse"
   ]
  },
  {
   "cell_type": "code",
   "execution_count": 247,
   "id": "f4f0bd24",
   "metadata": {
    "deletable": false,
    "editable": false
   },
   "outputs": [
    {
     "data": {
      "text/html": [
       "<p><strong><pre style='display: inline;'>q9d</pre></strong> passed! 🌟</p>"
      ],
      "text/plain": [
       "q9d results: All test cases passed!"
      ]
     },
     "execution_count": 247,
     "metadata": {},
     "output_type": "execute_result"
    }
   ],
   "source": [
    "grader.check(\"q9d\")"
   ]
  },
  {
   "cell_type": "markdown",
   "id": "ad45e215",
   "metadata": {},
   "source": [
    "# updating backtest "
   ]
  },
  {
   "cell_type": "code",
   "execution_count": 248,
   "id": "d74254ed",
   "metadata": {},
   "outputs": [],
   "source": [
    "# we also can look at our model's sharpe ratio on the testing data"
   ]
  },
  {
   "cell_type": "code",
   "execution_count": 249,
   "id": "30ada5da",
   "metadata": {
    "tags": []
   },
   "outputs": [
    {
     "data": {
      "text/plain": [
       "<Axes: xlabel='Date'>"
      ]
     },
     "execution_count": 249,
     "metadata": {},
     "output_type": "execute_result"
    },
    {
     "data": {
      "image/png": "[encoded data removed]",
      "text/plain": [
       "<Figure size 640x480 with 1 Axes>"
      ]
     },
     "metadata": {},
     "output_type": "display_data"
    }
   ],
   "source": [
    "\n",
    "# we can get the expected log returns by applying our model, with a constant, to the feature column\n",
    "\n",
    "testing['ex_logreturns'] = model.predict(sm.add_constant(testing[feature]))\n",
    "\n",
    "# we'll size our weights according to the cross sectional predictions\n",
    "# use transform again to do this\n",
    "# we want to have each weight be (ex_logreturn-mean ex_logreturn for date)/(sum of absolute ex_logreturns for date)\n",
    "\n",
    "testing['ex_weight'] = testing.groupby('Date')['ex_logreturns'].transform(\n",
    "    lambda x: (x - x.mean()) / x.abs().sum()\n",
    ")\n",
    "\n",
    "# and we multiply the forward log returns again\n",
    "testing['exstrategy_logreturns'] = testing['ex_weight'] * testing['fwd_logreturn']\n",
    "\n",
    "# and we plot once more\n",
    "testing.groupby('Date').sum()['exstrategy_logreturns'].cumsum().plot()"
   ]
  },
  {
   "cell_type": "code",
   "execution_count": 250,
   "id": "dc7b703d",
   "metadata": {
    "deletable": false,
    "editable": false
   },
   "outputs": [
    {
     "data": {
      "text/html": [
       "<p><strong style='color: red;'><pre style='display: inline;'>q10a</pre> results:</strong></p><p><strong><pre style='display: inline;'>q10a - 1</pre> result:</strong></p><pre>    ❌ Test case failed\n",
       "    Trying:\n",
       "        assert isclose(testing['exstrategy_logreturns'].mean(), 1.0620373849221123e-06)\n",
       "    Expecting nothing\n",
       "    **********************************************************************\n",
       "    Line 1, in q10a 0\n",
       "    Failed example:\n",
       "        assert isclose(testing['exstrategy_logreturns'].mean(), 1.0620373849221123e-06)\n",
       "    Exception raised:\n",
       "        Traceback (most recent call last):\n",
       "          File \"/srv/conda/lib/python3.11/doctest.py\", line 1355, in __run\n",
       "            exec(compile(example.source, filename, \"single\",\n",
       "          File \"<doctest q10a 0[0]>\", line 1, in <module>\n",
       "            assert isclose(testing['exstrategy_logreturns'].mean(), 1.0620373849221123e-06)\n",
       "                   ^^^^^^^^^^^^^^^^^^^^^^^^^^^^^^^^^^^^^^^^^^^^^^^^^^^^^^^^^^^^^^^^^^^^^^^^\n",
       "        AssertionError\n",
       "</pre>"
      ],
      "text/plain": [
       "q10a results:\n",
       "    q10a - 1 result:\n",
       "        ❌ Test case failed\n",
       "        Trying:\n",
       "            assert isclose(testing['exstrategy_logreturns'].mean(), 1.0620373849221123e-06)\n",
       "        Expecting nothing\n",
       "        **********************************************************************\n",
       "        Line 1, in q10a 0\n",
       "        Failed example:\n",
       "            assert isclose(testing['exstrategy_logreturns'].mean(), 1.0620373849221123e-06)\n",
       "        Exception raised:\n",
       "            Traceback (most recent call last):\n",
       "              File \"/srv/conda/lib/python3.11/doctest.py\", line 1355, in __run\n",
       "                exec(compile(example.source, filename, \"single\",\n",
       "              File \"<doctest q10a 0[0]>\", line 1, in <module>\n",
       "                assert isclose(testing['exstrategy_logreturns'].mean(), 1.0620373849221123e-06)\n",
       "                       ^^^^^^^^^^^^^^^^^^^^^^^^^^^^^^^^^^^^^^^^^^^^^^^^^^^^^^^^^^^^^^^^^^^^^^^^\n",
       "            AssertionError"
      ]
     },
     "execution_count": 250,
     "metadata": {},
     "output_type": "execute_result"
    }
   ],
   "source": [
    "grader.check(\"q10a\")"
   ]
  },
  {
   "cell_type": "code",
   "execution_count": 251,
   "id": "4b14bbff",
   "metadata": {
    "tags": []
   },
   "outputs": [],
   "source": [
    "# wow that looks very promising! let's calculate the sharpe ratio with fees\n",
    "# sort again\n",
    "testing = testing.sort_values([\"Ticker\", \"Date\"])\n",
    "# get previous ex_weight as before\n",
    "testing['prevex_weight'] = testing['ex_weight'].shift(1)\n",
    "# get change in weight as before\n",
    "testing['exstrategy_weightchange'] = testing['ex_weight'] - testing['prevex_weight']\n",
    "\n",
    "# get absolute change in position\n",
    "testing['exstrategy_fees'] = abs(testing['exstrategy_weightchange']) * fee\n",
    "# and find the return post fees\n",
    "testing['exstrategy_postfees'] = testing['exstrategy_logreturns'] - testing['exstrategy_fees'] \n"
   ]
  },
  {
   "cell_type": "code",
   "execution_count": 252,
   "id": "f3fc54ea",
   "metadata": {
    "deletable": false,
    "editable": false
   },
   "outputs": [
    {
     "data": {
      "text/html": [
       "<p><strong style='color: red;'><pre style='display: inline;'>q10b</pre> results:</strong></p><p><strong><pre style='display: inline;'>q10b - 1</pre> result:</strong></p><pre>    ❌ Test case failed\n",
       "    Trying:\n",
       "        assert isclose(np.abs(testing['exstrategy_postfees'].mean()), 9.185534624020494e-07)\n",
       "    Expecting nothing\n",
       "    **********************************************************************\n",
       "    Line 1, in q10b 0\n",
       "    Failed example:\n",
       "        assert isclose(np.abs(testing['exstrategy_postfees'].mean()), 9.185534624020494e-07)\n",
       "    Exception raised:\n",
       "        Traceback (most recent call last):\n",
       "          File \"/srv/conda/lib/python3.11/doctest.py\", line 1355, in __run\n",
       "            exec(compile(example.source, filename, \"single\",\n",
       "          File \"<doctest q10b 0[0]>\", line 1, in <module>\n",
       "            assert isclose(np.abs(testing['exstrategy_postfees'].mean()), 9.185534624020494e-07)\n",
       "                   ^^^^^^^^^^^^^^^^^^^^^^^^^^^^^^^^^^^^^^^^^^^^^^^^^^^^^^^^^^^^^^^^^^^^^^^^^^^^^\n",
       "        AssertionError\n",
       "</pre>"
      ],
      "text/plain": [
       "q10b results:\n",
       "    q10b - 1 result:\n",
       "        ❌ Test case failed\n",
       "        Trying:\n",
       "            assert isclose(np.abs(testing['exstrategy_postfees'].mean()), 9.185534624020494e-07)\n",
       "        Expecting nothing\n",
       "        **********************************************************************\n",
       "        Line 1, in q10b 0\n",
       "        Failed example:\n",
       "            assert isclose(np.abs(testing['exstrategy_postfees'].mean()), 9.185534624020494e-07)\n",
       "        Exception raised:\n",
       "            Traceback (most recent call last):\n",
       "              File \"/srv/conda/lib/python3.11/doctest.py\", line 1355, in __run\n",
       "                exec(compile(example.source, filename, \"single\",\n",
       "              File \"<doctest q10b 0[0]>\", line 1, in <module>\n",
       "                assert isclose(np.abs(testing['exstrategy_postfees'].mean()), 9.185534624020494e-07)\n",
       "                       ^^^^^^^^^^^^^^^^^^^^^^^^^^^^^^^^^^^^^^^^^^^^^^^^^^^^^^^^^^^^^^^^^^^^^^^^^^^^^\n",
       "            AssertionError"
      ]
     },
     "execution_count": 252,
     "metadata": {},
     "output_type": "execute_result"
    }
   ],
   "source": [
    "grader.check(\"q10b\")"
   ]
  },
  {
   "cell_type": "markdown",
   "id": "3db56cb0",
   "metadata": {},
   "source": [
    "# feature engineering"
   ]
  },
  {
   "cell_type": "code",
   "execution_count": 253,
   "id": "279c4952",
   "metadata": {},
   "outputs": [],
   "source": [
    "# let's try to add more features to see if we can make this model any better"
   ]
  },
  {
   "cell_type": "code",
   "execution_count": 254,
   "id": "b6c453c0",
   "metadata": {
    "tags": []
   },
   "outputs": [],
   "source": [
    "\n",
    "# first, let's create a function that makes the bar plot from before, so we can easily view any feature\n",
    "def summarize_feature(hdf, colname):\n",
    "    if hdf[colname].dtype == 'float':\n",
    "        # use qcut here, by deciles as before\n",
    "        bins = pd.qcut(hdf[\"demeaned_fwd_logreturn\"], 10, labels=False)\n",
    "        hdf.groupby(bins).mean()['demeaned_fwd_logreturn'].plot(kind='bar')\n",
    "    else:\n",
    "        hdf.groupby(colname).mean()['demeaned_fwd_logreturn'].plot(kind='bar')"
   ]
  },
  {
   "cell_type": "code",
   "execution_count": 255,
   "id": "3406af96",
   "metadata": {
    "deletable": false,
    "editable": false
   },
   "outputs": [
    {
     "data": {
      "text/html": [
       "<p><strong style='color: red;'><pre style='display: inline;'>q11a</pre> results:</strong></p><p><strong><pre style='display: inline;'>q11a - 1</pre> result:</strong></p><pre>    ❌ Test case failed\n",
       "    Trying:\n",
       "        assert isclose(hdf.groupby('logreturns').mean()['demeaned_fwd_logreturn'].max(), 0.29863292329834545)\n",
       "    Expecting nothing\n",
       "    **********************************************************************\n",
       "    Line 1, in q11a 0\n",
       "    Failed example:\n",
       "        assert isclose(hdf.groupby('logreturns').mean()['demeaned_fwd_logreturn'].max(), 0.29863292329834545)\n",
       "    Exception raised:\n",
       "        Traceback (most recent call last):\n",
       "          File \"/srv/conda/lib/python3.11/site-packages/pandas/core/groupby/groupby.py\", line 1942, in _agg_py_fallback\n",
       "            res_values = self._grouper.agg_series(ser, alt, preserve_dtype=True)\n",
       "                         ^^^^^^^^^^^^^^^^^^^^^^^^^^^^^^^^^^^^^^^^^^^^^^^^^^^^^^^\n",
       "          File \"/srv/conda/lib/python3.11/site-packages/pandas/core/groupby/ops.py\", line 864, in agg_series\n",
       "            result = self._aggregate_series_pure_python(obj, func)\n",
       "                     ^^^^^^^^^^^^^^^^^^^^^^^^^^^^^^^^^^^^^^^^^^^^^\n",
       "          File \"/srv/conda/lib/python3.11/site-packages/pandas/core/groupby/ops.py\", line 885, in _aggregate_series_pure_python\n",
       "            res = func(group)\n",
       "                  ^^^^^^^^^^^\n",
       "          File \"/srv/conda/lib/python3.11/site-packages/pandas/core/groupby/groupby.py\", line 2454, in <lambda>\n",
       "            alt=lambda x: Series(x, copy=False).mean(numeric_only=numeric_only),\n",
       "                          ^^^^^^^^^^^^^^^^^^^^^^^^^^^^^^^^^^^^^^^^^^^^^^^^^^^^^\n",
       "          File \"/srv/conda/lib/python3.11/site-packages/pandas/core/series.py\", line 6549, in mean\n",
       "            return NDFrame.mean(self, axis, skipna, numeric_only, **kwargs)\n",
       "                   ^^^^^^^^^^^^^^^^^^^^^^^^^^^^^^^^^^^^^^^^^^^^^^^^^^^^^^^^\n",
       "          File \"/srv/conda/lib/python3.11/site-packages/pandas/core/generic.py\", line 12420, in mean\n",
       "            return self._stat_function(\n",
       "                   ^^^^^^^^^^^^^^^^^^^^\n",
       "          File \"/srv/conda/lib/python3.11/site-packages/pandas/core/generic.py\", line 12377, in _stat_function\n",
       "            return self._reduce(\n",
       "                   ^^^^^^^^^^^^^\n",
       "          File \"/srv/conda/lib/python3.11/site-packages/pandas/core/series.py\", line 6457, in _reduce\n",
       "            return op(delegate, skipna=skipna, **kwds)\n",
       "                   ^^^^^^^^^^^^^^^^^^^^^^^^^^^^^^^^^^^\n",
       "          File \"/srv/conda/lib/python3.11/site-packages/pandas/core/nanops.py\", line 147, in f\n",
       "            result = alt(values, axis=axis, skipna=skipna, **kwds)\n",
       "                     ^^^^^^^^^^^^^^^^^^^^^^^^^^^^^^^^^^^^^^^^^^^^^\n",
       "          File \"/srv/conda/lib/python3.11/site-packages/pandas/core/nanops.py\", line 404, in new_func\n",
       "            result = func(values, axis=axis, skipna=skipna, mask=mask, **kwargs)\n",
       "                     ^^^^^^^^^^^^^^^^^^^^^^^^^^^^^^^^^^^^^^^^^^^^^^^^^^^^^^^^^^^\n",
       "          File \"/srv/conda/lib/python3.11/site-packages/pandas/core/nanops.py\", line 720, in nanmean\n",
       "            the_sum = _ensure_numeric(the_sum)\n",
       "                      ^^^^^^^^^^^^^^^^^^^^^^^^\n",
       "          File \"/srv/conda/lib/python3.11/site-packages/pandas/core/nanops.py\", line 1701, in _ensure_numeric\n",
       "            raise TypeError(f\"Could not convert string '{x}' to numeric\")\n",
       "        TypeError: Could not convert string 'PAYC' to numeric\n",
       "\n",
       "        The above exception was the direct cause of the following exception:\n",
       "\n",
       "        Traceback (most recent call last):\n",
       "          File \"/srv/conda/lib/python3.11/doctest.py\", line 1355, in __run\n",
       "            exec(compile(example.source, filename, \"single\",\n",
       "          File \"<doctest q11a 0[0]>\", line 1, in <module>\n",
       "            assert isclose(hdf.groupby('logreturns').mean()['demeaned_fwd_logreturn'].max(), 0.29863292329834545)\n",
       "                           ^^^^^^^^^^^^^^^^^^^^^^^^^^^^^^^^\n",
       "          File \"/srv/conda/lib/python3.11/site-packages/pandas/core/groupby/groupby.py\", line 2452, in mean\n",
       "            result = self._cython_agg_general(\n",
       "                     ^^^^^^^^^^^^^^^^^^^^^^^^^\n",
       "          File \"/srv/conda/lib/python3.11/site-packages/pandas/core/groupby/groupby.py\", line 1998, in _cython_agg_general\n",
       "            new_mgr = data.grouped_reduce(array_func)\n",
       "                      ^^^^^^^^^^^^^^^^^^^^^^^^^^^^^^^\n",
       "          File \"/srv/conda/lib/python3.11/site-packages/pandas/core/internals/managers.py\", line 1469, in grouped_reduce\n",
       "            applied = sb.apply(func)\n",
       "                      ^^^^^^^^^^^^^^\n",
       "          File \"/srv/conda/lib/python3.11/site-packages/pandas/core/internals/blocks.py\", line 393, in apply\n",
       "            result = func(self.values, **kwargs)\n",
       "                     ^^^^^^^^^^^^^^^^^^^^^^^^^^^\n",
       "          File \"/srv/conda/lib/python3.11/site-packages/pandas/core/groupby/groupby.py\", line 1995, in array_func\n",
       "            result = self._agg_py_fallback(how, values, ndim=data.ndim, alt=alt)\n",
       "                     ^^^^^^^^^^^^^^^^^^^^^^^^^^^^^^^^^^^^^^^^^^^^^^^^^^^^^^^^^^^\n",
       "          File \"/srv/conda/lib/python3.11/site-packages/pandas/core/groupby/groupby.py\", line 1946, in _agg_py_fallback\n",
       "            raise type(err)(msg) from err\n",
       "        TypeError: agg function failed [how->mean,dtype->object]\n",
       "</pre>"
      ],
      "text/plain": [
       "q11a results:\n",
       "    q11a - 1 result:\n",
       "        ❌ Test case failed\n",
       "        Trying:\n",
       "            assert isclose(hdf.groupby('logreturns').mean()['demeaned_fwd_logreturn'].max(), 0.29863292329834545)\n",
       "        Expecting nothing\n",
       "        **********************************************************************\n",
       "        Line 1, in q11a 0\n",
       "        Failed example:\n",
       "            assert isclose(hdf.groupby('logreturns').mean()['demeaned_fwd_logreturn'].max(), 0.29863292329834545)\n",
       "        Exception raised:\n",
       "            Traceback (most recent call last):\n",
       "              File \"/srv/conda/lib/python3.11/site-packages/pandas/core/groupby/groupby.py\", line 1942, in _agg_py_fallback\n",
       "                res_values = self._grouper.agg_series(ser, alt, preserve_dtype=True)\n",
       "                             ^^^^^^^^^^^^^^^^^^^^^^^^^^^^^^^^^^^^^^^^^^^^^^^^^^^^^^^\n",
       "              File \"/srv/conda/lib/python3.11/site-packages/pandas/core/groupby/ops.py\", line 864, in agg_series\n",
       "                result = self._aggregate_series_pure_python(obj, func)\n",
       "                         ^^^^^^^^^^^^^^^^^^^^^^^^^^^^^^^^^^^^^^^^^^^^^\n",
       "              File \"/srv/conda/lib/python3.11/site-packages/pandas/core/groupby/ops.py\", line 885, in _aggregate_series_pure_python\n",
       "                res = func(group)\n",
       "                      ^^^^^^^^^^^\n",
       "              File \"/srv/conda/lib/python3.11/site-packages/pandas/core/groupby/groupby.py\", line 2454, in <lambda>\n",
       "                alt=lambda x: Series(x, copy=False).mean(numeric_only=numeric_only),\n",
       "                              ^^^^^^^^^^^^^^^^^^^^^^^^^^^^^^^^^^^^^^^^^^^^^^^^^^^^^\n",
       "              File \"/srv/conda/lib/python3.11/site-packages/pandas/core/series.py\", line 6549, in mean\n",
       "                return NDFrame.mean(self, axis, skipna, numeric_only, **kwargs)\n",
       "                       ^^^^^^^^^^^^^^^^^^^^^^^^^^^^^^^^^^^^^^^^^^^^^^^^^^^^^^^^\n",
       "              File \"/srv/conda/lib/python3.11/site-packages/pandas/core/generic.py\", line 12420, in mean\n",
       "                return self._stat_function(\n",
       "                       ^^^^^^^^^^^^^^^^^^^^\n",
       "              File \"/srv/conda/lib/python3.11/site-packages/pandas/core/generic.py\", line 12377, in _stat_function\n",
       "                return self._reduce(\n",
       "                       ^^^^^^^^^^^^^\n",
       "              File \"/srv/conda/lib/python3.11/site-packages/pandas/core/series.py\", line 6457, in _reduce\n",
       "                return op(delegate, skipna=skipna, **kwds)\n",
       "                       ^^^^^^^^^^^^^^^^^^^^^^^^^^^^^^^^^^^\n",
       "              File \"/srv/conda/lib/python3.11/site-packages/pandas/core/nanops.py\", line 147, in f\n",
       "                result = alt(values, axis=axis, skipna=skipna, **kwds)\n",
       "                         ^^^^^^^^^^^^^^^^^^^^^^^^^^^^^^^^^^^^^^^^^^^^^\n",
       "              File \"/srv/conda/lib/python3.11/site-packages/pandas/core/nanops.py\", line 404, in new_func\n",
       "                result = func(values, axis=axis, skipna=skipna, mask=mask, **kwargs)\n",
       "                         ^^^^^^^^^^^^^^^^^^^^^^^^^^^^^^^^^^^^^^^^^^^^^^^^^^^^^^^^^^^\n",
       "              File \"/srv/conda/lib/python3.11/site-packages/pandas/core/nanops.py\", line 720, in nanmean\n",
       "                the_sum = _ensure_numeric(the_sum)\n",
       "                          ^^^^^^^^^^^^^^^^^^^^^^^^\n",
       "              File \"/srv/conda/lib/python3.11/site-packages/pandas/core/nanops.py\", line 1701, in _ensure_numeric\n",
       "                raise TypeError(f\"Could not convert string '{x}' to numeric\")\n",
       "            TypeError: Could not convert string 'PAYC' to numeric\n",
       "\n",
       "            The above exception was the direct cause of the following exception:\n",
       "\n",
       "            Traceback (most recent call last):\n",
       "              File \"/srv/conda/lib/python3.11/doctest.py\", line 1355, in __run\n",
       "                exec(compile(example.source, filename, \"single\",\n",
       "              File \"<doctest q11a 0[0]>\", line 1, in <module>\n",
       "                assert isclose(hdf.groupby('logreturns').mean()['demeaned_fwd_logreturn'].max(), 0.29863292329834545)\n",
       "                               ^^^^^^^^^^^^^^^^^^^^^^^^^^^^^^^^\n",
       "              File \"/srv/conda/lib/python3.11/site-packages/pandas/core/groupby/groupby.py\", line 2452, in mean\n",
       "                result = self._cython_agg_general(\n",
       "                         ^^^^^^^^^^^^^^^^^^^^^^^^^\n",
       "              File \"/srv/conda/lib/python3.11/site-packages/pandas/core/groupby/groupby.py\", line 1998, in _cython_agg_general\n",
       "                new_mgr = data.grouped_reduce(array_func)\n",
       "                          ^^^^^^^^^^^^^^^^^^^^^^^^^^^^^^^\n",
       "              File \"/srv/conda/lib/python3.11/site-packages/pandas/core/internals/managers.py\", line 1469, in grouped_reduce\n",
       "                applied = sb.apply(func)\n",
       "                          ^^^^^^^^^^^^^^\n",
       "              File \"/srv/conda/lib/python3.11/site-packages/pandas/core/internals/blocks.py\", line 393, in apply\n",
       "                result = func(self.values, **kwargs)\n",
       "                         ^^^^^^^^^^^^^^^^^^^^^^^^^^^\n",
       "              File \"/srv/conda/lib/python3.11/site-packages/pandas/core/groupby/groupby.py\", line 1995, in array_func\n",
       "                result = self._agg_py_fallback(how, values, ndim=data.ndim, alt=alt)\n",
       "                         ^^^^^^^^^^^^^^^^^^^^^^^^^^^^^^^^^^^^^^^^^^^^^^^^^^^^^^^^^^^\n",
       "              File \"/srv/conda/lib/python3.11/site-packages/pandas/core/groupby/groupby.py\", line 1946, in _agg_py_fallback\n",
       "                raise type(err)(msg) from err\n",
       "            TypeError: agg function failed [how->mean,dtype->object]"
      ]
     },
     "execution_count": 255,
     "metadata": {},
     "output_type": "execute_result"
    }
   ],
   "source": [
    "grader.check(\"q11a\")"
   ]
  },
  {
   "cell_type": "code",
   "execution_count": 264,
   "id": "61f1e99e",
   "metadata": {
    "tags": []
   },
   "outputs": [
    {
     "ename": "SyntaxError",
     "evalue": "invalid syntax (2487888251.py, line 3)",
     "output_type": "error",
     "traceback": [
      "  \u001b[36mCell\u001b[39m\u001b[36m \u001b[39m\u001b[32mIn[264]\u001b[39m\u001b[32m, line 3\u001b[39m\n\u001b[31m    \u001b[39m\u001b[31mcolumns =\u001b[39m\n              ^\n\u001b[31mSyntaxError\u001b[39m\u001b[31m:\u001b[39m invalid syntax\n"
     ]
    }
   ],
   "source": [
    "# let's reincorporate sector data into this dataframe\n",
    "# we can do this using the merge function in pandas\n",
    "columns = \n",
    "hdf = hdf.merge(df[[columns]], on='Ticker', how='left')"
   ]
  },
  {
   "cell_type": "code",
   "execution_count": null,
   "id": "4bf3bf87",
   "metadata": {
    "deletable": false,
    "editable": false
   },
   "outputs": [],
   "source": [
    "grader.check(\"q11b\")"
   ]
  },
  {
   "cell_type": "code",
   "execution_count": null,
   "id": "e6d9da90",
   "metadata": {
    "tags": []
   },
   "outputs": [],
   "source": [
    "# another possible feature idea could be notional volume, or the dollar amount of shares traded\n",
    "# we can get notional volume by multiplying the close price with the shares traded\n",
    "hdf['ntlvolume'] = ..."
   ]
  },
  {
   "cell_type": "code",
   "execution_count": null,
   "id": "95fd7188",
   "metadata": {
    "deletable": false,
    "editable": false
   },
   "outputs": [],
   "source": [
    "grader.check(\"q11c\")"
   ]
  },
  {
   "cell_type": "code",
   "execution_count": null,
   "id": "fee7971a",
   "metadata": {},
   "outputs": [],
   "source": [
    "# feel free to create more features here, and use the below functions to test them!"
   ]
  },
  {
   "cell_type": "markdown",
   "id": "bd24cb39",
   "metadata": {},
   "source": [
    "# testing!"
   ]
  },
  {
   "cell_type": "code",
   "execution_count": 265,
   "id": "914afb59",
   "metadata": {},
   "outputs": [],
   "source": [
    "def load_model(hdf, features, train_test_split=0.8, debug=0):\n",
    "    # split the data into training and testing using .iloc\n",
    "    train_percent = 0.8\n",
    "    \n",
    "    # make sure to split according to time series!\n",
    "    hdf = hdf.sort_values(['Date', 'Ticker'])\n",
    "    training = hdf.iloc[:int(len(hdf) * train_percent)]\n",
    "    testing = hdf.iloc[int(len(hdf) * train_percent):]\n",
    "    \n",
    "    target = ['fwd_logreturn']\n",
    "    \n",
    "    # Identify categorical features based on data type\n",
    "    categorical_features = training[features].select_dtypes(include=['object', 'category']).columns.tolist()\n",
    "    \n",
    "    # one hot encoding for categorical features\n",
    "    # we essentially create a bunch of extra columns, and assign them as ones and zeros\n",
    "    training = pd.get_dummies(training, columns=categorical_features)\n",
    "    testing = pd.get_dummies(testing, columns=categorical_features)\n",
    "    \n",
    "    # Update the features list to include dummy variables\n",
    "    features = [col for col in training.columns if col in features or col.startswith(tuple(categorical_features))]\n",
    "    if debug > 0:\n",
    "        print(f'features: {features}')\n",
    "    X_train = training[features]\n",
    "    X_train = sm.add_constant(X_train)\n",
    "    y_train = training[target]\n",
    "    \n",
    "    model = sm.OLS(y_train, X_train).fit()\n",
    "    if debug > 0:\n",
    "        print(f'r_squared: {model.rsquared}')\n",
    "    \n",
    "    # For testing data\n",
    "    X_test = testing[features]  # Include the same features used for training\n",
    "    X_test = sm.add_constant(X_test)\n",
    "    \n",
    "    return testing, model, X_test, debug  # Return testing data along with the model and testing features\n",
    "\n",
    "def basic_backtest(testing, model, X_test, debug, fee=0.0002):\n",
    "    testing['ex_logreturns'] = model.predict(X_test)  # Use X_test for prediction\n",
    "    testing['ex_weight'] = testing.groupby('Date')['ex_logreturns'].transform(lambda x: (x - x.mean()) / x.abs().sum())\n",
    "    testing['exstrategy_logreturns'] = testing['ex_weight'] * testing['fwd_logreturn']\n",
    "    testing = testing.sort_values(by=['Ticker', 'Date'])\n",
    "    testing['prevex_weight'] = testing.groupby('Ticker')['ex_weight'].shift(1)\n",
    "    testing['exstrategy_weightchange'] = testing['ex_weight'] - testing['prevex_weight']\n",
    "    testing['exstrategy_fees'] = abs(testing['exstrategy_weightchange']) * fee\n",
    "    testing['exstrategy_postfees'] = testing['strategy_logreturn'] - testing['exstrategy_fees']\n",
    "    if debug > 0:\n",
    "        testing.groupby('Date').sum()['exstrategy_fees']\n",
    "    testing.groupby('Date').sum()['exstrategy_postfees'].cumsum().plot()\n",
    "    print(f\"sharpe_ratio: {sharpe_ratio(testing.groupby('Date').sum()['exstrategy_postfees'].mean(), testing.groupby('Date').sum()['exstrategy_postfees'].std())}\")\n",
    "    if debug > 1:\n",
    "        plt.figure(figsize=(12, 8))\n",
    "        for symbol in testing['Ticker'].unique():\n",
    "#             print(symbol)\n",
    "            asset_weights = testing[testing['Ticker'] == symbol].set_index('Date')['ex_weight']\n",
    "            asset_weights.plot(label=symbol)\n",
    "        plt.title('Rolling Weights of Assets')\n",
    "        plt.xlabel('Date')\n",
    "        plt.ylabel('Weight')\n",
    "        plt.legend()\n",
    "        plt.show()"
   ]
  },
  {
   "cell_type": "code",
   "execution_count": 266,
   "id": "c5772688",
   "metadata": {},
   "outputs": [
    {
     "name": "stdout",
     "output_type": "stream",
     "text": [
      "features: ['logreturns']\n",
      "r_squared: 9.583647346300683e-05\n",
      "sharpe_ratio: -4.996347569017485\n"
     ]
    },
    {
     "data": {
      "image/png": "[encoded data removed]",
      "text/plain": [
       "<Figure size 640x480 with 1 Axes>"
      ]
     },
     "metadata": {},
     "output_type": "display_data"
    }
   ],
   "source": [
    "# use the debug levels to get more or less information\n",
    "# pass your features into the list here\n",
    "# be very careful when changing the above functions!\n",
    "features = ['logreturns']\n",
    "basic_backtest(*(load_model(hdf, features, debug=1)), fee=0.0002)"
   ]
  },
  {
   "cell_type": "code",
   "execution_count": null,
   "id": "631d72b1",
   "metadata": {},
   "outputs": [],
   "source": [
    "# there's much more to cover in the realm of researching and testing systematic trading strategies\n",
    "# importantly, we haven't covered much about risk modeling, and portfolio optimization \n",
    "# check out https://www.alacra.com/alacra/help/barra_handbook_US.pdf \n",
    "# for a good introduction to risk modeling, if you're curious!"
   ]
  },
  {
   "cell_type": "markdown",
   "id": "74be3a38",
   "metadata": {
    "deletable": false,
    "editable": false
   },
   "source": [
    "## Submission\n",
    "\n",
    "Make sure you have run all cells in your notebook in order before running the cell below, so that all images/graphs appear in the output. The cell below will generate a zip file for you to submit. **Please save before exporting!**\n",
    "\n",
    "Please also check gradescope for any written assignments for this week."
   ]
  },
  {
   "cell_type": "code",
   "execution_count": null,
   "id": "15f07a31",
   "metadata": {
    "deletable": false,
    "editable": false
   },
   "outputs": [],
   "source": [
    "# Save your notebook first, then run this cell to export your submission.\n",
    "grader.export(pdf=False)"
   ]
  },
  {
   "cell_type": "markdown",
   "id": "f4cce917",
   "metadata": {},
   "source": [
    " "
   ]
  }
 ],
 "metadata": {
  "kernelspec": {
   "display_name": "Python 3 (ipykernel)",
   "language": "python",
   "name": "python3"
  },
  "language_info": {
   "codemirror_mode": {
    "name": "ipython",
    "version": 3
   },
   "file_extension": ".py",
   "mimetype": "text/x-python",
   "name": "python",
   "nbconvert_exporter": "python",
   "pygments_lexer": "ipython3",
   "version": "3.11.12"
  },
  "otter": {
   "OK_FORMAT": true,
   "tests": {
    "q10a": {
     "name": "q10a",
     "points": 1,
     "suites": [
      {
       "cases": [
        {
         "code": ">>> assert isclose(testing['exstrategy_logreturns'].mean(), 1.0620373849221123e-06)\n",
         "hidden": false,
         "locked": false,
         "points": 1
        }
       ],
       "scored": true,
       "setup": "",
       "teardown": "",
       "type": "doctest"
      }
     ]
    },
    "q10b": {
     "name": "q10b",
     "points": 1,
     "suites": [
      {
       "cases": [
        {
         "code": ">>> assert isclose(np.abs(testing['exstrategy_postfees'].mean()), 9.185534624020494e-07)\n",
         "hidden": false,
         "locked": false,
         "points": 1
        }
       ],
       "scored": true,
       "setup": "",
       "teardown": "",
       "type": "doctest"
      }
     ]
    },
    "q11a": {
     "name": "q11a",
     "points": 1,
     "suites": [
      {
       "cases": [
        {
         "code": ">>> assert isclose(hdf.groupby('logreturns').mean()['demeaned_fwd_logreturn'].max(), 0.29863292329834545)\n",
         "hidden": false,
         "locked": false,
         "points": 1
        }
       ],
       "scored": true,
       "setup": "",
       "teardown": "",
       "type": "doctest"
      }
     ]
    },
    "q11b": {
     "name": "q11b",
     "points": 1,
     "suites": [
      {
       "cases": [
        {
         "code": ">>> assert hdf.shape == (56885, 24)\n",
         "hidden": false,
         "locked": false,
         "points": 1
        }
       ],
       "scored": true,
       "setup": "",
       "teardown": "",
       "type": "doctest"
      }
     ]
    },
    "q11c": {
     "name": "q11c",
     "points": 1,
     "suites": [
      {
       "cases": [
        {
         "code": ">>> assert isclose(hdf['ntlvolume'].mean(),570866467.8644993)\n",
         "hidden": false,
         "locked": false,
         "points": 1
        }
       ],
       "scored": true,
       "setup": "",
       "teardown": "",
       "type": "doctest"
      }
     ]
    },
    "q1a": {
     "name": "q1a",
     "points": 1,
     "suites": [
      {
       "cases": [
        {
         "code": ">>> assert len(df_head5) == 5\n",
         "hidden": false,
         "locked": false,
         "points": 1
        }
       ],
       "scored": true,
       "setup": "",
       "teardown": "",
       "type": "doctest"
      }
     ]
    },
    "q1b": {
     "name": "q1b",
     "points": 1,
     "suites": [
      {
       "cases": [
        {
         "code": ">>> assert len(columns) == 3\n",
         "hidden": false,
         "locked": false,
         "points": 1
        }
       ],
       "scored": true,
       "setup": "",
       "teardown": "",
       "type": "doctest"
      }
     ]
    },
    "q1c": {
     "name": "q1c",
     "points": 1,
     "suites": [
      {
       "cases": [
        {
         "code": ">>> assert unique_sectors == 11\n",
         "hidden": false,
         "locked": false,
         "points": 1
        }
       ],
       "scored": true,
       "setup": "",
       "teardown": "",
       "type": "doctest"
      }
     ]
    },
    "q1d": {
     "name": "q1d",
     "points": 1,
     "suites": [
      {
       "cases": [
        {
         "code": ">>> assert it_sectors == 65\n",
         "hidden": false,
         "locked": false,
         "points": 1
        },
        {
         "code": ">>> it_sectors\n65",
         "hidden": false,
         "locked": false
        }
       ],
       "scored": true,
       "setup": "",
       "teardown": "",
       "type": "doctest"
      }
     ]
    },
    "q1e": {
     "name": "q1e",
     "points": 1,
     "suites": [
      {
       "cases": [
        {
         "code": ">>> assert specified_slice.shape == (5,6)\n",
         "hidden": false,
         "locked": false,
         "points": 1
        }
       ],
       "scored": true,
       "setup": "",
       "teardown": "",
       "type": "doctest"
      }
     ]
    },
    "q1f": {
     "name": "q1f",
     "points": 1,
     "suites": [
      {
       "cases": [
        {
         "code": ">>> assert false_healthcare == 439\n",
         "hidden": false,
         "locked": false,
         "points": 1
        }
       ],
       "scored": true,
       "setup": "",
       "teardown": "",
       "type": "doctest"
      }
     ]
    },
    "q1g": {
     "name": "q1g",
     "points": 1,
     "suites": [
      {
       "cases": [
        {
         "code": ">>> assert energy['CIK'].sum() == 19373487\n",
         "hidden": false,
         "locked": false,
         "points": 1
        }
       ],
       "scored": true,
       "setup": "",
       "teardown": "",
       "type": "doctest"
      }
     ]
    },
    "q1h": {
     "name": "q1h",
     "points": 1,
     "suites": [
      {
       "cases": [
        {
         "code": ">>> assert first4cols_industrials.shape == (79,4)\n",
         "hidden": false,
         "locked": false,
         "points": 1
        }
       ],
       "scored": true,
       "setup": "",
       "teardown": "",
       "type": "doctest"
      }
     ]
    },
    "q1i": {
     "name": "q1i",
     "points": 1,
     "suites": [
      {
       "cases": [
        {
         "code": ">>> assert old_3_security == 'Bath & Body Works, Inc.'\n",
         "hidden": false,
         "locked": false,
         "points": 1
        }
       ],
       "scored": true,
       "setup": "",
       "teardown": "",
       "type": "doctest"
      }
     ]
    },
    "q1j": {
     "name": "q1j",
     "points": 1,
     "suites": [
      {
       "cases": [
        {
         "code": ">>> assert np.isclose(mean_realestate_cik, 956436.7741935484)\n",
         "hidden": false,
         "locked": false,
         "points": 1
        }
       ],
       "scored": true,
       "setup": "",
       "teardown": "",
       "type": "doctest"
      }
     ]
    },
    "q2a": {
     "name": "q2a",
     "points": 1,
     "suites": [
      {
       "cases": [
        {
         "code": ">>> assert hdf.shape == hdf.shape\n",
         "hidden": false,
         "locked": false,
         "points": 1
        }
       ],
       "scored": true,
       "setup": "",
       "teardown": "",
       "type": "doctest"
      }
     ]
    },
    "q2b": {
     "name": "q2b",
     "points": 1,
     "suites": [
      {
       "cases": [
        {
         "code": ">>> assert hdf.columns.size == 1006\n",
         "hidden": false,
         "locked": false,
         "points": 1
        }
       ],
       "scored": true,
       "setup": "",
       "teardown": "",
       "type": "doctest"
      }
     ]
    },
    "q2c": {
     "name": "q2c",
     "points": 1,
     "suites": [
      {
       "cases": [
        {
         "code": ">>> assert broken_df.shape[1] == 8\n",
         "hidden": false,
         "locked": false,
         "points": 1
        }
       ],
       "scored": true,
       "setup": "",
       "teardown": "",
       "type": "doctest"
      }
     ]
    },
    "q2d": {
     "name": "q2d",
     "points": 1,
     "suites": [
      {
       "cases": [
        {
         "code": ">>> assert hdf.shape == (115, 998)\n",
         "hidden": false,
         "locked": false,
         "points": 1
        }
       ],
       "scored": true,
       "setup": "",
       "teardown": "",
       "type": "doctest"
      }
     ]
    },
    "q3a": {
     "name": "q3a",
     "points": 1,
     "suites": [
      {
       "cases": [
        {
         "code": ">>> assert np.isclose(logtosimple(1),1.718281828459045)\n",
         "hidden": false,
         "locked": false,
         "points": 1
        }
       ],
       "scored": true,
       "setup": "",
       "teardown": "",
       "type": "doctest"
      }
     ]
    },
    "q3b": {
     "name": "q3b",
     "points": 1,
     "suites": [
      {
       "cases": [
        {
         "code": ">>> assert np.isclose(simpletolog(1),0.6931471805599453)\n",
         "hidden": false,
         "locked": false,
         "points": 1
        }
       ],
       "scored": true,
       "setup": "",
       "teardown": "",
       "type": "doctest"
      }
     ]
    },
    "q3c": {
     "name": "q3c",
     "points": 1,
     "suites": [
      {
       "cases": [
        {
         "code": ">>> assert aal.shape == (115,2)\n",
         "hidden": false,
         "locked": false,
         "points": 1
        }
       ],
       "scored": true,
       "setup": "",
       "teardown": "",
       "type": "doctest"
      }
     ]
    },
    "q3d": {
     "name": "q3d",
     "points": 1,
     "suites": [
      {
       "cases": [
        {
         "code": ">>> assert list(aal.columns.get_level_values(0).values) == ['Adj Close', 'Volume']\n",
         "hidden": false,
         "locked": false,
         "points": 1
        }
       ],
       "scored": true,
       "setup": "",
       "teardown": "",
       "type": "doctest"
      }
     ]
    },
    "q3e": {
     "name": "q3e",
     "points": 1,
     "suites": [
      {
       "cases": [
        {
         "code": ">>> assert isclose(aal['returns'].mean(),0.0011150589519497269)\n",
         "hidden": false,
         "locked": false,
         "points": 1
        }
       ],
       "scored": true,
       "setup": "",
       "teardown": "",
       "type": "doctest"
      }
     ]
    },
    "q3f": {
     "name": "q3f",
     "points": 1,
     "suites": [
      {
       "cases": [
        {
         "code": ">>> assert isclose(aal['logreturns'].mean(),0.0007902055534179764)\n",
         "hidden": false,
         "locked": false,
         "points": 1
        }
       ],
       "scored": true,
       "setup": "",
       "teardown": "",
       "type": "doctest"
      }
     ]
    },
    "q3g": {
     "name": "q3g",
     "points": 1,
     "suites": [
      {
       "cases": [
        {
         "code": ">>> assert isclose(aal['cum_logreturns'].mean(),0.05021465552608881)\n",
         "hidden": false,
         "locked": false,
         "points": 1
        }
       ],
       "scored": true,
       "setup": "",
       "teardown": "",
       "type": "doctest"
      }
     ]
    },
    "q4a": {
     "name": "q4a",
     "points": 1,
     "suites": [
      {
       "cases": [
        {
         "code": ">>> assert isclose(hdf['returns'].mean(), 0.0017457801190514555)\n",
         "hidden": false,
         "locked": false,
         "points": 1
        }
       ],
       "scored": true,
       "setup": "",
       "teardown": "",
       "type": "doctest"
      }
     ]
    },
    "q4b": {
     "name": "q4b",
     "points": 1,
     "suites": [
      {
       "cases": [
        {
         "code": ">>> assert isclose(hdf['logreturns'].mean(), 0.0015072870289151654)\n",
         "hidden": false,
         "locked": false,
         "points": 1
        }
       ],
       "scored": true,
       "setup": "",
       "teardown": "",
       "type": "doctest"
      }
     ]
    },
    "q4c": {
     "name": "q4c",
     "points": 1,
     "suites": [
      {
       "cases": [
        {
         "code": ">>> assert isclose(np.abs((hdf['logreturns'] - hdf['fwd_logreturn']).mean()),7.94025278927628e-05)\n",
         "hidden": false,
         "locked": false,
         "points": 1
        }
       ],
       "scored": true,
       "setup": "",
       "teardown": "",
       "type": "doctest"
      }
     ]
    },
    "q4d": {
     "name": "q4d",
     "points": 1,
     "suites": [
      {
       "cases": [
        {
         "code": ">>> assert hdf.shape == (56161, 7)\n",
         "hidden": false,
         "locked": false,
         "points": 1
        }
       ],
       "scored": true,
       "setup": "",
       "teardown": "",
       "type": "doctest"
      }
     ]
    },
    "q5a": {
     "name": "q5a",
     "points": 1,
     "suites": [
      {
       "cases": [
        {
         "code": ">>> assert hdf['logreturn_rank'].values[0] == 392.0\n",
         "hidden": false,
         "locked": false,
         "points": 1
        }
       ],
       "scored": true,
       "setup": "",
       "teardown": "",
       "type": "doctest"
      }
     ]
    },
    "q5b": {
     "name": "q5b",
     "points": 1,
     "suites": [
      {
       "cases": [
        {
         "code": ">>> assert isclose(np.abs(hdf['demeaned_fwd_logreturn'].mean()),\n...                np.abs((hdf['fwd_logreturn'] - date_mean_fwd_logreturns).mean()))\n",
         "hidden": false,
         "locked": false,
         "points": 1
        }
       ],
       "scored": true,
       "setup": "",
       "teardown": "",
       "type": "doctest"
      }
     ]
    },
    "q6a": {
     "name": "q6a",
     "points": 1,
     "suites": [
      {
       "cases": [
        {
         "code": ">>> assert isclose(np.abs(hdf['long/short'].sum()), 1)\n",
         "hidden": false,
         "locked": false,
         "points": 1
        }
       ],
       "scored": true,
       "setup": "",
       "teardown": "",
       "type": "doctest"
      }
     ]
    },
    "q6b": {
     "name": "q6b",
     "points": 1,
     "suites": [
      {
       "cases": [
        {
         "code": ">>> assert isclose(hdf['absposition'].sum(),23116)\n",
         "hidden": false,
         "locked": false,
         "points": 1
        }
       ],
       "scored": true,
       "setup": "",
       "teardown": "",
       "type": "doctest"
      }
     ]
    },
    "q6c": {
     "name": "q6c",
     "points": 1,
     "suites": [
      {
       "cases": [
        {
         "code": ">>> assert isclose(hdf['numpositions'].sum(),11580916)\n",
         "hidden": false,
         "locked": false,
         "points": 1
        }
       ],
       "scored": true,
       "setup": "",
       "teardown": "",
       "type": "doctest"
      }
     ]
    },
    "q6d": {
     "name": "q6d",
     "points": 1,
     "suites": [
      {
       "cases": [
        {
         "code": ">>> assert isclose(np.abs(hdf['weight'].mean()), 8.745933687456209e-08)\n",
         "hidden": false,
         "locked": false,
         "points": 1
        }
       ],
       "scored": true,
       "setup": "",
       "teardown": "",
       "type": "doctest"
      }
     ]
    },
    "q6e": {
     "name": "q6e",
     "points": 1,
     "suites": [
      {
       "cases": [
        {
         "code": ">>> assert isclose(np.abs(hdf['strategy_logreturn'].mean()), 8.559054707207952e-07)\n",
         "hidden": false,
         "locked": false,
         "points": 1
        }
       ],
       "scored": true,
       "setup": "",
       "teardown": "",
       "type": "doctest"
      }
     ]
    },
    "q6f": {
     "name": "q6f",
     "points": 1,
     "suites": [
      {
       "cases": [
        {
         "code": ">>> assert isclose(hdf['equal_logreturn'].mean(), 3.1830282614279954e-06)\n",
         "hidden": false,
         "locked": false,
         "points": 1
        }
       ],
       "scored": true,
       "setup": "",
       "teardown": "",
       "type": "doctest"
      }
     ]
    },
    "q7a": {
     "name": "q7a",
     "points": 1,
     "suites": [
      {
       "cases": [
        {
         "code": ">>> assert isclose(final_equalreturn, 0.19573618511585034)\n",
         "hidden": false,
         "locked": false,
         "points": 1
        }
       ],
       "scored": true,
       "setup": "",
       "teardown": "",
       "type": "doctest"
      }
     ]
    },
    "q7c": {
     "name": "q7c",
     "points": 1,
     "suites": [
      {
       "cases": [
        {
         "code": ">>> assert isclose(equal_sharpe, 3.1044873685151626)\n",
         "hidden": false,
         "locked": false,
         "points": 1
        }
       ],
       "scored": true,
       "setup": "",
       "teardown": "",
       "type": "doctest"
      }
     ]
    },
    "q8a": {
     "name": "q8a",
     "points": 1,
     "suites": [
      {
       "cases": [
        {
         "code": ">>> assert isclose(equal_sharpe, 3.0157625925259532)\n",
         "hidden": false,
         "locked": false,
         "points": 1
        }
       ],
       "scored": true,
       "setup": "",
       "teardown": "",
       "type": "doctest"
      }
     ]
    },
    "q8b": {
     "name": "q8b",
     "points": 1,
     "suites": [
      {
       "cases": [
        {
         "code": ">>> assert isclose(equal_sharpe, 3.0157625925259532)\n",
         "hidden": false,
         "locked": false,
         "points": 1
        }
       ],
       "scored": true,
       "setup": "",
       "teardown": "",
       "type": "doctest"
      }
     ]
    },
    "q8c": {
     "name": "q8c",
     "points": 1,
     "suites": [
      {
       "cases": [
        {
         "code": ">>> assert isclose(equal_sharpe, 3.0436630129744557)\n",
         "hidden": false,
         "locked": false,
         "points": 1
        }
       ],
       "scored": true,
       "setup": "",
       "teardown": "",
       "type": "doctest"
      }
     ]
    },
    "q9a": {
     "name": "q9a",
     "points": 1,
     "suites": [
      {
       "cases": [
        {
         "code": ">>> assert training.shape == (45508, 22)\n",
         "hidden": false,
         "locked": false,
         "points": 1
        }
       ],
       "scored": true,
       "setup": "",
       "teardown": "",
       "type": "doctest"
      }
     ]
    },
    "q9b": {
     "name": "q9b",
     "points": 1,
     "suites": [
      {
       "cases": [
        {
         "code": ">>> model.rsquared\n0.05403784673350487",
         "hidden": false,
         "locked": false
        },
        {
         "code": ">>> assert isclose(model.rsquared, 0.05333756613777707)\n",
         "hidden": false,
         "locked": false,
         "points": 1
        }
       ],
       "scored": true,
       "setup": "",
       "teardown": "",
       "type": "doctest"
      }
     ]
    },
    "q9c": {
     "name": "q9c",
     "points": 2,
     "suites": [
      {
       "cases": [
        {
         "code": ">>> assert isclose(model.params['logreturns'], 0.2324590858601042)\n",
         "hidden": false,
         "locked": false,
         "points": 1
        },
        {
         "code": ">>> assert isclose(model.params['const'], 0.0011427008449693891)\n",
         "hidden": false,
         "locked": false,
         "points": 1
        }
       ],
       "scored": true,
       "setup": "",
       "teardown": "",
       "type": "doctest"
      }
     ]
    },
    "q9d": {
     "name": "q9d",
     "points": 1,
     "suites": [
      {
       "cases": [
        {
         "code": ">>> assert isclose(mse, 0.0002948418585430239)\n",
         "hidden": false,
         "locked": false,
         "points": 1
        }
       ],
       "scored": true,
       "setup": "",
       "teardown": "",
       "type": "doctest"
      }
     ]
    }
   }
  }
 },
 "nbformat": 4,
 "nbformat_minor": 5
}
